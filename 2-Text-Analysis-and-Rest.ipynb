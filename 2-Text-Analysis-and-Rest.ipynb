{
 "cells": [
  {
   "cell_type": "markdown",
   "metadata": {},
   "source": [
    "# Calculating \"Lyrical Brutality Index\" and overall \"Total Brutality Index\"\n",
    "\n",
    "A walkthrough, requesting / scraping songtext data from genius.com. Calculating a 'Lyrical Brutality Index' for all Cannibal Corpse songs and combining it with the \"Sonic Brutality Index\" to the \"Total Brutality Index.\" Revealing the most brutal Cannibal Corpse song of all times. ;-)\n",
    "\n",
    "_Disclaimer: This notebook contains VERY, VERY EXPLICIT LYRICS._\n",
    "\n",
    "**Resources**\n",
    "\n",
    "- [The NRC Valence, Arousal, and Dominance Lexicon](http://saifmohammad.com/WebPages/nrc-vad.html)\n",
    "- [Blogpost on scraping song lyrics](https://chrishyland.github.io/scraping-from-genius/) - Thanks to Chris Hyland for this!\n",
    "- [Genius API documentation](https://docs.genius.com/#/getting-started-h1) \n",
    "\n",
    "\n",
    "**Data Input:**\n",
    "\n",
    "- `data/interim/audio_data.csv`: DataFrame of all CC tracks with \"Sonic Brutality Index\" (from notebook 1)\n",
    "- `data/raw/NRC-VAD-Lexicon.txt`: Data of approx 20'000 words with valence, arousal and dominance scores\n",
    "\n",
    "**Data Output:**\n",
    "\n",
    "- `data/processed/wbi_lexicon.csv`: DataFrame containing 20'000 words with their corresponding 'Word Brutality Index\"\n",
    "- `data/processed/final_CC_song_data.csv`: Final DataFrame of all CC tracks complete with TBI, sbi, lbi\n",
    "\n",
    "**Changes**\n",
    "\n",
    "- 2019-02-27: Start notebook\n",
    "- 20-02-29: Complete analysis"
   ]
  },
  {
   "cell_type": "markdown",
   "metadata": {
    "toc": true
   },
   "source": [
    "<h1>Table of Contents<span class=\"tocSkip\"></span></h1>\n",
    "<div class=\"toc\"><ul class=\"toc-item\"><li><span><a href=\"#Import-libraries\" data-toc-modified-id=\"Import-libraries-1\"><span class=\"toc-item-num\">1&nbsp;&nbsp;</span>Import libraries</a></span></li><li><span><a href=\"#Load-and-Prepare-Lexicon\" data-toc-modified-id=\"Load-and-Prepare-Lexicon-2\"><span class=\"toc-item-num\">2&nbsp;&nbsp;</span>Load and Prepare Lexicon</a></span></li><li><span><a href=\"#Scrape-and-Prepare-Lyrics\" data-toc-modified-id=\"Scrape-and-Prepare-Lyrics-3\"><span class=\"toc-item-num\">3&nbsp;&nbsp;</span>Scrape and Prepare Lyrics</a></span></li><li><span><a href='#Define-and-calculate-the-\"Lyrical-Brutality-Index\"' data-toc-modified-id='Define-and-calculate-the-\"Lyrical-Brutality-Index\"-4'><span class=\"toc-item-num\">4&nbsp;&nbsp;</span>Define and calculate the \"Lyrical Brutality Index\"</a></span></li><li><span><a href=\"#Bring-it-all-together:-Calculate-'Total-Brutality-Index'\" data-toc-modified-id=\"Bring-it-all-together:-Calculate-'Total-Brutality-Index'-5\"><span class=\"toc-item-num\">5&nbsp;&nbsp;</span>Bring it all together: Calculate 'Total Brutality Index'</a></span><ul class=\"toc-item\"><li><span><a href=\"#Normalize-LBI-and-SBI\" data-toc-modified-id=\"Normalize-LBI-and-SBI-5.1\"><span class=\"toc-item-num\">5.1&nbsp;&nbsp;</span>Normalize LBI and SBI</a></span></li><li><span><a href=\"#Calculate-TBI\" data-toc-modified-id=\"Calculate-TBI-5.2\"><span class=\"toc-item-num\">5.2&nbsp;&nbsp;</span>Calculate TBI</a></span></li></ul></li><li><span><a href=\"#Appendix:-The-big-question---Barnes-or-Corpsegrinder?\" data-toc-modified-id=\"Appendix:-The-big-question---Barnes-or-Corpsegrinder?-6\"><span class=\"toc-item-num\">6&nbsp;&nbsp;</span>Appendix: The big question - Barnes or Corpsegrinder?</a></span></li><li><span><a href=\"#For-documentation-only:-Test-Alternative-LBI-Definitions\" data-toc-modified-id=\"For-documentation-only:-Test-Alternative-LBI-Definitions-7\"><span class=\"toc-item-num\">7&nbsp;&nbsp;</span>For documentation only: Test Alternative LBI Definitions</a></span></li></ul></div>"
   ]
  },
  {
   "cell_type": "markdown",
   "metadata": {},
   "source": [
    "---"
   ]
  },
  {
   "cell_type": "markdown",
   "metadata": {},
   "source": [
    "## Import libraries"
   ]
  },
  {
   "cell_type": "code",
   "execution_count": 1,
   "metadata": {
    "ExecuteTime": {
     "end_time": "2020-02-09T07:03:49.988921Z",
     "start_time": "2020-02-09T07:03:47.922907Z"
    }
   },
   "outputs": [
    {
     "name": "stderr",
     "output_type": "stream",
     "text": [
      "[nltk_data] Downloading package stopwords to\n",
      "[nltk_data]     C:\\Users\\r2d4\\AppData\\Roaming\\nltk_data...\n",
      "[nltk_data]   Package stopwords is already up-to-date!\n"
     ]
    }
   ],
   "source": [
    "# Import libraries\n",
    "\n",
    "from pprint import pprint\n",
    "import pickle\n",
    "import re\n",
    "import requests\n",
    "import urllib.request\n",
    "import urllib.parse\n",
    "import json\n",
    "import numpy as np\n",
    "import pandas as pd\n",
    "from tqdm import tqdm\n",
    "from bs4 import BeautifulSoup\n",
    "from sklearn.preprocessing import minmax_scale\n",
    "import credentials # file where credentials for genius API are stored\n",
    "\n",
    "import nltk\n",
    "nltk.download('stopwords')\n",
    "from nltk.corpus import stopwords\n",
    "from nltk.tokenize import word_tokenize\n",
    "from nltk.stem.wordnet import WordNetLemmatizer  # default lemmatizer\n",
    "\n",
    "# Visualization\n",
    "%matplotlib inline\n",
    "import matplotlib.pyplot as plt\n",
    "plt.style.use('raph-base')\n",
    "import seaborn as sns "
   ]
  },
  {
   "cell_type": "markdown",
   "metadata": {},
   "source": [
    "## Load and Prepare Lexicon\n",
    "In this section we prepare a lexicon containing a 'word brutality index' for more than 20'000 words.\n",
    "\n",
    "It will be based on \"The NRC Valence, Arousal, and Dominance (VAD) Lexicon\", which includes a list of more than 20,000 English words and their valence, arousal, and dominance scores. For a given word and a dimension (V/A/D), the scores range from 0 (lowest V/A/D) to 1 (highest V/A/D). \n",
    "\n",
    "- valence is the positive--negative or pleasure--displeasure dimension; \n",
    "- arousal is the excited--calm or active--passive dimension; and \n",
    "- dominance is the powerful--weak or 'have full control'--'have no control' dimension. \n",
    "\n",
    "\n",
    "Reading the VAD-lexicon into a Pandas DataFrame requires a little tweaking / cleaning, because the first columns seem a bit messed up."
   ]
  },
  {
   "cell_type": "code",
   "execution_count": 2,
   "metadata": {
    "ExecuteTime": {
     "end_time": "2020-02-09T07:03:50.027009Z",
     "start_time": "2020-02-09T07:03:49.988921Z"
    }
   },
   "outputs": [],
   "source": [
    "with open('data/raw/NRC-VAD-Lexicon.txt') as file:\n",
    "    data_list = []\n",
    "    line = file.readline()\n",
    "    while line:\n",
    "        data_list.append(str(line))\n",
    "        line = file.readline()"
   ]
  },
  {
   "cell_type": "code",
   "execution_count": 3,
   "metadata": {
    "ExecuteTime": {
     "end_time": "2020-02-09T07:03:50.395508Z",
     "start_time": "2020-02-09T07:03:50.379729Z"
    }
   },
   "outputs": [
    {
     "data": {
      "text/plain": [
       "['Word\\tValence\\tArousal\\tDominance\\n',\n",
       " 'aaaaaaah\\t0.479\\t0.606\\t0.291\\n',\n",
       " 'aaaah\\t0.520\\t0.636\\t0.282\\n',\n",
       " 'aardvark\\t0.427\\t0.490\\t0.437\\n',\n",
       " 'aback\\t0.385\\t0.407\\t0.288\\n']"
      ]
     },
     "execution_count": 3,
     "metadata": {},
     "output_type": "execute_result"
    }
   ],
   "source": [
    "# Check results\n",
    "data_list[:5]"
   ]
  },
  {
   "cell_type": "code",
   "execution_count": 4,
   "metadata": {
    "ExecuteTime": {
     "end_time": "2020-02-09T07:03:51.183330Z",
     "start_time": "2020-02-09T07:03:51.120437Z"
    }
   },
   "outputs": [],
   "source": [
    "# Split and clean\n",
    "data_list2 = [x.replace('\\n', '').split('\\t') for x in data_list]"
   ]
  },
  {
   "cell_type": "code",
   "execution_count": 5,
   "metadata": {
    "ExecuteTime": {
     "end_time": "2020-02-09T07:03:51.752293Z",
     "start_time": "2020-02-09T07:03:51.706488Z"
    }
   },
   "outputs": [],
   "source": [
    "vad_lexicon = pd.DataFrame(data_list2[1:], columns=data_list2[0], dtype=float)\n",
    "vad_lexicon.columns = (col.lower() for col in vad_lexicon.columns)"
   ]
  },
  {
   "cell_type": "code",
   "execution_count": 6,
   "metadata": {
    "ExecuteTime": {
     "end_time": "2020-02-09T07:03:52.245567Z",
     "start_time": "2020-02-09T07:03:52.207810Z"
    },
    "scrolled": true
   },
   "outputs": [
    {
     "data": {
      "text/html": [
       "<div>\n",
       "<style scoped>\n",
       "    .dataframe tbody tr th:only-of-type {\n",
       "        vertical-align: middle;\n",
       "    }\n",
       "\n",
       "    .dataframe tbody tr th {\n",
       "        vertical-align: top;\n",
       "    }\n",
       "\n",
       "    .dataframe thead th {\n",
       "        text-align: right;\n",
       "    }\n",
       "</style>\n",
       "<table border=\"1\" class=\"dataframe\">\n",
       "  <thead>\n",
       "    <tr style=\"text-align: right;\">\n",
       "      <th></th>\n",
       "      <th>word</th>\n",
       "      <th>valence</th>\n",
       "      <th>arousal</th>\n",
       "      <th>dominance</th>\n",
       "    </tr>\n",
       "  </thead>\n",
       "  <tbody>\n",
       "    <tr>\n",
       "      <th>1860</th>\n",
       "      <td>bloodshed</td>\n",
       "      <td>0.048</td>\n",
       "      <td>0.942</td>\n",
       "      <td>0.525</td>\n",
       "    </tr>\n",
       "  </tbody>\n",
       "</table>\n",
       "</div>"
      ],
      "text/plain": [
       "           word  valence  arousal  dominance\n",
       "1860  bloodshed    0.048    0.942      0.525"
      ]
     },
     "metadata": {},
     "output_type": "display_data"
    }
   ],
   "source": [
    "# Check results ...\n",
    "display(vad_lexicon.iloc[[1860]])"
   ]
  },
  {
   "cell_type": "markdown",
   "metadata": {},
   "source": [
    "Exactly what we are looking for: low valence, high arousal ... ;-) \n",
    "\n",
    "We can also see that `dominance` is quite neutral and probably no feature that will be of further help. To more easily filter and analize for words with a combination of low-valence and high-arousal I will create a new feature `anti-valence` that is (1 - valance). Then we can simply sum the 2 scores to get a `word brutality index (WBI)`. (To land in a range between 0 and 1 we will normalize it using sklearn's minmax_scaler.)\n",
    "\n",
    "_Note to myself: If I would like to compare with the results of other artists, I would have skip the scaling and calculate the wbi with: (a_v + a) / 2"
   ]
  },
  {
   "cell_type": "code",
   "execution_count": 7,
   "metadata": {
    "ExecuteTime": {
     "end_time": "2020-02-09T07:03:53.441631Z",
     "start_time": "2020-02-09T07:03:53.388541Z"
    }
   },
   "outputs": [],
   "source": [
    "lexicon = vad_lexicon.copy()\n",
    "lexicon['anti_valence'] = lexicon['valence'].apply(lambda x: 1-x)\n",
    "wbi = minmax_scale(lexicon['anti_valence'] + lexicon['arousal'])\n",
    "lexicon['wbi'] = wbi\n",
    "lexicon.drop(['valence', 'dominance'], axis=1, inplace=True)\n",
    "lexicon = lexicon.sort_values(['wbi'], ascending=False).reset_index(drop=True)"
   ]
  },
  {
   "cell_type": "code",
   "execution_count": 8,
   "metadata": {
    "ExecuteTime": {
     "end_time": "2020-02-09T07:03:54.003976Z",
     "start_time": "2020-02-09T07:03:53.958563Z"
    }
   },
   "outputs": [
    {
     "data": {
      "text/html": [
       "<div>\n",
       "<style scoped>\n",
       "    .dataframe tbody tr th:only-of-type {\n",
       "        vertical-align: middle;\n",
       "    }\n",
       "\n",
       "    .dataframe tbody tr th {\n",
       "        vertical-align: top;\n",
       "    }\n",
       "\n",
       "    .dataframe thead th {\n",
       "        text-align: right;\n",
       "    }\n",
       "</style>\n",
       "<table border=\"1\" class=\"dataframe\">\n",
       "  <thead>\n",
       "    <tr style=\"text-align: right;\">\n",
       "      <th></th>\n",
       "      <th>word</th>\n",
       "      <th>arousal</th>\n",
       "      <th>anti_valence</th>\n",
       "      <th>wbi</th>\n",
       "    </tr>\n",
       "  </thead>\n",
       "  <tbody>\n",
       "    <tr>\n",
       "      <th>0</th>\n",
       "      <td>homicide</td>\n",
       "      <td>0.973</td>\n",
       "      <td>0.990</td>\n",
       "      <td>1.000000</td>\n",
       "    </tr>\n",
       "    <tr>\n",
       "      <th>1</th>\n",
       "      <td>murderer</td>\n",
       "      <td>0.960</td>\n",
       "      <td>0.990</td>\n",
       "      <td>0.992746</td>\n",
       "    </tr>\n",
       "    <tr>\n",
       "      <th>2</th>\n",
       "      <td>killer</td>\n",
       "      <td>0.971</td>\n",
       "      <td>0.959</td>\n",
       "      <td>0.981585</td>\n",
       "    </tr>\n",
       "    <tr>\n",
       "      <th>3</th>\n",
       "      <td>abduction</td>\n",
       "      <td>0.990</td>\n",
       "      <td>0.938</td>\n",
       "      <td>0.980469</td>\n",
       "    </tr>\n",
       "    <tr>\n",
       "      <th>4</th>\n",
       "      <td>suicidebombing</td>\n",
       "      <td>0.957</td>\n",
       "      <td>0.969</td>\n",
       "      <td>0.979353</td>\n",
       "    </tr>\n",
       "    <tr>\n",
       "      <th>5</th>\n",
       "      <td>murderous</td>\n",
       "      <td>0.940</td>\n",
       "      <td>0.983</td>\n",
       "      <td>0.977679</td>\n",
       "    </tr>\n",
       "    <tr>\n",
       "      <th>6</th>\n",
       "      <td>dangerous</td>\n",
       "      <td>0.941</td>\n",
       "      <td>0.980</td>\n",
       "      <td>0.976562</td>\n",
       "    </tr>\n",
       "    <tr>\n",
       "      <th>7</th>\n",
       "      <td>assassinate</td>\n",
       "      <td>0.969</td>\n",
       "      <td>0.949</td>\n",
       "      <td>0.974888</td>\n",
       "    </tr>\n",
       "    <tr>\n",
       "      <th>8</th>\n",
       "      <td>aggresive</td>\n",
       "      <td>0.971</td>\n",
       "      <td>0.941</td>\n",
       "      <td>0.971540</td>\n",
       "    </tr>\n",
       "    <tr>\n",
       "      <th>9</th>\n",
       "      <td>terrorist</td>\n",
       "      <td>0.930</td>\n",
       "      <td>0.981</td>\n",
       "      <td>0.970982</td>\n",
       "    </tr>\n",
       "  </tbody>\n",
       "</table>\n",
       "</div>"
      ],
      "text/plain": [
       "             word  arousal  anti_valence       wbi\n",
       "0        homicide    0.973         0.990  1.000000\n",
       "1        murderer    0.960         0.990  0.992746\n",
       "2          killer    0.971         0.959  0.981585\n",
       "3       abduction    0.990         0.938  0.980469\n",
       "4  suicidebombing    0.957         0.969  0.979353\n",
       "5       murderous    0.940         0.983  0.977679\n",
       "6       dangerous    0.941         0.980  0.976562\n",
       "7     assassinate    0.969         0.949  0.974888\n",
       "8       aggresive    0.971         0.941  0.971540\n",
       "9       terrorist    0.930         0.981  0.970982"
      ]
     },
     "metadata": {},
     "output_type": "display_data"
    },
    {
     "data": {
      "text/html": [
       "<div>\n",
       "<style scoped>\n",
       "    .dataframe tbody tr th:only-of-type {\n",
       "        vertical-align: middle;\n",
       "    }\n",
       "\n",
       "    .dataframe tbody tr th {\n",
       "        vertical-align: top;\n",
       "    }\n",
       "\n",
       "    .dataframe thead th {\n",
       "        text-align: right;\n",
       "    }\n",
       "</style>\n",
       "<table border=\"1\" class=\"dataframe\">\n",
       "  <thead>\n",
       "    <tr style=\"text-align: right;\">\n",
       "      <th></th>\n",
       "      <th>word</th>\n",
       "      <th>arousal</th>\n",
       "      <th>anti_valence</th>\n",
       "      <th>wbi</th>\n",
       "    </tr>\n",
       "  </thead>\n",
       "  <tbody>\n",
       "    <tr>\n",
       "      <th>2250</th>\n",
       "      <td>zombie</td>\n",
       "      <td>0.648</td>\n",
       "      <td>0.786</td>\n",
       "      <td>0.704799</td>\n",
       "    </tr>\n",
       "  </tbody>\n",
       "</table>\n",
       "</div>"
      ],
      "text/plain": [
       "        word  arousal  anti_valence       wbi\n",
       "2250  zombie    0.648         0.786  0.704799"
      ]
     },
     "metadata": {},
     "output_type": "display_data"
    }
   ],
   "source": [
    "# Check results ...\n",
    "display(lexicon.nlargest(10, 'wbi'))\n",
    "display(lexicon.loc[lexicon['word'] == 'zombie'])"
   ]
  },
  {
   "cell_type": "markdown",
   "metadata": {},
   "source": [
    "Wow, people nowadays definitely seem to be scared a lot more of suicide bombers than of zombies ... how come?"
   ]
  },
  {
   "cell_type": "code",
   "execution_count": 9,
   "metadata": {
    "ExecuteTime": {
     "end_time": "2020-02-09T07:03:55.464992Z",
     "start_time": "2020-02-09T07:03:55.299334Z"
    }
   },
   "outputs": [],
   "source": [
    "# Save a copy of the lexicon\n",
    "lexicon.to_csv('data/processed/wbi_lexicon_cc.csv', index=False)"
   ]
  },
  {
   "cell_type": "code",
   "execution_count": 10,
   "metadata": {
    "ExecuteTime": {
     "end_time": "2020-02-09T07:03:56.076141Z",
     "start_time": "2020-02-09T07:03:56.032348Z"
    }
   },
   "outputs": [],
   "source": [
    "# Visualize distribution of 'wbi'\n",
    "\n",
    "def show_wbi_distribution(data, percentiles=[95]):\n",
    "    \"\"\"Show the value distribution of a list of WBI-scores, with percentiles.\"\"\"\n",
    "    \n",
    "    fig, ax = plt.subplots(figsize=(10,6))\n",
    "    sns.distplot(data, color='rebeccapurple', bins=30, hist_kws={'edgecolor': 'white'})\n",
    "    for percentile in percentiles:\n",
    "        qvl = plt.axvline(np.percentile(data, percentile) , color='grey', linewidth=2.0)\n",
    "    ax.legend([qvl], [f'Percentiles {percentiles}'], fontsize=10)\n",
    "    ax.set_title('Overall WBI Distribution for Lexicon', fontsize=12)\n",
    "    ax.set_xlabel('Word Brutality Index', fontsize='large')\n",
    "    ax.set_ylabel('Frequency', fontsize='large');"
   ]
  },
  {
   "cell_type": "code",
   "execution_count": 11,
   "metadata": {
    "ExecuteTime": {
     "end_time": "2020-02-09T07:03:57.064810Z",
     "start_time": "2020-02-09T07:03:56.718178Z"
    },
    "scrolled": true
   },
   "outputs": [
    {
     "data": {
      "image/png": "[encoded data removed]",
      "text/plain": [
       "<Figure size 720x432 with 1 Axes>"
      ]
     },
     "metadata": {
      "needs_background": "light"
     },
     "output_type": "display_data"
    }
   ],
   "source": [
    "show_wbi_distribution(lexicon['wbi'])"
   ]
  },
  {
   "cell_type": "markdown",
   "metadata": {},
   "source": [
    "Let's say that the top 10% of WBI scores are the 'brutal' words. This will be the threshold we will use when calculating the \"Lyrical Brutality Index\" later on. All words with a wbi score higher than that will be considered 'brutal'. The threshold's value is:"
   ]
  },
  {
   "cell_type": "code",
   "execution_count": 12,
   "metadata": {
    "ExecuteTime": {
     "end_time": "2020-02-09T07:03:58.527163Z",
     "start_time": "2020-02-09T07:03:58.491516Z"
    }
   },
   "outputs": [
    {
     "name": "stdout",
     "output_type": "stream",
     "text": [
      "WBI-threshold for 'brutal' words: 0.797\n"
     ]
    }
   ],
   "source": [
    "wbi_threshold = np.percentile(lexicon['wbi'], 95)\n",
    "print(\"WBI-threshold for 'brutal' words:\", round(wbi_threshold, 3))"
   ]
  },
  {
   "cell_type": "code",
   "execution_count": 13,
   "metadata": {
    "ExecuteTime": {
     "end_time": "2020-02-09T07:03:59.420328Z",
     "start_time": "2020-02-09T07:03:59.389078Z"
    }
   },
   "outputs": [
    {
     "name": "stdout",
     "output_type": "stream",
     "text": [
      "Just above threshold:\n"
     ]
    },
    {
     "data": {
      "text/html": [
       "<div>\n",
       "<style scoped>\n",
       "    .dataframe tbody tr th:only-of-type {\n",
       "        vertical-align: middle;\n",
       "    }\n",
       "\n",
       "    .dataframe tbody tr th {\n",
       "        vertical-align: top;\n",
       "    }\n",
       "\n",
       "    .dataframe thead th {\n",
       "        text-align: right;\n",
       "    }\n",
       "</style>\n",
       "<table border=\"1\" class=\"dataframe\">\n",
       "  <thead>\n",
       "    <tr style=\"text-align: right;\">\n",
       "      <th></th>\n",
       "      <th>word</th>\n",
       "      <th>arousal</th>\n",
       "      <th>anti_valence</th>\n",
       "      <th>wbi</th>\n",
       "    </tr>\n",
       "  </thead>\n",
       "  <tbody>\n",
       "    <tr>\n",
       "      <th>1002</th>\n",
       "      <td>chagrin</td>\n",
       "      <td>0.704</td>\n",
       "      <td>0.896</td>\n",
       "      <td>0.797433</td>\n",
       "    </tr>\n",
       "    <tr>\n",
       "      <th>1003</th>\n",
       "      <td>harlot</td>\n",
       "      <td>0.798</td>\n",
       "      <td>0.802</td>\n",
       "      <td>0.797433</td>\n",
       "    </tr>\n",
       "    <tr>\n",
       "      <th>1004</th>\n",
       "      <td>counterfeit</td>\n",
       "      <td>0.694</td>\n",
       "      <td>0.906</td>\n",
       "      <td>0.797433</td>\n",
       "    </tr>\n",
       "    <tr>\n",
       "      <th>1005</th>\n",
       "      <td>obsessing</td>\n",
       "      <td>0.773</td>\n",
       "      <td>0.827</td>\n",
       "      <td>0.797433</td>\n",
       "    </tr>\n",
       "    <tr>\n",
       "      <th>1006</th>\n",
       "      <td>indecent</td>\n",
       "      <td>0.683</td>\n",
       "      <td>0.917</td>\n",
       "      <td>0.797433</td>\n",
       "    </tr>\n",
       "  </tbody>\n",
       "</table>\n",
       "</div>"
      ],
      "text/plain": [
       "             word  arousal  anti_valence       wbi\n",
       "1002      chagrin    0.704         0.896  0.797433\n",
       "1003       harlot    0.798         0.802  0.797433\n",
       "1004  counterfeit    0.694         0.906  0.797433\n",
       "1005    obsessing    0.773         0.827  0.797433\n",
       "1006     indecent    0.683         0.917  0.797433"
      ]
     },
     "metadata": {},
     "output_type": "display_data"
    },
    {
     "name": "stdout",
     "output_type": "stream",
     "text": [
      "\n",
      "Just below threshold:\n"
     ]
    },
    {
     "data": {
      "text/html": [
       "<div>\n",
       "<style scoped>\n",
       "    .dataframe tbody tr th:only-of-type {\n",
       "        vertical-align: middle;\n",
       "    }\n",
       "\n",
       "    .dataframe tbody tr th {\n",
       "        vertical-align: top;\n",
       "    }\n",
       "\n",
       "    .dataframe thead th {\n",
       "        text-align: right;\n",
       "    }\n",
       "</style>\n",
       "<table border=\"1\" class=\"dataframe\">\n",
       "  <thead>\n",
       "    <tr style=\"text-align: right;\">\n",
       "      <th></th>\n",
       "      <th>word</th>\n",
       "      <th>arousal</th>\n",
       "      <th>anti_valence</th>\n",
       "      <th>wbi</th>\n",
       "    </tr>\n",
       "  </thead>\n",
       "  <tbody>\n",
       "    <tr>\n",
       "      <th>1007</th>\n",
       "      <td>filthy</td>\n",
       "      <td>0.714</td>\n",
       "      <td>0.885</td>\n",
       "      <td>0.796875</td>\n",
       "    </tr>\n",
       "    <tr>\n",
       "      <th>1008</th>\n",
       "      <td>appalled</td>\n",
       "      <td>0.792</td>\n",
       "      <td>0.806</td>\n",
       "      <td>0.796317</td>\n",
       "    </tr>\n",
       "    <tr>\n",
       "      <th>1009</th>\n",
       "      <td>bastards</td>\n",
       "      <td>0.680</td>\n",
       "      <td>0.918</td>\n",
       "      <td>0.796317</td>\n",
       "    </tr>\n",
       "    <tr>\n",
       "      <th>1010</th>\n",
       "      <td>pornography</td>\n",
       "      <td>0.921</td>\n",
       "      <td>0.677</td>\n",
       "      <td>0.796317</td>\n",
       "    </tr>\n",
       "    <tr>\n",
       "      <th>1011</th>\n",
       "      <td>warship</td>\n",
       "      <td>0.890</td>\n",
       "      <td>0.708</td>\n",
       "      <td>0.796317</td>\n",
       "    </tr>\n",
       "  </tbody>\n",
       "</table>\n",
       "</div>"
      ],
      "text/plain": [
       "             word  arousal  anti_valence       wbi\n",
       "1007       filthy    0.714         0.885  0.796875\n",
       "1008     appalled    0.792         0.806  0.796317\n",
       "1009     bastards    0.680         0.918  0.796317\n",
       "1010  pornography    0.921         0.677  0.796317\n",
       "1011      warship    0.890         0.708  0.796317"
      ]
     },
     "metadata": {},
     "output_type": "display_data"
    }
   ],
   "source": [
    "# Look at some words around threshold\n",
    "\n",
    "print(\"Just above threshold:\")\n",
    "display(lexicon.loc[lexicon['wbi'] >= 0.797].tail())\n",
    "print(\"\\nJust below threshold:\")\n",
    "display(lexicon.loc[lexicon['wbi'] < 0.797].head())\n"
   ]
  },
  {
   "cell_type": "markdown",
   "metadata": {},
   "source": [
    "Does this threshold make sense? Hard to say. But I played around with different thresholds in the range from 20% to 5% and the final rankings don't change much."
   ]
  },
  {
   "cell_type": "code",
   "execution_count": 14,
   "metadata": {
    "ExecuteTime": {
     "end_time": "2020-02-09T07:04:02.110842Z",
     "start_time": "2020-02-09T07:04:02.079985Z"
    }
   },
   "outputs": [
    {
     "name": "stdout",
     "output_type": "stream",
     "text": [
      "[('homicide', 0.9999999999999999), ('murderer', 0.9927455357142855), ('killer', 0.9815848214285713), ('abduction', 0.9804687499999999), ('suicidebombing', 0.9793526785714285)]\n"
     ]
    }
   ],
   "source": [
    "# Create a lookup dictionary for 'word: wbi' - we'll use it later\n",
    "wbi_lookup = dict(zip(lexicon['word'], lexicon['wbi']))\n",
    "print(list(wbi_lookup.items())[:5])"
   ]
  },
  {
   "cell_type": "markdown",
   "metadata": {},
   "source": [
    "## Scrape and Prepare Lyrics\n",
    "\n",
    "Scrape all Cannibal Corpse lyrics from the genius API."
   ]
  },
  {
   "cell_type": "code",
   "execution_count": 15,
   "metadata": {
    "ExecuteTime": {
     "end_time": "2020-02-09T07:04:05.388117Z",
     "start_time": "2020-02-09T07:04:05.372087Z"
    }
   },
   "outputs": [],
   "source": [
    "base = \"https://api.genius.com\"\n",
    "genius_token = credentials.genius_token\n",
    "\n",
    "def get_json(path, params=None, headers=None):\n",
    "    '''Send request and get response in json format.'''\n",
    "\n",
    "    # Generate request URL\n",
    "    requrl = '/'.join([base, path])\n",
    "    token = f\"Bearer {genius_token}\"\n",
    "    if headers:\n",
    "        headers['Authorization'] = token\n",
    "    else:\n",
    "        headers = {\"Authorization\": token}\n",
    "    # Get response object from querying genius api\n",
    "    response = requests.get(url=requrl, params=params, headers=headers)\n",
    "    response.raise_for_status()\n",
    "    return response.json()"
   ]
  },
  {
   "cell_type": "code",
   "execution_count": 16,
   "metadata": {
    "ExecuteTime": {
     "end_time": "2020-02-09T07:04:06.399927Z",
     "start_time": "2020-02-09T07:04:06.358698Z"
    }
   },
   "outputs": [],
   "source": [
    "# Get artist ID based on artist name\n",
    "\n",
    "name = \"Cannibal Corpse\"\n",
    "\n",
    "def get_artist_id(artist_name):\n",
    "    '''Search Genius API for artist ID via artist name.'''\n",
    "\n",
    "    search = \"/search?q=\"\n",
    "    query = base + search + urllib.parse.quote(artist_name)\n",
    "    request = urllib.request.Request(query)\n",
    "    request.add_header(\"Authorization\", \"Bearer \" + genius_token)\n",
    "#     request.add_header(\"User-Agent\", \"\")  \n",
    "    response = urllib.request.urlopen(request, timeout=3)\n",
    "    raw = response.read()\n",
    "    data = json.loads(raw)['response']['hits']\n",
    "    \n",
    "    return (data[0]['result']['primary_artist']['id'])"
   ]
  },
  {
   "cell_type": "code",
   "execution_count": 17,
   "metadata": {
    "ExecuteTime": {
     "end_time": "2020-02-09T07:04:08.494622Z",
     "start_time": "2020-02-09T07:04:07.161314Z"
    }
   },
   "outputs": [
    {
     "name": "stdout",
     "output_type": "stream",
     "text": [
      "41863\n"
     ]
    }
   ],
   "source": [
    "artist_id = get_artist_id(name)\n",
    "print(artist_id)"
   ]
  },
  {
   "cell_type": "code",
   "execution_count": 18,
   "metadata": {
    "ExecuteTime": {
     "end_time": "2020-02-09T07:04:08.516666Z",
     "start_time": "2020-02-09T07:04:08.494622Z"
    }
   },
   "outputs": [],
   "source": [
    "def get_songlist(artist_id):\n",
    "    '''Get all the song ids and titles from an artist in form of a dict.'''\n",
    "    current_page = 1\n",
    "    next_page = True\n",
    "    songs = [] # to store final song ids\n",
    "    while next_page:\n",
    "        path = f\"artists/{artist_id}/songs/\"\n",
    "        params = {'page': current_page} # the current page\n",
    "        data = get_json(path=path, params=params) # get json of songs\n",
    "        page_songs = data['response']['songs']\n",
    "        if page_songs:\n",
    "            # Add all the songs of current page\n",
    "            songs += page_songs\n",
    "            # Increment current_page value for next loop\n",
    "            current_page += 1\n",
    "            print(f\"Page {current_page} finished scraping\")\n",
    "            # If you don't wanna wait too long to scrape, un-comment this\n",
    "            # if current_page == 2:\n",
    "            #     break\n",
    "        else:\n",
    "            # If page_songs is empty, quit\n",
    "            next_page = False\n",
    "\n",
    "    print(f\"Song id were scraped from {current_page} pages\")\n",
    "\n",
    "    # Get all the song ids, excluding not-primary-artist songs.\n",
    "    songlist = {song[\"id\"]: song['title'].lower() for song in songs\n",
    "                if song[\"primary_artist\"][\"id\"] == artist_id}\n",
    "\n",
    "    return songlist"
   ]
  },
  {
   "cell_type": "code",
   "execution_count": 19,
   "metadata": {
    "ExecuteTime": {
     "end_time": "2020-02-09T07:04:19.995129Z",
     "start_time": "2020-02-09T07:04:09.350394Z"
    }
   },
   "outputs": [
    {
     "name": "stdout",
     "output_type": "stream",
     "text": [
      "Page 2 finished scraping\n",
      "Page 3 finished scraping\n",
      "Page 4 finished scraping\n",
      "Page 5 finished scraping\n",
      "Page 6 finished scraping\n",
      "Page 7 finished scraping\n",
      "Page 8 finished scraping\n",
      "Page 9 finished scraping\n",
      "Page 10 finished scraping\n",
      "Page 11 finished scraping\n",
      "Song id were scraped from 11 pages\n",
      "\n",
      "[(764037, 'absolute hatred'), (715726, 'a cauldron of hate')]\n",
      "# of songs: 187\n"
     ]
    }
   ],
   "source": [
    "songlist = get_songlist(artist_id)\n",
    "print(f\"\\n{list(songlist.items())[:2]}\")\n",
    "print(\"# of songs:\", len(songlist))"
   ]
  },
  {
   "cell_type": "code",
   "execution_count": 20,
   "metadata": {
    "ExecuteTime": {
     "end_time": "2020-02-09T07:04:20.010008Z",
     "start_time": "2020-02-09T07:04:19.995129Z"
    }
   },
   "outputs": [
    {
     "name": "stdout",
     "output_type": "stream",
     "text": [
      "# of songs (excluding live performances): 174\n"
     ]
    }
   ],
   "source": [
    "# Remove songs from live albums (they are duplicates from a lyrical perspective)\n",
    "songlist = {id_: title for id_, title in songlist.items() if \"live\" not in title}\n",
    "print(\"# of songs (excluding live performances):\", len(songlist))"
   ]
  },
  {
   "cell_type": "code",
   "execution_count": 21,
   "metadata": {
    "ExecuteTime": {
     "end_time": "2020-02-09T07:04:20.046007Z",
     "start_time": "2020-02-09T07:04:20.014015Z"
    }
   },
   "outputs": [],
   "source": [
    "def connect_lyrics(song_id):\n",
    "    '''Constructs the path of song lyrics. (Called within next function.)'''\n",
    "\n",
    "    url = f\"songs/{song_id}\"\n",
    "    data = get_json(url)\n",
    "    # Gets the path of song lyrics\n",
    "    path = data['response']['song']['path']\n",
    "    return path\n",
    "\n",
    "def retrieve_lyrics(song_id):\n",
    "    '''Retrieves lyrics from html page. (Again, called within next function.)'''\n",
    "\n",
    "    path = connect_lyrics(song_id)\n",
    "    URL = \"http://genius.com\" + path\n",
    "    page = requests.get(URL)\n",
    "    # Extract the page's HTML as a string\n",
    "    html = BeautifulSoup(page.text, \"html.parser\")\n",
    "    # Scrape the song lyrics from the HTML\n",
    "    lyrics = html.find(\"div\", class_=\"lyrics\").get_text()\n",
    "    return lyrics\n",
    "\n",
    "def scrape_lyrics(songlist):\n",
    "    \"\"\"Scrape the lyrics from the songs in a songlist.\"\"\"\n",
    "    lyrics_dict = {}\n",
    "    for song_id, title in tqdm(songlist.items()):\n",
    "        lyrics_dict[title] = retrieve_lyrics(song_id)  \n",
    "    return lyrics_dict"
   ]
  },
  {
   "cell_type": "code",
   "execution_count": 22,
   "metadata": {
    "ExecuteTime": {
     "end_time": "2020-02-08T23:01:44.942484Z",
     "start_time": "2020-02-08T22:53:28.257184Z"
    }
   },
   "outputs": [
    {
     "name": "stderr",
     "output_type": "stream",
     "text": [
      "100%|██████████| 174/174 [08:16<00:00,  2.85s/it]\n"
     ]
    }
   ],
   "source": [
    "lyrics_dict = scrape_lyrics(songlist)"
   ]
  },
  {
   "cell_type": "code",
   "execution_count": 23,
   "metadata": {
    "ExecuteTime": {
     "end_time": "2020-02-09T07:04:39.909755Z",
     "start_time": "2020-02-09T07:04:39.880644Z"
    }
   },
   "outputs": [],
   "source": [
    "# Save / load dict\n",
    "with open('data/interim/lyrics_dict.pkl', 'wb') as f:\n",
    "        pickle.dump(lyrics_dict, f, pickle.HIGHEST_PROTOCOL)\n",
    "# with open('data/interim/lyrics_dict.pkl', 'rb') as f:\n",
    "#     lyrics_dict = pickle.load(f)"
   ]
  },
  {
   "cell_type": "code",
   "execution_count": 24,
   "metadata": {
    "ExecuteTime": {
     "end_time": "2020-02-09T07:04:52.755450Z",
     "start_time": "2020-02-09T07:04:52.716398Z"
    }
   },
   "outputs": [
    {
     "data": {
      "text/plain": [
       "\"\\n\\nNever leave your nest unguarded\\nNext of kin the first to go\\nAbsolute hatred cast upon the family\\nPayback for the hated one\\n\\nI am the judge, jury, executioner\\nAnd pallbearer all in one\\nProcess of elimination\\nAffirmative action has just begun\\nExpectorate upon your soul\\nMalicious devilry is unleashed ten fold\\nYou cannot hide\\n\\nWitness of my stopping power\\nReaction time is not enough\\nPsychological torment tearing at you sanity\\nIt has to be, it must be done\\n\\nHatred flows, uncontained, feel my wrath\\nThrough the death of your entire tribe\\n\\nHatred flows, uncontained\\nI must achieve my revenge through hatred\\n\\nI've regained my pride\\nVictory's mine\\nYou cannot hide\\nThe footsteps you hear are gonna be mine\\n\\n\""
      ]
     },
     "execution_count": 24,
     "metadata": {},
     "output_type": "execute_result"
    }
   ],
   "source": [
    "# Print sample\n",
    "lyrics_dict['absolute hatred']"
   ]
  },
  {
   "cell_type": "code",
   "execution_count": 25,
   "metadata": {
    "ExecuteTime": {
     "end_time": "2020-02-09T07:04:54.833240Z",
     "start_time": "2020-02-09T07:04:54.817685Z"
    }
   },
   "outputs": [],
   "source": [
    "def process_text(raw_text):\n",
    "    \"\"\"A simple NLP pipeline returning 'lemmed' tokens.\"\"\"\n",
    "    lemmatizer = WordNetLemmatizer()\n",
    "    stop_words = stopwords.words('english')\n",
    "    \n",
    "    text = re.sub(r\"[^a-zA-Z0-9]\", \" \", raw_text.lower().strip())\n",
    "    tokens = word_tokenize(text)\n",
    "    lemmed = [lemmatizer.lemmatize(word) for word in tokens if word not in stop_words]\n",
    "    lemmed_tokens = [WordNetLemmatizer().lemmatize(w, pos='v') for w in lemmed]  # lemm to verbs, not nouns \n",
    "    return lemmed_tokens"
   ]
  },
  {
   "cell_type": "markdown",
   "metadata": {},
   "source": [
    "Note: The lemmatization has a certain effect on the results as for example the word \"torture\" (V: 0.115, D: 0.878) has not exactly the same values as the word \"tortured\" (V: 0.062, D: 0.890). But the differences are fairly small and so I will just go on. (I also have destroyed all word combinations / context, there are typos, ... NLP is a tricky field ...)"
   ]
  },
  {
   "cell_type": "code",
   "execution_count": 26,
   "metadata": {
    "ExecuteTime": {
     "end_time": "2020-02-09T07:04:58.165060Z",
     "start_time": "2020-02-09T07:04:55.951355Z"
    }
   },
   "outputs": [
    {
     "name": "stdout",
     "output_type": "stream",
     "text": [
      "['never', 'leave', 'nest', 'unguarded', 'next', 'kin', 'first', 'go', 'absolute', 'hatred', 'cast', 'upon', 'family', 'payback', 'hat', 'one', 'judge', 'jury', 'executioner', 'pallbearer', 'one', 'process', 'elimination', 'affirmative', 'action', 'begin', 'expectorate', 'upon', 'soul', 'malicious', 'devilry', 'unleash', 'ten', 'fold', 'hide', 'witness', 'stop', 'power', 'reaction', 'time', 'enough', 'psychological', 'torment', 'tear', 'sanity', 'must', 'do', 'hatred', 'flow', 'uncontained', 'feel', 'wrath', 'death', 'entire', 'tribe', 'hatred', 'flow', 'uncontained', 'must', 'achieve', 'revenge', 'hatred', 'regain', 'pride', 'victory', 'mine', 'hide', 'footstep', 'hear', 'gon', 'na', 'mine']\n"
     ]
    }
   ],
   "source": [
    "lyrics_dict_clean = {title: process_text(lyric) for title, lyric in lyrics_dict.items()}\n",
    "# print one sample\n",
    "print(lyrics_dict_clean['absolute hatred'])"
   ]
  },
  {
   "cell_type": "code",
   "execution_count": 27,
   "metadata": {
    "ExecuteTime": {
     "end_time": "2020-02-09T07:04:58.186549Z",
     "start_time": "2020-02-09T07:04:58.165060Z"
    }
   },
   "outputs": [],
   "source": [
    "lyrics_dict_wbi = {}\n",
    "for title, text in lyrics_dict_clean.items():\n",
    "    lyrics_dict_wbi[title] = [wbi_lookup[word] for word in text if word in wbi_lookup.keys()]"
   ]
  },
  {
   "cell_type": "code",
   "execution_count": 28,
   "metadata": {
    "ExecuteTime": {
     "end_time": "2020-02-09T07:04:58.204604Z",
     "start_time": "2020-02-09T07:04:58.188587Z"
    }
   },
   "outputs": [
    {
     "name": "stdout",
     "output_type": "stream",
     "text": [
      "[0.4291294642857142, 0.20256696428571425, 0.6981026785714285, 0.4056919642857142, 0.3928571428571428, 0.4241071428571428, 0.4536830357142857, 0.9146205357142857, 0.4972098214285713, 0.1361607142857143, 0.4854910714285713, 0.2276785714285714, 0.32310267857142855, 0.5150669642857142, 0.5340401785714286, 0.786830357142857, 0.32310267857142855, 0.4408482142857142, 0.8058035714285713, 0.31473214285714285, 0.5396205357142856, 0.4023437499999999, 0.15569196428571425, 0.7907366071428571, 0.6277901785714285, 0.2940848214285714, 0.4776785714285713, 0.5027901785714286, 0.466517857142857, 0.5909598214285714, 0.4352678571428571, 0.6529017857142857, 0.2862723214285714, 0.4866071428571428, 0.8493303571428571, 0.5831473214285714, 0.2762276785714285, 0.4481026785714286, 0.39453124999999994, 0.9146205357142857, 0.25055803571428575, 0.35100446428571425, 0.9475446428571427, 0.8470982142857142, 0.33593750000000006, 0.36328124999999994, 0.9146205357142857, 0.25055803571428575, 0.4481026785714286, 0.3113839285714286, 0.8588169642857142, 0.9146205357142857, 0.34598214285714285, 0.4095982142857143, 0.34933035714285715, 0.31194196428571425, 0.5027901785714286, 0.2779017857142857, 0.31194196428571425]\n"
     ]
    }
   ],
   "source": [
    "# print one sample\n",
    "print(lyrics_dict_wbi['absolute hatred'])"
   ]
  },
  {
   "cell_type": "code",
   "execution_count": 29,
   "metadata": {
    "ExecuteTime": {
     "end_time": "2020-02-09T07:04:58.284599Z",
     "start_time": "2020-02-09T07:04:58.276600Z"
    }
   },
   "outputs": [
    {
     "name": "stdout",
     "output_type": "stream",
     "text": [
      "['False', 'False', 'False', 'False', 'False', 'False', 'False', 'BRUTAL', 'False', 'False', 'False', 'False', 'False', 'False', 'False', 'False', 'False', 'False', 'BRUTAL', 'False', 'False', 'False', 'False', 'False', 'False', 'False', 'False', 'False', 'False', 'False', 'False', 'False', 'False', 'False', 'BRUTAL', 'False', 'False', 'False', 'False', 'BRUTAL', 'False', 'False', 'BRUTAL', 'BRUTAL', 'False', 'False', 'BRUTAL', 'False', 'False', 'False', 'BRUTAL', 'BRUTAL', 'False', 'False', 'False', 'False', 'False', 'False', 'False']\n"
     ]
    }
   ],
   "source": [
    "# Just for visualization, display as boolean\n",
    "show = list(lyrics_dict_wbi['absolute hatred'] )\n",
    "show = ['BRUTAL' if x > wbi_threshold else 'False' for x in show]\n",
    "print(show)"
   ]
  },
  {
   "cell_type": "markdown",
   "metadata": {},
   "source": [
    "## Define and calculate the \"Lyrical Brutality Index\"\n",
    "\n",
    "I was looking for an score that takes into account how many 'brutal' words are used in a song, what the proportion of these is in relation to the total of the words sung (screamed / growled) and relates them to the duration of a song. So that's what I chose in the end:\n",
    "\n",
    "$$Lyrical Brutality Index = \\sqrt{(\\frac{\\text{brutal words}} {\\text{number of words}}) * (\\frac{\\text{number of words}}{\\text{duration}})}  $$\n",
    "\n",
    "$$Lyrical Brutality Index =  \\sqrt{\\frac{\\text{brutal words}} {\\text{duration}}}$$\n",
    "\n",
    "(Experimentation with other lbi definition can be found at the very end of the notebook.)"
   ]
  },
  {
   "cell_type": "code",
   "execution_count": 30,
   "metadata": {
    "ExecuteTime": {
     "end_time": "2020-02-09T07:05:00.369588Z",
     "start_time": "2020-02-09T07:05:00.035715Z"
    }
   },
   "outputs": [
    {
     "data": {
      "image/png": "[encoded data removed]",
      "text/plain": [
       "<Figure size 720x432 with 1 Axes>"
      ]
     },
     "metadata": {
      "needs_background": "light"
     },
     "output_type": "display_data"
    }
   ],
   "source": [
    "# Visualize the distribution of wbi scores over the whole CC text corpus (ignore graph titel)\n",
    "full_corpus = [score for text in lyrics_dict_wbi.values() for score in text]\n",
    "show_wbi_distribution(full_corpus, percentiles=[82.5])  # approx the threshold value for brutal words"
   ]
  },
  {
   "cell_type": "code",
   "execution_count": 31,
   "metadata": {
    "ExecuteTime": {
     "end_time": "2020-02-09T07:05:00.937302Z",
     "start_time": "2020-02-09T07:05:00.921987Z"
    }
   },
   "outputs": [],
   "source": [
    "def calculate_lb_features(text, wbi_treshold=wbi_threshold):\n",
    "    \"\"\"Calculate and return features needed to calculate the lbi.\"\"\"\n",
    "    total_words = len(text)\n",
    "    brutal_words = np.sum(text > wbi_threshold)\n",
    "    brutal_prop = brutal_words / total_words\n",
    "    \n",
    "    return total_words, brutal_words, brutal_prop"
   ]
  },
  {
   "cell_type": "code",
   "execution_count": 32,
   "metadata": {
    "ExecuteTime": {
     "end_time": "2020-02-09T07:05:01.817114Z",
     "start_time": "2020-02-09T07:05:01.801521Z"
    }
   },
   "outputs": [
    {
     "name": "stdout",
     "output_type": "stream",
     "text": [
      "[('absolute hatred', (59, 9, 0.15254237288135594)), ('a cauldron of hate', (132, 41, 0.3106060606060606))]\n"
     ]
    }
   ],
   "source": [
    "# Create a Dataframe with the lb features\n",
    "lb_features_dict = {title: calculate_lb_features(text) for title, text in lyrics_dict_wbi.items()}\n",
    "print(list(lb_features_dict.items())[:2])"
   ]
  },
  {
   "cell_type": "code",
   "execution_count": 33,
   "metadata": {
    "ExecuteTime": {
     "end_time": "2020-02-09T07:05:02.549168Z",
     "start_time": "2020-02-09T07:05:02.508916Z"
    }
   },
   "outputs": [
    {
     "data": {
      "text/html": [
       "<div>\n",
       "<style scoped>\n",
       "    .dataframe tbody tr th:only-of-type {\n",
       "        vertical-align: middle;\n",
       "    }\n",
       "\n",
       "    .dataframe tbody tr th {\n",
       "        vertical-align: top;\n",
       "    }\n",
       "\n",
       "    .dataframe thead th {\n",
       "        text-align: right;\n",
       "    }\n",
       "</style>\n",
       "<table border=\"1\" class=\"dataframe\">\n",
       "  <thead>\n",
       "    <tr style=\"text-align: right;\">\n",
       "      <th></th>\n",
       "      <th>title</th>\n",
       "      <th>total_words</th>\n",
       "      <th>brutal_words</th>\n",
       "      <th>brutal_prop</th>\n",
       "    </tr>\n",
       "  </thead>\n",
       "  <tbody>\n",
       "    <tr>\n",
       "      <th>41</th>\n",
       "      <td>demented aggression</td>\n",
       "      <td>109</td>\n",
       "      <td>53</td>\n",
       "      <td>0.486239</td>\n",
       "    </tr>\n",
       "    <tr>\n",
       "      <th>60</th>\n",
       "      <td>firestorm vengeance</td>\n",
       "      <td>89</td>\n",
       "      <td>40</td>\n",
       "      <td>0.449438</td>\n",
       "    </tr>\n",
       "    <tr>\n",
       "      <th>69</th>\n",
       "      <td>grotesque</td>\n",
       "      <td>76</td>\n",
       "      <td>33</td>\n",
       "      <td>0.434211</td>\n",
       "    </tr>\n",
       "    <tr>\n",
       "      <th>162</th>\n",
       "      <td>torn through</td>\n",
       "      <td>147</td>\n",
       "      <td>59</td>\n",
       "      <td>0.401361</td>\n",
       "    </tr>\n",
       "    <tr>\n",
       "      <th>35</th>\n",
       "      <td>crucifier avenged</td>\n",
       "      <td>176</td>\n",
       "      <td>69</td>\n",
       "      <td>0.392045</td>\n",
       "    </tr>\n",
       "  </tbody>\n",
       "</table>\n",
       "</div>"
      ],
      "text/plain": [
       "                   title  total_words  brutal_words  brutal_prop\n",
       "41   demented aggression          109            53     0.486239\n",
       "60   firestorm vengeance           89            40     0.449438\n",
       "69             grotesque           76            33     0.434211\n",
       "162         torn through          147            59     0.401361\n",
       "35     crucifier avenged          176            69     0.392045"
      ]
     },
     "metadata": {},
     "output_type": "display_data"
    }
   ],
   "source": [
    "lyric_data = pd.DataFrame(lb_features_dict.keys(), columns=['title'])\n",
    "lyric_data['total_words'] = lyric_data['title'].apply(lambda x: lb_features_dict[x][0])\n",
    "lyric_data['brutal_words'] = lyric_data['title'].apply(lambda x: lb_features_dict[x][1])\n",
    "lyric_data['brutal_prop'] = lyric_data['title'].apply(lambda x: lb_features_dict[x][2])\n",
    "display(lyric_data.sort_values(['brutal_prop'], ascending=False).head())"
   ]
  },
  {
   "cell_type": "code",
   "execution_count": 34,
   "metadata": {
    "ExecuteTime": {
     "end_time": "2020-02-09T07:05:03.476567Z",
     "start_time": "2020-02-09T07:05:03.446639Z"
    }
   },
   "outputs": [
    {
     "data": {
      "text/plain": [
       "\"\\n\\nPain is my reward from psychotic tendencies\\nPain I give to you\\nPain relentlessly\\nTorturing has reached a level no one's ever seen\\nSuffer for your life\\nRabid force extreme\\nRage is my obsession driven by my cruelty\\nRage is my release\\nRage relentlessly\\nRavaging continues through my scattered lunacy\\nMalice for your life\\nRapid force extreme\\n\\nDemented aggression\\n\\nHate is the reason I embrace these fantasies\\nHate engulfs my mind\\nHate relentlessly\\nWith pain and rage and hatred relentlessly\\n\\nWith pain\\nRage and hate\\nBeatings come faster\\nBeatings last longer\\nWith pain\\nRage and hate\\nBeatings are forever\\nI don't think you'll live\\n\\nDon't think you'll live\\nDon't think you'll live\\nI don't think you'll live\\n\\nPain is my reward from psychotic tendencies\\nRage is my release\\nHate relentlessly\\nWith pain and rage and hatred relentlessly\\n\\nWith pain\\nRage and hate\\nTorture coming faster\\nTorture lasting longer\\nWith pain\\nRage and hate\\nTorture is forever\\nI don't think you'll live\\n\\nDon't think you'll live\\nDon't think you'll live\\nI don't think you'll live\\n\\nLeft as a pummeled mound of waste\\nRot and decay under the sun\\n\\nWith pain\\nRage and hate\\nSuffering is faster\\nSuffering is longer\\nWith pain\\nRage and hate\\nSuffering is forever\\nI don't think you'll live\\n\\n\""
      ]
     },
     "execution_count": 34,
     "metadata": {},
     "output_type": "execute_result"
    }
   ],
   "source": [
    "# Look at lyrics with highest proportion of 'brutal' words\n",
    "lyrics_dict['demented aggression']"
   ]
  },
  {
   "cell_type": "markdown",
   "metadata": {},
   "source": [
    "Ok ... nearly 50% of words are classified as 'brutal', but that's not yet what we really want. The relation to the song's duration (the 'lyrical density') is still missing."
   ]
  },
  {
   "cell_type": "code",
   "execution_count": 35,
   "metadata": {
    "ExecuteTime": {
     "end_time": "2020-02-09T07:05:06.472244Z",
     "start_time": "2020-02-09T07:05:06.419687Z"
    }
   },
   "outputs": [
    {
     "name": "stdout",
     "output_type": "stream",
     "text": [
      "<class 'pandas.core.frame.DataFrame'>\n",
      "RangeIndex: 164 entries, 0 to 163\n",
      "Data columns (total 9 columns):\n",
      "title           164 non-null object\n",
      "album           164 non-null object\n",
      "year            164 non-null int64\n",
      "uri             164 non-null object\n",
      "energy          164 non-null float64\n",
      "valence         164 non-null float64\n",
      "danceability    164 non-null float64\n",
      "sbi             164 non-null float64\n",
      "duration_sec    164 non-null float64\n",
      "dtypes: float64(5), int64(1), object(3)\n",
      "memory usage: 11.7+ KB\n"
     ]
    }
   ],
   "source": [
    "# Load the audio data DataFrame to merge it with the lyric data\n",
    "audio_data = pd.read_csv('data/interim/audio_data.csv')\n",
    "audio_data['title'] = audio_data['title'].str.lower()\n",
    "audio_data.info()"
   ]
  },
  {
   "cell_type": "markdown",
   "metadata": {},
   "source": [
    "There are some differences (typos etc.) in the writing of song titles in the two dataframes. Let's clean them before the merge."
   ]
  },
  {
   "cell_type": "code",
   "execution_count": 36,
   "metadata": {
    "ExecuteTime": {
     "end_time": "2020-02-09T07:05:08.198430Z",
     "start_time": "2020-02-09T07:05:08.167157Z"
    }
   },
   "outputs": [],
   "source": [
    "to_replace = {'caged... contorted': 'caged...contorted', 'coffinfeeder': 'coffin feeder', 'ecstacy in decay': 'ecstasy in decay', \n",
    "'entrails ripped from a virgin’s cunt': \"entrails ripped from a virgin's cunt\", 'meat hook sodomy':  'meathook sodomy',\n",
    "'pulverised': 'pulverized', 'scattered remains, splattered brains': 'scattered remains splattered brains', \n",
    "'stripped, raped and strangled': 'stripped, raped, and strangled', 'the exorcist': 'the exorcist (bonus track)',\n",
    "'the murderer’s pact': \"the murderer's pact\", 'the pick-axe murders': 'the pick axe murders'}\n",
    "\n",
    "for x, y in to_replace.items():\n",
    "    lyric_data['title'].replace(x, y, inplace=True)"
   ]
  },
  {
   "cell_type": "code",
   "execution_count": 37,
   "metadata": {
    "ExecuteTime": {
     "end_time": "2020-02-09T07:05:09.068482Z",
     "start_time": "2020-02-09T07:05:09.027713Z"
    }
   },
   "outputs": [
    {
     "name": "stdout",
     "output_type": "stream",
     "text": [
      "<class 'pandas.core.frame.DataFrame'>\n",
      "Int64Index: 161 entries, 0 to 160\n",
      "Data columns (total 12 columns):\n",
      "title           161 non-null object\n",
      "album           161 non-null object\n",
      "year            161 non-null int64\n",
      "uri             161 non-null object\n",
      "energy          161 non-null float64\n",
      "valence         161 non-null float64\n",
      "danceability    161 non-null float64\n",
      "sbi             161 non-null float64\n",
      "duration_sec    161 non-null float64\n",
      "total_words     161 non-null int64\n",
      "brutal_words    161 non-null int64\n",
      "brutal_prop     161 non-null float64\n",
      "dtypes: float64(6), int64(3), object(3)\n",
      "memory usage: 16.4+ KB\n"
     ]
    }
   ],
   "source": [
    "song_data = pd.merge(audio_data, lyric_data, on='title', how='inner')\n",
    "song_data.info()"
   ]
  },
  {
   "cell_type": "markdown",
   "metadata": {},
   "source": [
    "After merging the audio and lyrics data we have 161 songs remaining with data for both. It is mostly some bonus tracks that could not be matched with the audio data. None of them had a particularly high sbi. And only a very few of the ones lost had a reasonably high proportion of brutal words. So that's ok."
   ]
  },
  {
   "cell_type": "code",
   "execution_count": 38,
   "metadata": {
    "ExecuteTime": {
     "end_time": "2020-02-09T07:05:11.193369Z",
     "start_time": "2020-02-09T07:05:11.162304Z"
    }
   },
   "outputs": [
    {
     "data": {
      "text/html": [
       "<div>\n",
       "<style scoped>\n",
       "    .dataframe tbody tr th:only-of-type {\n",
       "        vertical-align: middle;\n",
       "    }\n",
       "\n",
       "    .dataframe tbody tr th {\n",
       "        vertical-align: top;\n",
       "    }\n",
       "\n",
       "    .dataframe thead th {\n",
       "        text-align: right;\n",
       "    }\n",
       "</style>\n",
       "<table border=\"1\" class=\"dataframe\">\n",
       "  <thead>\n",
       "    <tr style=\"text-align: right;\">\n",
       "      <th></th>\n",
       "      <th>title</th>\n",
       "      <th>brutal_words</th>\n",
       "      <th>duration_sec</th>\n",
       "      <th>lbi</th>\n",
       "    </tr>\n",
       "  </thead>\n",
       "  <tbody>\n",
       "    <tr>\n",
       "      <th>106</th>\n",
       "      <td>Puncture Wound Massacre</td>\n",
       "      <td>41</td>\n",
       "      <td>101.200</td>\n",
       "      <td>0.405138</td>\n",
       "    </tr>\n",
       "    <tr>\n",
       "      <th>153</th>\n",
       "      <td>Torn Through</td>\n",
       "      <td>59</td>\n",
       "      <td>191.386</td>\n",
       "      <td>0.308278</td>\n",
       "    </tr>\n",
       "    <tr>\n",
       "      <th>33</th>\n",
       "      <td>Crucifier Avenged</td>\n",
       "      <td>69</td>\n",
       "      <td>226.333</td>\n",
       "      <td>0.304861</td>\n",
       "    </tr>\n",
       "    <tr>\n",
       "      <th>39</th>\n",
       "      <td>Demented Aggression</td>\n",
       "      <td>53</td>\n",
       "      <td>194.466</td>\n",
       "      <td>0.272541</td>\n",
       "    </tr>\n",
       "    <tr>\n",
       "      <th>45</th>\n",
       "      <td>Dormant Bodies Bursting</td>\n",
       "      <td>30</td>\n",
       "      <td>120.333</td>\n",
       "      <td>0.249308</td>\n",
       "    </tr>\n",
       "  </tbody>\n",
       "</table>\n",
       "</div>"
      ],
      "text/plain": [
       "                       title  brutal_words  duration_sec       lbi\n",
       "106  Puncture Wound Massacre            41       101.200  0.405138\n",
       "153             Torn Through            59       191.386  0.308278\n",
       "33         Crucifier Avenged            69       226.333  0.304861\n",
       "39       Demented Aggression            53       194.466  0.272541\n",
       "45   Dormant Bodies Bursting            30       120.333  0.249308"
      ]
     },
     "metadata": {},
     "output_type": "display_data"
    }
   ],
   "source": [
    "# Finally calculate the lbi\n",
    "song_data['lbi'] = song_data['brutal_words'] / song_data['duration_sec']\n",
    "song_data['title'] = song_data['title'].str.title()  # looks better\n",
    "display(song_data[['title', 'brutal_words', 'duration_sec', 'lbi']].nlargest(5, 'lbi'))"
   ]
  },
  {
   "cell_type": "code",
   "execution_count": 39,
   "metadata": {
    "ExecuteTime": {
     "end_time": "2020-02-09T07:05:12.646264Z",
     "start_time": "2020-02-09T07:05:12.412150Z"
    }
   },
   "outputs": [
    {
     "data": {
      "image/png": "[encoded data removed]",
      "text/plain": [
       "<Figure size 720x288 with 1 Axes>"
      ]
     },
     "metadata": {
      "needs_background": "light"
     },
     "output_type": "display_data"
    }
   ],
   "source": [
    "# Visualize distribution of lbi\n",
    "fig, ax = plt.subplots(figsize=(10,4))\n",
    "sns.distplot(song_data['lbi'], color='rebeccapurple', bins=30, \n",
    "             label='Lyrical Brutality Index', hist_kws={'edgecolor': 'grey'})\n",
    "ax.set_title(\"lbi-Distribution for 161 Cannibal Corpse Songs\", size='x-large')\n",
    "ax.set_xlabel(\"Lyrical Brutality Index\", size='large')\n",
    "ax.set_ylabel(\"Frequency\", size='large');"
   ]
  },
  {
   "cell_type": "markdown",
   "metadata": {},
   "source": [
    "Wow ... one massive outlier here ... \"Puncture Wound Massacre\" is by far the song with the highest \"Lyrical Brutality Index\" score. This is surely aided by the songs short duration of only 1:41 min. Altough the proportion of brutal words is not particularly high, Cannibal Corpse have managed to pack a lot of text (see total number of words) into that short time span. No time for rest ... And the text IS disgustingly brutal."
   ]
  },
  {
   "cell_type": "code",
   "execution_count": 40,
   "metadata": {
    "ExecuteTime": {
     "end_time": "2020-02-09T07:05:16.677308Z",
     "start_time": "2020-02-09T07:05:16.661196Z"
    }
   },
   "outputs": [
    {
     "name": "stdout",
     "output_type": "stream",
     "text": [
      "\n",
      "\n",
      "Stab, hack, slash, kill\n",
      "Stab, hack, slash, kill\n",
      "Stab, hack, slash, kill\n",
      "Stab, hack, slash, kill\n",
      "Die, butcher\n",
      "Rage of hate\n",
      "Stab, hack, slash, kill\n",
      "Stab, hack, slash, kill\n",
      "Stab, hack, slash, kill\n",
      "Stab, hack, slash, kill\n",
      "\n",
      "Kick down the door in barbaric rage\n",
      "Frantically slashing all who stand in my way\n",
      "Stab another face, slit another throat\n",
      "My intention is to mutilate them\n",
      "People are screaming it feeds my hate\n",
      "Hack through the crowd blood is splashing on my face\n",
      "I only see red, rage exploding\n",
      "Two knives, one mind, that hate has broken\n",
      "\n",
      "Stabbing, disfigure, knives puncture\n",
      "Blood gushing from their wounds\n",
      "Rivers run deep red\n",
      "Down faces of people in the room\n",
      "Bodies are heaping they're dying\n",
      "In seconds they were slain\n",
      "Daggers in my hands are killing\n",
      "This worthless piece of shit\n",
      "\n",
      "Hate for them still drives my rage\n",
      "My job is almost finished only one remains\n",
      "In the corner terrified behind the grisly slaughter\n",
      "Ill take my time on this last scum bag\n",
      "Knife in stomach, hes not dead yet\n",
      "Carving up his body, gouge his fucking head\n",
      "Chop off his arms, pull out his guts\n",
      "No remorse for what i have done\n",
      "\n",
      "Stabbing, disfigure, knives puncture\n",
      "Blood gushing from their wounds\n",
      "Rivers run deep red\n",
      "Down faces of people in the room\n",
      "Daggers in my hands are killing\n",
      "These worthless pieces of shit\n",
      "\n",
      "\n"
     ]
    }
   ],
   "source": [
    "print(lyrics_dict['puncture wound massacre'])"
   ]
  },
  {
   "cell_type": "markdown",
   "metadata": {},
   "source": [
    "## Bring it all together: Calculate 'Total Brutality Index'\n",
    "\n",
    "### Normalize LBI and SBI\n",
    "\n",
    "For the final step I will each normalize the SBI (Sonic Brutality Index) and the LBI so that they are in the same range."
   ]
  },
  {
   "cell_type": "code",
   "execution_count": 41,
   "metadata": {
    "ExecuteTime": {
     "end_time": "2020-02-09T07:05:18.383194Z",
     "start_time": "2020-02-09T07:05:18.035775Z"
    }
   },
   "outputs": [
    {
     "data": {
      "image/png": "[encoded data removed]",
      "text/plain": [
       "<Figure size 720x288 with 1 Axes>"
      ]
     },
     "metadata": {
      "needs_background": "light"
     },
     "output_type": "display_data"
    }
   ],
   "source": [
    "# Visualize distribution of lbi and sbi BEFORE normalization\n",
    "fig, ax = plt.subplots(figsize=(10,4))\n",
    "sns.distplot(song_data['sbi'], color='grey', hist_kws={'edgecolor': 'grey'}, bins=30, label='sbi')\n",
    "sns.distplot(song_data['lbi'], color='rebeccapurple', hist_kws={'edgecolor': 'grey'}, bins=30, label='lbi');\n",
    "ax.legend();"
   ]
  },
  {
   "cell_type": "code",
   "execution_count": 42,
   "metadata": {
    "ExecuteTime": {
     "end_time": "2020-02-09T07:05:19.208813Z",
     "start_time": "2020-02-09T07:05:19.171263Z"
    }
   },
   "outputs": [],
   "source": [
    "song_data['lbi'] = minmax_scale(song_data['lbi'])\n",
    "song_data['sbi'] = minmax_scale(song_data['sbi'])"
   ]
  },
  {
   "cell_type": "code",
   "execution_count": 43,
   "metadata": {
    "ExecuteTime": {
     "end_time": "2020-02-09T07:05:20.748324Z",
     "start_time": "2020-02-09T07:05:20.309646Z"
    }
   },
   "outputs": [
    {
     "data": {
      "image/png": "[encoded data removed]",
      "text/plain": [
       "<Figure size 720x288 with 1 Axes>"
      ]
     },
     "metadata": {
      "needs_background": "light"
     },
     "output_type": "display_data"
    }
   ],
   "source": [
    "# Visualize distribution of lbi and sbi AFTER normalization\n",
    "fig, ax = plt.subplots(figsize=(10,4))\n",
    "sns.distplot(song_data['sbi'], color='grey', hist_kws={'edgecolor': 'grey'}, bins=30, label='sbi')\n",
    "sns.distplot(song_data['lbi'], color='rebeccapurple', hist_kws={'edgecolor': 'grey'}, bins=30, label='lbi');\n",
    "ax.set_xlabel(\"Scores for sbi and lbi\")\n",
    "ax.set_ylabel(\"Frequencies\")\n",
    "ax.set_title(\"Distributions of lbi and sbi\",size=14)\n",
    "ax.legend();"
   ]
  },
  {
   "cell_type": "markdown",
   "metadata": {},
   "source": [
    "### Calculate TBI\n",
    "\n",
    "Let's simply take the average (arithmetic mean) of the two indexes. Since both indexes are on the same scale (they both range from 0 to 1), this would imply that the amount of brutality  in a song’s lyrics and a song’s sound equally determine the level of overall brutality in that song. (In this case tough the SBI has somewhat higher scores and is favoured a little bit.)\n",
    "\n",
    "$$Total Brutality Index = (0.5 * Sonic Brutality Index) + (0.5 * Lyrical Brutality Index)$$"
   ]
  },
  {
   "cell_type": "code",
   "execution_count": 44,
   "metadata": {
    "ExecuteTime": {
     "end_time": "2020-02-09T07:05:27.681393Z",
     "start_time": "2020-02-09T07:05:27.667058Z"
    }
   },
   "outputs": [],
   "source": [
    "song_data['TBI'] = (song_data['sbi'] * 0.5) + (song_data['lbi'] * 0.5)"
   ]
  },
  {
   "cell_type": "code",
   "execution_count": 64,
   "metadata": {
    "ExecuteTime": {
     "end_time": "2020-02-09T07:20:25.911483Z",
     "start_time": "2020-02-09T07:20:25.641901Z"
    }
   },
   "outputs": [
    {
     "data": {
      "image/png": "[encoded data removed]",
      "text/plain": [
       "<Figure size 720x288 with 1 Axes>"
      ]
     },
     "metadata": {
      "needs_background": "light"
     },
     "output_type": "display_data"
    }
   ],
   "source": [
    "# Visualize distribution of the TBI\n",
    "fig, ax = plt.subplots(figsize=(10,4))\n",
    "sns.distplot(song_data['TBI'], color='rebeccapurple', bins=30, label='TBI', hist_kws={'edgecolor': 'grey'})\n",
    "ax.set_xlabel(\"Total Brutality Index\")\n",
    "ax.set_ylabel(\"Frequencies\")\n",
    "ax.set_title(\"Distribution of TBI for 161 Cannibal Corpse Songs\",size=14);"
   ]
  },
  {
   "cell_type": "code",
   "execution_count": 46,
   "metadata": {
    "ExecuteTime": {
     "end_time": "2020-02-09T07:05:35.718772Z",
     "start_time": "2020-02-09T07:05:35.679679Z"
    }
   },
   "outputs": [
    {
     "data": {
      "text/html": [
       "<div>\n",
       "<style scoped>\n",
       "    .dataframe tbody tr th:only-of-type {\n",
       "        vertical-align: middle;\n",
       "    }\n",
       "\n",
       "    .dataframe tbody tr th {\n",
       "        vertical-align: top;\n",
       "    }\n",
       "\n",
       "    .dataframe thead th {\n",
       "        text-align: right;\n",
       "    }\n",
       "</style>\n",
       "<table border=\"1\" class=\"dataframe\">\n",
       "  <thead>\n",
       "    <tr style=\"text-align: right;\">\n",
       "      <th></th>\n",
       "      <th>title</th>\n",
       "      <th>sbi</th>\n",
       "      <th>lbi</th>\n",
       "      <th>TBI</th>\n",
       "    </tr>\n",
       "  </thead>\n",
       "  <tbody>\n",
       "    <tr>\n",
       "      <th>106</th>\n",
       "      <td>Puncture Wound Massacre</td>\n",
       "      <td>0.991416</td>\n",
       "      <td>1.000000</td>\n",
       "      <td>0.995708</td>\n",
       "    </tr>\n",
       "    <tr>\n",
       "      <th>45</th>\n",
       "      <td>Dormant Bodies Bursting</td>\n",
       "      <td>0.961187</td>\n",
       "      <td>0.615366</td>\n",
       "      <td>0.788276</td>\n",
       "    </tr>\n",
       "    <tr>\n",
       "      <th>102</th>\n",
       "      <td>Pounded Into Dust</td>\n",
       "      <td>0.822915</td>\n",
       "      <td>0.614246</td>\n",
       "      <td>0.718580</td>\n",
       "    </tr>\n",
       "    <tr>\n",
       "      <th>153</th>\n",
       "      <td>Torn Through</td>\n",
       "      <td>0.656839</td>\n",
       "      <td>0.760919</td>\n",
       "      <td>0.708879</td>\n",
       "    </tr>\n",
       "    <tr>\n",
       "      <th>121</th>\n",
       "      <td>Savage Butchery</td>\n",
       "      <td>0.811719</td>\n",
       "      <td>0.600975</td>\n",
       "      <td>0.706347</td>\n",
       "    </tr>\n",
       "  </tbody>\n",
       "</table>\n",
       "</div>"
      ],
      "text/plain": [
       "                       title       sbi       lbi       TBI\n",
       "106  Puncture Wound Massacre  0.991416  1.000000  0.995708\n",
       "45   Dormant Bodies Bursting  0.961187  0.615366  0.788276\n",
       "102        Pounded Into Dust  0.822915  0.614246  0.718580\n",
       "153             Torn Through  0.656839  0.760919  0.708879\n",
       "121          Savage Butchery  0.811719  0.600975  0.706347"
      ]
     },
     "execution_count": 46,
     "metadata": {},
     "output_type": "execute_result"
    }
   ],
   "source": [
    "# Display the most brutal songs\n",
    "song_data[['title', 'sbi', 'lbi', 'TBI']].nlargest(5, 'TBI')"
   ]
  },
  {
   "cell_type": "markdown",
   "metadata": {},
   "source": [
    "It was evident from the last section that 'Puncture Wound Massacre' would score the top slot. And it does so by a wide margin. (That there would be such a clear winner was not really to be expected, but is result of the chosen index scores.) - THAT'S IT."
   ]
  },
  {
   "cell_type": "code",
   "execution_count": 47,
   "metadata": {
    "ExecuteTime": {
     "end_time": "2020-02-09T07:06:08.941819Z",
     "start_time": "2020-02-09T07:06:08.886257Z"
    }
   },
   "outputs": [
    {
     "data": {
      "text/html": [
       "<div>\n",
       "<style scoped>\n",
       "    .dataframe tbody tr th:only-of-type {\n",
       "        vertical-align: middle;\n",
       "    }\n",
       "\n",
       "    .dataframe tbody tr th {\n",
       "        vertical-align: top;\n",
       "    }\n",
       "\n",
       "    .dataframe thead th {\n",
       "        text-align: right;\n",
       "    }\n",
       "</style>\n",
       "<table border=\"1\" class=\"dataframe\">\n",
       "  <thead>\n",
       "    <tr style=\"text-align: right;\">\n",
       "      <th></th>\n",
       "      <th>title</th>\n",
       "      <th>album</th>\n",
       "      <th>year</th>\n",
       "      <th>uri</th>\n",
       "      <th>energy</th>\n",
       "      <th>valence</th>\n",
       "      <th>danceability</th>\n",
       "      <th>sbi</th>\n",
       "      <th>duration_sec</th>\n",
       "      <th>total_words</th>\n",
       "      <th>brutal_words</th>\n",
       "      <th>brutal_prop</th>\n",
       "      <th>lbi</th>\n",
       "      <th>TBI</th>\n",
       "    </tr>\n",
       "  </thead>\n",
       "  <tbody>\n",
       "    <tr>\n",
       "      <th>85</th>\n",
       "      <td>Living Dissection</td>\n",
       "      <td>Butchered At Birth</td>\n",
       "      <td>1991</td>\n",
       "      <td>spotify:track:0IAIQhIMw8ehSQdR2Nxlab</td>\n",
       "      <td>0.989</td>\n",
       "      <td>0.565</td>\n",
       "      <td>0.292</td>\n",
       "      <td>0.000000</td>\n",
       "      <td>238.440</td>\n",
       "      <td>161</td>\n",
       "      <td>6</td>\n",
       "      <td>0.037267</td>\n",
       "      <td>0.062111</td>\n",
       "      <td>0.031056</td>\n",
       "    </tr>\n",
       "    <tr>\n",
       "      <th>61</th>\n",
       "      <td>From Skin To Liquid</td>\n",
       "      <td>Gallery of Suicide</td>\n",
       "      <td>1998</td>\n",
       "      <td>spotify:track:4kYLhsdj7PkuxcZlWuZMop</td>\n",
       "      <td>0.798</td>\n",
       "      <td>0.334</td>\n",
       "      <td>0.109</td>\n",
       "      <td>0.074641</td>\n",
       "      <td>330.266</td>\n",
       "      <td>1</td>\n",
       "      <td>0</td>\n",
       "      <td>0.000000</td>\n",
       "      <td>0.000000</td>\n",
       "      <td>0.037320</td>\n",
       "    </tr>\n",
       "    <tr>\n",
       "      <th>113</th>\n",
       "      <td>Relentless Beating</td>\n",
       "      <td>Vile</td>\n",
       "      <td>1996</td>\n",
       "      <td>spotify:track:0ox3y11lj7cGdgS1uAsW02</td>\n",
       "      <td>0.988</td>\n",
       "      <td>0.493</td>\n",
       "      <td>0.176</td>\n",
       "      <td>0.132487</td>\n",
       "      <td>134.506</td>\n",
       "      <td>1</td>\n",
       "      <td>0</td>\n",
       "      <td>0.000000</td>\n",
       "      <td>0.000000</td>\n",
       "      <td>0.066244</td>\n",
       "    </tr>\n",
       "  </tbody>\n",
       "</table>\n",
       "</div>"
      ],
      "text/plain": [
       "                   title               album  year  \\\n",
       "85     Living Dissection  Butchered At Birth  1991   \n",
       "61   From Skin To Liquid  Gallery of Suicide  1998   \n",
       "113   Relentless Beating                Vile  1996   \n",
       "\n",
       "                                      uri  energy  valence  danceability  \\\n",
       "85   spotify:track:0IAIQhIMw8ehSQdR2Nxlab   0.989    0.565         0.292   \n",
       "61   spotify:track:4kYLhsdj7PkuxcZlWuZMop   0.798    0.334         0.109   \n",
       "113  spotify:track:0ox3y11lj7cGdgS1uAsW02   0.988    0.493         0.176   \n",
       "\n",
       "          sbi  duration_sec  total_words  brutal_words  brutal_prop       lbi  \\\n",
       "85   0.000000       238.440          161             6     0.037267  0.062111   \n",
       "61   0.074641       330.266            1             0     0.000000  0.000000   \n",
       "113  0.132487       134.506            1             0     0.000000  0.000000   \n",
       "\n",
       "          TBI  \n",
       "85   0.031056  \n",
       "61   0.037320  \n",
       "113  0.066244  "
      ]
     },
     "execution_count": 47,
     "metadata": {},
     "output_type": "execute_result"
    }
   ],
   "source": [
    "# Just out of curiosity: Display the least brutal songs\n",
    "song_data.nsmallest(3, 'TBI')"
   ]
  },
  {
   "cell_type": "markdown",
   "metadata": {},
   "source": [
    "Two of them are instrumentals (see total_words)."
   ]
  },
  {
   "cell_type": "code",
   "execution_count": 48,
   "metadata": {
    "ExecuteTime": {
     "end_time": "2020-02-09T07:07:25.560344Z",
     "start_time": "2020-02-09T07:07:25.519878Z"
    }
   },
   "outputs": [],
   "source": [
    "# Save data\n",
    "song_data.to_csv('data/processed/final_CC_song_data.csv', index=False)"
   ]
  },
  {
   "cell_type": "markdown",
   "metadata": {
    "ExecuteTime": {
     "end_time": "2020-01-29T09:46:48.741480Z",
     "start_time": "2020-01-29T09:46:48.728324Z"
    }
   },
   "source": [
    "---"
   ]
  },
  {
   "cell_type": "markdown",
   "metadata": {
    "ExecuteTime": {
     "end_time": "2020-02-08T22:09:57.384360Z",
     "start_time": "2020-02-08T22:09:57.369293Z"
    }
   },
   "source": [
    "## Appendix: The big question - Barnes or Corpsegrinder?\n",
    "The history of Cannibal Corpse can largely be split into two eras: The iconic four first albums with original singer Chris Barnes and all the rest with the singer George 'Corpsegrinder' Fisher (since 1995). They both have different styles but were equally successful with Cannibal Corpse. Nevertheless, the discussion if the 'original' or the 'new' Cannibal Corpse are the better version of the group remains one of the hottest topics when fans are discussing about the band.\n",
    "\n",
    "I cannot say who is better, but at least we can check who was / is more brutal:"
   ]
  },
  {
   "cell_type": "code",
   "execution_count": 49,
   "metadata": {
    "ExecuteTime": {
     "end_time": "2020-02-09T07:07:44.356317Z",
     "start_time": "2020-02-09T07:07:44.325078Z"
    }
   },
   "outputs": [
    {
     "name": "stdout",
     "output_type": "stream",
     "text": [
      "(161, 14)\n"
     ]
    }
   ],
   "source": [
    "# Load data\n",
    "song_data = pd.read_csv('data/processed/final_CC_song_data.csv')\n",
    "print(song_data.shape)"
   ]
  },
  {
   "cell_type": "code",
   "execution_count": 55,
   "metadata": {
    "ExecuteTime": {
     "end_time": "2020-02-09T07:13:07.580084Z",
     "start_time": "2020-02-09T07:13:07.538632Z"
    }
   },
   "outputs": [
    {
     "data": {
      "text/plain": [
       "fisher    121\n",
       "barnes     40\n",
       "Name: singer, dtype: int64"
      ]
     },
     "metadata": {},
     "output_type": "display_data"
    }
   ],
   "source": [
    "# Create a new categorical column that maps songs to singers\n",
    "\n",
    "barnes_albums = {'Eaten Back To Life', 'Butchered At Birth', 'Tomb Of The Mutilated', 'The Bleeding'}\n",
    "\n",
    "def check_singer(x):\n",
    "    if x in barnes_albums:\n",
    "        return 'barnes'\n",
    "    else:\n",
    "        return 'fisher'\n",
    "    \n",
    "song_data['singer'] = song_data['album'].apply (lambda x: check_singer(x))\n",
    "display(song_data['singer'].value_counts())"
   ]
  },
  {
   "cell_type": "code",
   "execution_count": 68,
   "metadata": {
    "ExecuteTime": {
     "end_time": "2020-02-09T07:26:59.854572Z",
     "start_time": "2020-02-09T07:26:59.553390Z"
    }
   },
   "outputs": [
    {
     "data": {
      "image/png": "[encoded data removed]",
      "text/plain": [
       "<Figure size 864x360 with 1 Axes>"
      ]
     },
     "metadata": {
      "needs_background": "light"
     },
     "output_type": "display_data"
    }
   ],
   "source": [
    "fig, ax = plt.subplots(figsize=(12,5))\n",
    "sns.scatterplot('lbi', 'sbi', hue='singer', data=song_data, palette=['rebeccapurple', 'lightseagreen'])\n",
    "ax.set_title(\"The Cannibal Corpse Songs in the 'tbi-lbi-feature-space'\",size=14);"
   ]
  },
  {
   "cell_type": "markdown",
   "metadata": {
    "ExecuteTime": {
     "end_time": "2020-02-09T07:18:25.660806Z",
     "start_time": "2020-02-09T07:18:25.369836Z"
    }
   },
   "source": [
    "**Observation:** For most of the song there is not so much a differentiation but in the Fisher area Cannibal Corpse produced some outliers in lyrical brutality that dominate the over all ranking"
   ]
  },
  {
   "cell_type": "code",
   "execution_count": 82,
   "metadata": {
    "ExecuteTime": {
     "end_time": "2020-02-09T07:37:18.748377Z",
     "start_time": "2020-02-09T07:37:18.407289Z"
    }
   },
   "outputs": [
    {
     "data": {
      "image/png": "[encoded data removed]",
      "text/plain": [
       "<Figure size 864x360 with 1 Axes>"
      ]
     },
     "metadata": {
      "needs_background": "light"
     },
     "output_type": "display_data"
    }
   ],
   "source": [
    "fig, ax = plt.subplots(figsize=(12,5))\n",
    "sns.stripplot('album', 'TBI', data=song_data.sort_values(['year']), hue='singer', alpha=0.8, jitter=True, \n",
    "              palette=['lightseagreen', 'rebeccapurple']);\n",
    "ax.set_xlabel(\"Albums\")\n",
    "ax.tick_params(axis='x', rotation=70)\n",
    "ax.set_title(\"TBI scores of songs grouped by album\",size=14);"
   ]
  },
  {
   "cell_type": "markdown",
   "metadata": {
    "ExecuteTime": {
     "end_time": "2020-02-09T07:18:25.660806Z",
     "start_time": "2020-02-09T07:18:25.369836Z"
    }
   },
   "source": [
    "**Observation:** Yes, seen like this, the Corpsegrinder / Fisher era seems to be (mostly) more brutal than the Barnes era, appart from the debut album. But it is really interesting to see the bands highest rated albums (I would say: \"Tomb Of The Mutilated\", \"The Bleeding\", \"Vile\" and \"Kill\") are on the less brutal side!\n",
    "\n",
    "Let's see if this can effectively be heard in the music by looking at the sbi only:"
   ]
  },
  {
   "cell_type": "code",
   "execution_count": 87,
   "metadata": {
    "ExecuteTime": {
     "end_time": "2020-02-09T07:47:10.035414Z",
     "start_time": "2020-02-09T07:47:09.575377Z"
    }
   },
   "outputs": [
    {
     "data": {
      "image/png": "[encoded data removed]",
      "text/plain": [
       "<Figure size 864x360 with 1 Axes>"
      ]
     },
     "metadata": {
      "needs_background": "light"
     },
     "output_type": "display_data"
    }
   ],
   "source": [
    "fig, ax = plt.subplots(figsize=(12,5))\n",
    "sns.boxplot('album', 'sbi', data=song_data.sort_values(['year']), hue='singer', \n",
    "              palette=['lightseagreen', 'rebeccapurple']);\n",
    "ax.set_xlabel(\"Albums\")\n",
    "ax.tick_params(axis='x', rotation=70)\n",
    "ax.set_title(\"Individual sbi distributions per album\",size=14);"
   ]
  },
  {
   "cell_type": "markdown",
   "metadata": {},
   "source": [
    "**Observation:** The picture is maybe not as clear as before, but I think one can say that the more memorable albums have a somewhat lower sbi score than the rest. (I personally also like the \"Torture\" album very much that fits well into this pattern.)"
   ]
  },
  {
   "cell_type": "markdown",
   "metadata": {
    "ExecuteTime": {
     "end_time": "2020-02-09T00:21:38.426456Z",
     "start_time": "2020-02-09T00:21:38.398106Z"
    }
   },
   "source": [
    "---"
   ]
  },
  {
   "cell_type": "markdown",
   "metadata": {
    "ExecuteTime": {
     "end_time": "2020-02-02T06:17:40.643955Z",
     "start_time": "2020-02-02T06:17:40.628774Z"
    }
   },
   "source": [
    "## For documentation only: Test Alternative LBI Definitions\n",
    "\n",
    "This section was to understand if I would get different results with another definition of the lbi, working with mean wbi scores instead of brutal word count. - The results are quite similar. And as soon as the 'lyrical density' is taken into account,'Puncture Wound Massacre' comes out on top again. Only the next songs differ."
   ]
  },
  {
   "cell_type": "code",
   "execution_count": 88,
   "metadata": {
    "ExecuteTime": {
     "end_time": "2020-02-09T07:51:07.899360Z",
     "start_time": "2020-02-09T07:51:07.873190Z"
    }
   },
   "outputs": [],
   "source": [
    "def calculate_lb_features_2(text, wbi_treshold=wbi_threshold):\n",
    "    \"\"\"Calculate and return features needed to calculate the lbi.\"\"\"\n",
    "    total_words = len(text)\n",
    "    wbi_mean = np.mean(text)\n",
    "        \n",
    "    return total_words, wbi_mean"
   ]
  },
  {
   "cell_type": "code",
   "execution_count": 89,
   "metadata": {
    "ExecuteTime": {
     "end_time": "2020-02-09T07:51:08.684102Z",
     "start_time": "2020-02-09T07:51:08.644573Z"
    }
   },
   "outputs": [
    {
     "name": "stdout",
     "output_type": "stream",
     "text": [
      "[('absolute hatred', (59, 0.48795021186440674)), ('a cauldron of hate', (132, 0.5759182224025974))]\n"
     ]
    }
   ],
   "source": [
    "lb_features_dict2 = {title: calculate_lb_features_2(text) \n",
    "                    for title, text in lyrics_dict_wbi.items()}\n",
    "print(list(lb_features_dict2.items())[:2])"
   ]
  },
  {
   "cell_type": "code",
   "execution_count": 90,
   "metadata": {
    "ExecuteTime": {
     "end_time": "2020-02-09T07:51:09.355175Z",
     "start_time": "2020-02-09T07:51:09.325301Z"
    }
   },
   "outputs": [
    {
     "data": {
      "text/html": [
       "<div>\n",
       "<style scoped>\n",
       "    .dataframe tbody tr th:only-of-type {\n",
       "        vertical-align: middle;\n",
       "    }\n",
       "\n",
       "    .dataframe tbody tr th {\n",
       "        vertical-align: top;\n",
       "    }\n",
       "\n",
       "    .dataframe thead th {\n",
       "        text-align: right;\n",
       "    }\n",
       "</style>\n",
       "<table border=\"1\" class=\"dataframe\">\n",
       "  <thead>\n",
       "    <tr style=\"text-align: right;\">\n",
       "      <th></th>\n",
       "      <th>title</th>\n",
       "      <th>total_words</th>\n",
       "      <th>wbi_mean</th>\n",
       "    </tr>\n",
       "  </thead>\n",
       "  <tbody>\n",
       "    <tr>\n",
       "      <th>60</th>\n",
       "      <td>firestorm vengeance</td>\n",
       "      <td>89</td>\n",
       "      <td>0.680321</td>\n",
       "    </tr>\n",
       "    <tr>\n",
       "      <th>162</th>\n",
       "      <td>torn through</td>\n",
       "      <td>147</td>\n",
       "      <td>0.644846</td>\n",
       "    </tr>\n",
       "    <tr>\n",
       "      <th>69</th>\n",
       "      <td>grotesque</td>\n",
       "      <td>76</td>\n",
       "      <td>0.640926</td>\n",
       "    </tr>\n",
       "    <tr>\n",
       "      <th>41</th>\n",
       "      <td>demented aggression</td>\n",
       "      <td>109</td>\n",
       "      <td>0.639407</td>\n",
       "    </tr>\n",
       "    <tr>\n",
       "      <th>104</th>\n",
       "      <td>perverse suffering</td>\n",
       "      <td>134</td>\n",
       "      <td>0.639205</td>\n",
       "    </tr>\n",
       "  </tbody>\n",
       "</table>\n",
       "</div>"
      ],
      "text/plain": [
       "                   title  total_words  wbi_mean\n",
       "60   firestorm vengeance           89  0.680321\n",
       "162         torn through          147  0.644846\n",
       "69             grotesque           76  0.640926\n",
       "41   demented aggression          109  0.639407\n",
       "104   perverse suffering          134  0.639205"
      ]
     },
     "metadata": {},
     "output_type": "display_data"
    }
   ],
   "source": [
    "lyric_data2 = pd.DataFrame(lb_features_dict2.keys(), columns=['title'])\n",
    "lyric_data2['total_words'] = lyric_data2['title'].apply(lambda x: lb_features_dict2[x][0])\n",
    "lyric_data2['wbi_mean'] = lyric_data2['title'].apply(lambda x: lb_features_dict2[x][1])\n",
    "display(lyric_data2.sort_values(['wbi_mean'], ascending=False).head())"
   ]
  },
  {
   "cell_type": "markdown",
   "metadata": {},
   "source": [
    "These are the five top-scoring songs by mean_wbi only (the mean of all wbi_scores for the total of words in the song). It has some overlap with the brutal-word-count-top-list from above."
   ]
  },
  {
   "cell_type": "code",
   "execution_count": 91,
   "metadata": {
    "ExecuteTime": {
     "end_time": "2020-02-09T07:51:11.036769Z",
     "start_time": "2020-02-09T07:51:11.005521Z"
    }
   },
   "outputs": [
    {
     "name": "stdout",
     "output_type": "stream",
     "text": [
      "<class 'pandas.core.frame.DataFrame'>\n",
      "Int64Index: 150 entries, 0 to 149\n",
      "Data columns (total 11 columns):\n",
      "title           150 non-null object\n",
      "album           150 non-null object\n",
      "year            150 non-null int64\n",
      "uri             150 non-null object\n",
      "energy          150 non-null float64\n",
      "valence         150 non-null float64\n",
      "danceability    150 non-null float64\n",
      "sbi             150 non-null float64\n",
      "duration_sec    150 non-null float64\n",
      "total_words     150 non-null int64\n",
      "wbi_mean        150 non-null float64\n",
      "dtypes: float64(6), int64(2), object(3)\n",
      "memory usage: 14.1+ KB\n"
     ]
    }
   ],
   "source": [
    "song_data2 = pd.merge(audio_data, lyric_data2, on='title', how='inner')\n",
    "song_data2.info()"
   ]
  },
  {
   "cell_type": "code",
   "execution_count": 92,
   "metadata": {
    "ExecuteTime": {
     "end_time": "2020-02-09T07:51:11.703029Z",
     "start_time": "2020-02-09T07:51:11.671625Z"
    }
   },
   "outputs": [
    {
     "data": {
      "text/html": [
       "<div>\n",
       "<style scoped>\n",
       "    .dataframe tbody tr th:only-of-type {\n",
       "        vertical-align: middle;\n",
       "    }\n",
       "\n",
       "    .dataframe tbody tr th {\n",
       "        vertical-align: top;\n",
       "    }\n",
       "\n",
       "    .dataframe thead th {\n",
       "        text-align: right;\n",
       "    }\n",
       "</style>\n",
       "<table border=\"1\" class=\"dataframe\">\n",
       "  <thead>\n",
       "    <tr style=\"text-align: right;\">\n",
       "      <th></th>\n",
       "      <th>title</th>\n",
       "      <th>wbi_mean</th>\n",
       "      <th>l_density</th>\n",
       "    </tr>\n",
       "  </thead>\n",
       "  <tbody>\n",
       "    <tr>\n",
       "      <th>100</th>\n",
       "      <td>puncture wound massacre</td>\n",
       "      <td>0.617003</td>\n",
       "      <td>1.403162</td>\n",
       "    </tr>\n",
       "    <tr>\n",
       "      <th>138</th>\n",
       "      <td>the undead will feast</td>\n",
       "      <td>0.497731</td>\n",
       "      <td>1.189432</td>\n",
       "    </tr>\n",
       "    <tr>\n",
       "      <th>42</th>\n",
       "      <td>disposal of the body</td>\n",
       "      <td>0.507369</td>\n",
       "      <td>1.024285</td>\n",
       "    </tr>\n",
       "    <tr>\n",
       "      <th>137</th>\n",
       "      <td>the time to kill is now</td>\n",
       "      <td>0.550576</td>\n",
       "      <td>1.009041</td>\n",
       "    </tr>\n",
       "    <tr>\n",
       "      <th>116</th>\n",
       "      <td>scalding hail</td>\n",
       "      <td>0.493109</td>\n",
       "      <td>0.992389</td>\n",
       "    </tr>\n",
       "  </tbody>\n",
       "</table>\n",
       "</div>"
      ],
      "text/plain": [
       "                       title  wbi_mean  l_density\n",
       "100  puncture wound massacre  0.617003   1.403162\n",
       "138    the undead will feast  0.497731   1.189432\n",
       "42      disposal of the body  0.507369   1.024285\n",
       "137  the time to kill is now  0.550576   1.009041\n",
       "116            scalding hail  0.493109   0.992389"
      ]
     },
     "metadata": {},
     "output_type": "display_data"
    }
   ],
   "source": [
    "# Calculate the lyrical density\n",
    "song_data2['l_density'] = song_data2['total_words'] / song_data2['duration_sec']\n",
    "display(song_data2[['title', 'wbi_mean', 'l_density']].nlargest(5, 'l_density'))"
   ]
  },
  {
   "cell_type": "code",
   "execution_count": 93,
   "metadata": {
    "ExecuteTime": {
     "end_time": "2020-02-09T07:51:12.743300Z",
     "start_time": "2020-02-09T07:51:12.705610Z"
    }
   },
   "outputs": [
    {
     "data": {
      "text/html": [
       "<div>\n",
       "<style scoped>\n",
       "    .dataframe tbody tr th:only-of-type {\n",
       "        vertical-align: middle;\n",
       "    }\n",
       "\n",
       "    .dataframe tbody tr th {\n",
       "        vertical-align: top;\n",
       "    }\n",
       "\n",
       "    .dataframe thead th {\n",
       "        text-align: right;\n",
       "    }\n",
       "</style>\n",
       "<table border=\"1\" class=\"dataframe\">\n",
       "  <thead>\n",
       "    <tr style=\"text-align: right;\">\n",
       "      <th></th>\n",
       "      <th>title</th>\n",
       "      <th>lbi_a</th>\n",
       "    </tr>\n",
       "  </thead>\n",
       "  <tbody>\n",
       "    <tr>\n",
       "      <th>100</th>\n",
       "      <td>puncture wound massacre</td>\n",
       "      <td>1.010082</td>\n",
       "    </tr>\n",
       "    <tr>\n",
       "      <th>138</th>\n",
       "      <td>the undead will feast</td>\n",
       "      <td>0.843582</td>\n",
       "    </tr>\n",
       "    <tr>\n",
       "      <th>137</th>\n",
       "      <td>the time to kill is now</td>\n",
       "      <td>0.779808</td>\n",
       "    </tr>\n",
       "    <tr>\n",
       "      <th>42</th>\n",
       "      <td>disposal of the body</td>\n",
       "      <td>0.765827</td>\n",
       "    </tr>\n",
       "    <tr>\n",
       "      <th>83</th>\n",
       "      <td>mangled</td>\n",
       "      <td>0.757392</td>\n",
       "    </tr>\n",
       "  </tbody>\n",
       "</table>\n",
       "</div>"
      ],
      "text/plain": [
       "                       title     lbi_a\n",
       "100  puncture wound massacre  1.010082\n",
       "138    the undead will feast  0.843582\n",
       "137  the time to kill is now  0.779808\n",
       "42      disposal of the body  0.765827\n",
       "83                   mangled  0.757392"
      ]
     },
     "metadata": {},
     "output_type": "display_data"
    }
   ],
   "source": [
    "# Calculate the lbi - arithmetic mean\n",
    "song_data2['lbi_a'] = (song_data2['wbi_mean'] + song_data2['l_density']) / 2\n",
    "display(song_data2[['title', 'lbi_a']].nlargest(5, 'lbi_a'))"
   ]
  },
  {
   "cell_type": "code",
   "execution_count": 94,
   "metadata": {
    "ExecuteTime": {
     "end_time": "2020-02-09T07:51:13.726022Z",
     "start_time": "2020-02-09T07:51:13.694382Z"
    }
   },
   "outputs": [
    {
     "data": {
      "text/html": [
       "<div>\n",
       "<style scoped>\n",
       "    .dataframe tbody tr th:only-of-type {\n",
       "        vertical-align: middle;\n",
       "    }\n",
       "\n",
       "    .dataframe tbody tr th {\n",
       "        vertical-align: top;\n",
       "    }\n",
       "\n",
       "    .dataframe thead th {\n",
       "        text-align: right;\n",
       "    }\n",
       "</style>\n",
       "<table border=\"1\" class=\"dataframe\">\n",
       "  <thead>\n",
       "    <tr style=\"text-align: right;\">\n",
       "      <th></th>\n",
       "      <th>title</th>\n",
       "      <th>lbi_g</th>\n",
       "    </tr>\n",
       "  </thead>\n",
       "  <tbody>\n",
       "    <tr>\n",
       "      <th>100</th>\n",
       "      <td>puncture wound massacre</td>\n",
       "      <td>1.421325</td>\n",
       "    </tr>\n",
       "    <tr>\n",
       "      <th>138</th>\n",
       "      <td>the undead will feast</td>\n",
       "      <td>1.298909</td>\n",
       "    </tr>\n",
       "    <tr>\n",
       "      <th>137</th>\n",
       "      <td>the time to kill is now</td>\n",
       "      <td>1.248846</td>\n",
       "    </tr>\n",
       "    <tr>\n",
       "      <th>42</th>\n",
       "      <td>disposal of the body</td>\n",
       "      <td>1.237600</td>\n",
       "    </tr>\n",
       "    <tr>\n",
       "      <th>83</th>\n",
       "      <td>mangled</td>\n",
       "      <td>1.230766</td>\n",
       "    </tr>\n",
       "  </tbody>\n",
       "</table>\n",
       "</div>"
      ],
      "text/plain": [
       "                       title     lbi_g\n",
       "100  puncture wound massacre  1.421325\n",
       "138    the undead will feast  1.298909\n",
       "137  the time to kill is now  1.248846\n",
       "42      disposal of the body  1.237600\n",
       "83                   mangled  1.230766"
      ]
     },
     "metadata": {},
     "output_type": "display_data"
    }
   ],
   "source": [
    "# Calculate the lbi - geometric mean (out of curiosity - no difference, as expected)\n",
    "song_data2['lbi_g'] = np.sqrt(song_data2['wbi_mean'] + song_data2['l_density'])\n",
    "display(song_data2[['title', 'lbi_g']].nlargest(5, 'lbi_g'))"
   ]
  },
  {
   "cell_type": "markdown",
   "metadata": {},
   "source": [
    "---"
   ]
  }
 ],
 "metadata": {
  "hide_input": false,
  "kernelspec": {
   "display_name": "sounds",
   "language": "python",
   "name": "sounds"
  },
  "language_info": {
   "codemirror_mode": {
    "name": "ipython",
    "version": 3
   },
   "file_extension": ".py",
   "mimetype": "text/x-python",
   "name": "python",
   "nbconvert_exporter": "python",
   "pygments_lexer": "ipython3",
   "version": "3.7.6"
  },
  "toc": {
   "base_numbering": 1,
   "nav_menu": {},
   "number_sections": true,
   "sideBar": false,
   "skip_h1_title": true,
   "title_cell": "Table of Contents",
   "title_sidebar": "Contents",
   "toc_cell": true,
   "toc_position": {},
   "toc_section_display": true,
   "toc_window_display": false
  }
 },
 "nbformat": 4,
 "nbformat_minor": 2
}
