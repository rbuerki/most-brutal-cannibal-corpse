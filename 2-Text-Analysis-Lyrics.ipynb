{
 "cells": [
  {
   "cell_type": "markdown",
   "metadata": {},
   "source": [
    "# Title\n",
    "\n",
    "[Free Form Description]\n",
    "\n",
    "**Resources**\n",
    "\n",
    "- [The NRC Valence, Arousal, and Dominance Lexicon](http://saifmohammad.com/WebPages/nrc-vad.html)\n",
    "- [Blogpost on scraping song lyrics](https://chrishyland.github.io/scraping-from-genius/) - Thanks to Chris Hyland for this!\n",
    "- [Genius API documentation](https://docs.genius.com/#/getting-started-h1) \n",
    "\n",
    "\n",
    "**Data Input:**\n",
    "\n",
    "- `data/processed/audio_data.csv`: DataFrame of all CC tracks with \"Sonic Brutality Index\" (from notebook 1)\n",
    "- `data/raw/NRC-VAD-Lexicon.txt`: Data of approx 20'000 words with valence, arousal and dominance scores\n",
    "\n",
    "**Data Output:**\n",
    "\n",
    "- `data/processed/wbi_lexicon.csv`: DataFrame containing 20'000 words with their corresponding 'Word Brutality Index\"\n",
    "\n",
    "**Changes**\n",
    "\n",
    "- 2019-02-18: Start project\n",
    "- 20-02-25: Complete audio analysis\n",
    "\n"
   ]
  },
  {
   "cell_type": "markdown",
   "metadata": {},
   "source": [
    "---"
   ]
  },
  {
   "cell_type": "markdown",
   "metadata": {},
   "source": [
    "## Import libraries"
   ]
  },
  {
   "cell_type": "code",
   "execution_count": 1,
   "metadata": {
    "ExecuteTime": {
     "end_time": "2020-01-20T21:27:45.612562Z",
     "start_time": "2020-01-20T21:27:45.472340Z"
    }
   },
   "outputs": [
    {
     "name": "stderr",
     "output_type": "stream",
     "text": [
      "[nltk_data] Downloading package stopwords to\n",
      "[nltk_data]     C:\\Users\\r2d4\\AppData\\Roaming\\nltk_data...\n",
      "[nltk_data]   Package stopwords is already up-to-date!\n"
     ]
    }
   ],
   "source": [
    "# Import libraries\n",
    "\n",
    "from pprint import pprint\n",
    "import re\n",
    "import requests\n",
    "import urllib.request\n",
    "import urllib.parse\n",
    "import json\n",
    "import numpy as np\n",
    "import pandas as pd\n",
    "from tqdm import tqdm\n",
    "from bs4 import BeautifulSoup\n",
    "from sklearn.preprocessing import minmax_scale\n",
    "import credentials # file where credentials for genius API are stored\n",
    "\n",
    "import nltk\n",
    "nltk.download('stopwords')\n",
    "from nltk.corpus import stopwords\n",
    "from nltk.tokenize import word_tokenize\n",
    "from nltk.stem.wordnet import WordNetLemmatizer  # default lemmatizer\n",
    "\n",
    "# Visualization\n",
    "%matplotlib inline\n",
    "import matplotlib.pyplot as plt\n",
    "plt.style.use('raph-base')\n",
    "import seaborn as sns "
   ]
  },
  {
   "cell_type": "markdown",
   "metadata": {},
   "source": [
    "## Load and Prepare Lexicon\n",
    "The NRC Valence, Arousal, and Dominance (VAD) Lexicon includes a list of more than 20,000 English words and their valence, arousal, and dominance scores. For a given word and a dimension (V/A/D), the scores range from 0 (lowest V/A/D) to 1 (highest V/A/D). Reading the lexicon into a Pandas DataFrame requires a little tweaking / cleaning first."
   ]
  },
  {
   "cell_type": "code",
   "execution_count": 2,
   "metadata": {},
   "outputs": [],
   "source": [
    "with open('data/raw/NRC-VAD-Lexicon.txt') as file:\n",
    "    data_list = []\n",
    "    line = file.readline()\n",
    "    while line:\n",
    "        data_list.append(str(line))\n",
    "        line = file.readline()"
   ]
  },
  {
   "cell_type": "code",
   "execution_count": 3,
   "metadata": {},
   "outputs": [
    {
     "data": {
      "text/plain": [
       "['Word\\tValence\\tArousal\\tDominance\\n',\n",
       " 'aaaaaaah\\t0.479\\t0.606\\t0.291\\n',\n",
       " 'aaaah\\t0.520\\t0.636\\t0.282\\n',\n",
       " 'aardvark\\t0.427\\t0.490\\t0.437\\n',\n",
       " 'aback\\t0.385\\t0.407\\t0.288\\n']"
      ]
     },
     "execution_count": 3,
     "metadata": {},
     "output_type": "execute_result"
    }
   ],
   "source": [
    "# Check results\n",
    "data_list[:5]"
   ]
  },
  {
   "cell_type": "code",
   "execution_count": 4,
   "metadata": {},
   "outputs": [],
   "source": [
    "# Split and clean\n",
    "data_list2 = [x.replace('\\n', '').split('\\t') for x in data_list]"
   ]
  },
  {
   "cell_type": "code",
   "execution_count": 5,
   "metadata": {},
   "outputs": [],
   "source": [
    "vad_lexicon = pd.DataFrame(data_list2[1:], columns=data_list2[0], dtype=float)\n",
    "vad_lexicon.columns = (col.lower() for col in vad_lexicon.columns)"
   ]
  },
  {
   "cell_type": "code",
   "execution_count": 6,
   "metadata": {
    "scrolled": true
   },
   "outputs": [
    {
     "data": {
      "text/html": [
       "<div>\n",
       "<style scoped>\n",
       "    .dataframe tbody tr th:only-of-type {\n",
       "        vertical-align: middle;\n",
       "    }\n",
       "\n",
       "    .dataframe tbody tr th {\n",
       "        vertical-align: top;\n",
       "    }\n",
       "\n",
       "    .dataframe thead th {\n",
       "        text-align: right;\n",
       "    }\n",
       "</style>\n",
       "<table border=\"1\" class=\"dataframe\">\n",
       "  <thead>\n",
       "    <tr style=\"text-align: right;\">\n",
       "      <th></th>\n",
       "      <th>word</th>\n",
       "      <th>valence</th>\n",
       "      <th>arousal</th>\n",
       "      <th>dominance</th>\n",
       "    </tr>\n",
       "  </thead>\n",
       "  <tbody>\n",
       "    <tr>\n",
       "      <th>1860</th>\n",
       "      <td>bloodshed</td>\n",
       "      <td>0.048</td>\n",
       "      <td>0.942</td>\n",
       "      <td>0.525</td>\n",
       "    </tr>\n",
       "  </tbody>\n",
       "</table>\n",
       "</div>"
      ],
      "text/plain": [
       "           word  valence  arousal  dominance\n",
       "1860  bloodshed    0.048    0.942      0.525"
      ]
     },
     "metadata": {},
     "output_type": "display_data"
    }
   ],
   "source": [
    "# Check results ...\n",
    "display(vad_lexicon.iloc[[1860]])"
   ]
  },
  {
   "cell_type": "markdown",
   "metadata": {},
   "source": [
    "Exactly what we are looking for: low valence, high arousal ... ;-) \n",
    "\n",
    "We can also see that `dominance` is quite neutral and probably no feature that will be of further help. To more easily filter and analize for words with a combination of low-valence and high-arousal I will create a new feature `anti-valence` that is (1 - valance). Then we can simply sum the 2 scores to get a `word brutality index (WBI)`. (To land in a range between 0 and 1 we will normalize it using sklearn's minmax_scaler.)\n",
    "\n",
    "_Note to myself: If I would like to compare with the results of other artists, I would have to use the same scaling factors. This is not implemented yet._"
   ]
  },
  {
   "cell_type": "code",
   "execution_count": 7,
   "metadata": {},
   "outputs": [],
   "source": [
    "lexicon = vad_lexicon.copy()\n",
    "lexicon['anti_valence'] = lexicon['valence'].apply(lambda x: 1-x)\n",
    "wbi = minmax_scale(lexicon['anti_valence'] + lexicon['arousal'])\n",
    "lexicon['wbi'] = wbi\n",
    "lexicon.drop(['valence', 'dominance'], axis=1, inplace=True)"
   ]
  },
  {
   "cell_type": "code",
   "execution_count": 8,
   "metadata": {},
   "outputs": [
    {
     "data": {
      "text/html": [
       "<div>\n",
       "<style scoped>\n",
       "    .dataframe tbody tr th:only-of-type {\n",
       "        vertical-align: middle;\n",
       "    }\n",
       "\n",
       "    .dataframe tbody tr th {\n",
       "        vertical-align: top;\n",
       "    }\n",
       "\n",
       "    .dataframe thead th {\n",
       "        text-align: right;\n",
       "    }\n",
       "</style>\n",
       "<table border=\"1\" class=\"dataframe\">\n",
       "  <thead>\n",
       "    <tr style=\"text-align: right;\">\n",
       "      <th></th>\n",
       "      <th>word</th>\n",
       "      <th>arousal</th>\n",
       "      <th>anti_valence</th>\n",
       "      <th>wbi</th>\n",
       "    </tr>\n",
       "  </thead>\n",
       "  <tbody>\n",
       "    <tr>\n",
       "      <th>8472</th>\n",
       "      <td>homicide</td>\n",
       "      <td>0.973</td>\n",
       "      <td>0.990</td>\n",
       "      <td>1.000000</td>\n",
       "    </tr>\n",
       "    <tr>\n",
       "      <th>11521</th>\n",
       "      <td>murderer</td>\n",
       "      <td>0.960</td>\n",
       "      <td>0.990</td>\n",
       "      <td>0.992746</td>\n",
       "    </tr>\n",
       "    <tr>\n",
       "      <th>9854</th>\n",
       "      <td>killer</td>\n",
       "      <td>0.971</td>\n",
       "      <td>0.959</td>\n",
       "      <td>0.981585</td>\n",
       "    </tr>\n",
       "    <tr>\n",
       "      <th>20</th>\n",
       "      <td>abduction</td>\n",
       "      <td>0.990</td>\n",
       "      <td>0.938</td>\n",
       "      <td>0.980469</td>\n",
       "    </tr>\n",
       "    <tr>\n",
       "      <th>17277</th>\n",
       "      <td>suicidebombing</td>\n",
       "      <td>0.957</td>\n",
       "      <td>0.969</td>\n",
       "      <td>0.979353</td>\n",
       "    </tr>\n",
       "    <tr>\n",
       "      <th>11523</th>\n",
       "      <td>murderous</td>\n",
       "      <td>0.940</td>\n",
       "      <td>0.983</td>\n",
       "      <td>0.977679</td>\n",
       "    </tr>\n",
       "    <tr>\n",
       "      <th>4366</th>\n",
       "      <td>dangerous</td>\n",
       "      <td>0.941</td>\n",
       "      <td>0.980</td>\n",
       "      <td>0.976562</td>\n",
       "    </tr>\n",
       "    <tr>\n",
       "      <th>1035</th>\n",
       "      <td>assassinate</td>\n",
       "      <td>0.969</td>\n",
       "      <td>0.949</td>\n",
       "      <td>0.974888</td>\n",
       "    </tr>\n",
       "    <tr>\n",
       "      <th>386</th>\n",
       "      <td>aggresive</td>\n",
       "      <td>0.971</td>\n",
       "      <td>0.941</td>\n",
       "      <td>0.971540</td>\n",
       "    </tr>\n",
       "    <tr>\n",
       "      <th>1856</th>\n",
       "      <td>bloodbath</td>\n",
       "      <td>0.971</td>\n",
       "      <td>0.940</td>\n",
       "      <td>0.970982</td>\n",
       "    </tr>\n",
       "  </tbody>\n",
       "</table>\n",
       "</div>"
      ],
      "text/plain": [
       "                 word  arousal  anti_valence       wbi\n",
       "8472         homicide    0.973         0.990  1.000000\n",
       "11521        murderer    0.960         0.990  0.992746\n",
       "9854           killer    0.971         0.959  0.981585\n",
       "20          abduction    0.990         0.938  0.980469\n",
       "17277  suicidebombing    0.957         0.969  0.979353\n",
       "11523       murderous    0.940         0.983  0.977679\n",
       "4366        dangerous    0.941         0.980  0.976562\n",
       "1035      assassinate    0.969         0.949  0.974888\n",
       "386         aggresive    0.971         0.941  0.971540\n",
       "1856        bloodbath    0.971         0.940  0.970982"
      ]
     },
     "metadata": {},
     "output_type": "display_data"
    },
    {
     "data": {
      "text/html": [
       "<div>\n",
       "<style scoped>\n",
       "    .dataframe tbody tr th:only-of-type {\n",
       "        vertical-align: middle;\n",
       "    }\n",
       "\n",
       "    .dataframe tbody tr th {\n",
       "        vertical-align: top;\n",
       "    }\n",
       "\n",
       "    .dataframe thead th {\n",
       "        text-align: right;\n",
       "    }\n",
       "</style>\n",
       "<table border=\"1\" class=\"dataframe\">\n",
       "  <thead>\n",
       "    <tr style=\"text-align: right;\">\n",
       "      <th></th>\n",
       "      <th>word</th>\n",
       "      <th>arousal</th>\n",
       "      <th>anti_valence</th>\n",
       "      <th>wbi</th>\n",
       "    </tr>\n",
       "  </thead>\n",
       "  <tbody>\n",
       "    <tr>\n",
       "      <th>19999</th>\n",
       "      <td>zombie</td>\n",
       "      <td>0.648</td>\n",
       "      <td>0.786</td>\n",
       "      <td>0.704799</td>\n",
       "    </tr>\n",
       "  </tbody>\n",
       "</table>\n",
       "</div>"
      ],
      "text/plain": [
       "         word  arousal  anti_valence       wbi\n",
       "19999  zombie    0.648         0.786  0.704799"
      ]
     },
     "metadata": {},
     "output_type": "display_data"
    }
   ],
   "source": [
    "# Check results ...\n",
    "display(lexicon.nlargest(10, 'wbi'))\n",
    "display(lexicon.loc[lexicon['word'] == 'zombie'])"
   ]
  },
  {
   "cell_type": "markdown",
   "metadata": {},
   "source": [
    "Wow, people nowadays definitely seem to be scared a lot more of suicide bombers than of zombies ... how come?"
   ]
  },
  {
   "cell_type": "code",
   "execution_count": 9,
   "metadata": {},
   "outputs": [],
   "source": [
    "# Visualize distribution of 'wbi'\n",
    "\n",
    "def show_wbi_distribution(data, percentiles=[80]):\n",
    "    \"\"\"Show the value distribution of a list of WBI-scores.\"\"\"\n",
    "    \n",
    "    fig, ax = plt.subplots(figsize=(10,6))\n",
    "    sns.distplot(data, color='yellow', bins=30, hist_kws={'edgecolor': 'grey'})\n",
    "    for percentile in percentiles:\n",
    "        qvl = plt.axvline(np.percentile(data, percentile) , color='rebeccapurple', linewidth=2.0)\n",
    "    ax.legend([qvl], [f'Percentiles {percentiles}'], fontsize=10)\n",
    "    ax.set_title('Overal WBI Distribution', fontsize=12)\n",
    "    ax.set_xlabel('Word Brutality Index', fontsize='large')\n",
    "    ax.set_ylabel('Frequency', fontsize='large');"
   ]
  },
  {
   "cell_type": "code",
   "execution_count": 10,
   "metadata": {
    "scrolled": true
   },
   "outputs": [
    {
     "data": {
      "image/png": "[encoded data removed]",
      "text/plain": [
       "<Figure size 720x432 with 1 Axes>"
      ]
     },
     "metadata": {
      "needs_background": "light"
     },
     "output_type": "display_data"
    }
   ],
   "source": [
    "show_wbi_distribution(lexicon['wbi'])"
   ]
  },
  {
   "cell_type": "markdown",
   "metadata": {},
   "source": [
    "Let's say that the top 20% of WBI scores are the 'brutal' words. This will be the threshold we will use when calculating the \"Lyrical Brutality Index\" later on. The threshold is:"
   ]
  },
  {
   "cell_type": "code",
   "execution_count": 11,
   "metadata": {},
   "outputs": [
    {
     "name": "stdout",
     "output_type": "stream",
     "text": [
      "WBI-threshold for 'brutal' words: 0.608\n"
     ]
    }
   ],
   "source": [
    "wbi_threshold = np.percentile(lexicon['wbi'], 80)\n",
    "print(\"WBI-threshold for 'brutal' words:\", round(wbi_threshold, 3))"
   ]
  },
  {
   "cell_type": "code",
   "execution_count": 12,
   "metadata": {},
   "outputs": [],
   "source": [
    "# Save a copy of the lexicon\n",
    "lexicon.to_csv('data/processed/wbi_lexicon_cc.csv', index=False)"
   ]
  },
  {
   "cell_type": "code",
   "execution_count": 13,
   "metadata": {},
   "outputs": [
    {
     "name": "stdout",
     "output_type": "stream",
     "text": [
      "[('aaaaaaah', 0.5334821428571428), ('aaaah', 0.52734375), ('aardvark', 0.4977678571428571), ('aback', 0.4748883928571428), ('abacus', 0.33203125)]\n"
     ]
    }
   ],
   "source": [
    "# Create a lookup dictionary for 'word: wbi'\n",
    "wbi_lookup = dict(zip(lexicon['word'], lexicon['wbi']))\n",
    "print(list(wbi_lookup.items())[:5])"
   ]
  },
  {
   "cell_type": "markdown",
   "metadata": {},
   "source": [
    "## Scrape and Prepare Lyrics\n",
    "\n",
    "Scrape all Cannibal Corpse lyrics from the genius API."
   ]
  },
  {
   "cell_type": "code",
   "execution_count": 14,
   "metadata": {},
   "outputs": [],
   "source": [
    "base = \"https://api.genius.com\"\n",
    "genius_token = credentials.genius_token\n",
    "\n",
    "def get_json(path, params=None, headers=None):\n",
    "    '''Send request and get response in json format.'''\n",
    "\n",
    "    # Generate request URL\n",
    "    requrl = '/'.join([base, path])\n",
    "    token = f\"Bearer {genius_token}\"\n",
    "    if headers:\n",
    "        headers['Authorization'] = token\n",
    "    else:\n",
    "        headers = {\"Authorization\": token}\n",
    "    # Get response object from querying genius api\n",
    "    response = requests.get(url=requrl, params=params, headers=headers)\n",
    "    response.raise_for_status()\n",
    "    return response.json()"
   ]
  },
  {
   "cell_type": "code",
   "execution_count": 15,
   "metadata": {},
   "outputs": [],
   "source": [
    "# Get artist ID\n",
    "\n",
    "name = \"Cannibal Corpse\"\n",
    "\n",
    "def get_artist_id(artist_name):\n",
    "    '''Search Genius API for artist ID via artist name.'''\n",
    "\n",
    "    search = \"/search?q=\"\n",
    "    query = base + search + urllib.parse.quote(artist_name)\n",
    "    request = urllib.request.Request(query)\n",
    "    request.add_header(\"Authorization\", \"Bearer \" + genius_token)\n",
    "#     request.add_header(\"User-Agent\", \"\")  \n",
    "    response = urllib.request.urlopen(request, timeout=3)\n",
    "    raw = response.read()\n",
    "    data = json.loads(raw)['response']['hits']\n",
    "    \n",
    "    return (data[0]['result']['primary_artist']['id'])"
   ]
  },
  {
   "cell_type": "code",
   "execution_count": 16,
   "metadata": {},
   "outputs": [
    {
     "name": "stdout",
     "output_type": "stream",
     "text": [
      "41863\n"
     ]
    }
   ],
   "source": [
    "artist_id = get_artist_id(name)\n",
    "print(artist_id)"
   ]
  },
  {
   "cell_type": "code",
   "execution_count": 17,
   "metadata": {},
   "outputs": [],
   "source": [
    "def get_songlist(artist_id):\n",
    "    '''Get all the song ids and titles from an artist in form of a dict.'''\n",
    "    current_page = 1\n",
    "    next_page = True\n",
    "    songs = [] # to store final song ids\n",
    "    while next_page:\n",
    "        path = f\"artists/{artist_id}/songs/\"\n",
    "        params = {'page': current_page} # the current page\n",
    "        data = get_json(path=path, params=params) # get json of songs\n",
    "        page_songs = data['response']['songs']\n",
    "        if page_songs:\n",
    "            # Add all the songs of current page\n",
    "            songs += page_songs\n",
    "            # Increment current_page value for next loop\n",
    "            current_page += 1\n",
    "            print(f\"Page {current_page} finished scraping\")\n",
    "            # If you don't wanna wait too long to scrape, un-comment this\n",
    "            # if current_page == 2:\n",
    "            #     break\n",
    "        else:\n",
    "            # If page_songs is empty, quit\n",
    "            next_page = False\n",
    "\n",
    "    print(f\"Song id were scraped from {current_page} pages\")\n",
    "\n",
    "    # Get all the song ids, excluding not-primary-artist songs.\n",
    "    songlist = {song[\"id\"]: song['title'].lower() for song in songs\n",
    "                if song[\"primary_artist\"][\"id\"] == artist_id}\n",
    "\n",
    "    return songlist"
   ]
  },
  {
   "cell_type": "code",
   "execution_count": 18,
   "metadata": {},
   "outputs": [
    {
     "name": "stdout",
     "output_type": "stream",
     "text": [
      "Page 2 finished scraping\n",
      "Page 3 finished scraping\n",
      "Page 4 finished scraping\n",
      "Page 5 finished scraping\n",
      "Page 6 finished scraping\n",
      "Page 7 finished scraping\n",
      "Page 8 finished scraping\n",
      "Page 9 finished scraping\n",
      "Page 10 finished scraping\n",
      "Page 11 finished scraping\n",
      "Song id were scraped from 11 pages\n",
      "\n",
      "[(764037, 'absolute hatred'), (715726, 'a cauldron of hate')]\n",
      "# of songs 187\n"
     ]
    }
   ],
   "source": [
    "songlist = get_songlist(artist_id)\n",
    "print(f\"\\n{list(songlist.items())[:2]}\")\n",
    "print(\"# of songs:\", len(songlist))"
   ]
  },
  {
   "cell_type": "code",
   "execution_count": 19,
   "metadata": {},
   "outputs": [
    {
     "name": "stdout",
     "output_type": "stream",
     "text": [
      "# of songs (excluding live performances) 174\n"
     ]
    }
   ],
   "source": [
    "# Remove songs from live albums (they are lyrical duplicates)\n",
    "songlist = {id_: title for id_, title in songlist.items() if \"live\" not in title}\n",
    "print(\"# of songs (excluding live performances):\", len(songlist))"
   ]
  },
  {
   "cell_type": "code",
   "execution_count": 20,
   "metadata": {},
   "outputs": [],
   "source": [
    "def connect_lyrics(song_id):\n",
    "    '''Constructs the path of song lyrics. (Called within next function.)'''\n",
    "\n",
    "    url = f\"songs/{song_id}\"\n",
    "    data = get_json(url)\n",
    "    # Gets the path of song lyrics\n",
    "    path = data['response']['song']['path']\n",
    "    return path\n",
    "\n",
    "def retrieve_lyrics(song_id):\n",
    "    '''Retrieves lyrics from html page.'''\n",
    "\n",
    "    path = connect_lyrics(song_id)\n",
    "    URL = \"http://genius.com\" + path\n",
    "    page = requests.get(URL)\n",
    "    # Extract the page's HTML as a string\n",
    "    html = BeautifulSoup(page.text, \"html.parser\")\n",
    "    # Scrape the song lyrics from the HTML\n",
    "    lyrics = html.find(\"div\", class_=\"lyrics\").get_text()\n",
    "    return lyrics"
   ]
  },
  {
   "cell_type": "code",
   "execution_count": 21,
   "metadata": {},
   "outputs": [],
   "source": [
    "def scrape_lyrics(songlist):\n",
    "    \"\"\"Scrape the lyrics from the songs in a songlist.\"\"\"\n",
    "    lyrics_dict = {}\n",
    "    for song_id, title in tqdm(songlist.items()):\n",
    "        lyrics_dict[title] = retrieve_lyrics(song_id)  \n",
    "    return lyrics_dict"
   ]
  },
  {
   "cell_type": "code",
   "execution_count": 22,
   "metadata": {},
   "outputs": [
    {
     "name": "stderr",
     "output_type": "stream",
     "text": [
      "100%|██████████| 174/174 [07:01<00:00,  2.42s/it]\n"
     ]
    }
   ],
   "source": [
    "lyrics_dict = scrape_lyrics(songlist)"
   ]
  },
  {
   "cell_type": "code",
   "execution_count": 23,
   "metadata": {},
   "outputs": [
    {
     "data": {
      "text/plain": [
       "\"\\n\\nNever leave your nest unguarded\\nNext of kin the first to go\\nAbsolute hatred cast upon the family\\nPayback for the hated one\\n\\nI am the judge, jury, executioner\\nAnd pallbearer all in one\\nProcess of elimination\\nAffirmative action has just begun\\nExpectorate upon your soul\\nMalicious devilry is unleashed ten fold\\nYou cannot hide\\n\\nWitness of my stopping power\\nReaction time is not enough\\nPsychological torment tearing at you sanity\\nIt has to be, it must be done\\n\\nHatred flows, uncontained, feel my wrath\\nThrough the death of your entire tribe\\n\\nHatred flows, uncontained\\nI must achieve my revenge through hatred\\n\\nI've regained my pride\\nVictory's mine\\nYou cannot hide\\nThe footsteps you hear are gonna be mine\\n\\n\""
      ]
     },
     "execution_count": 23,
     "metadata": {},
     "output_type": "execute_result"
    }
   ],
   "source": [
    "# Print sample\n",
    "lyrics_dict['absolute hatred']"
   ]
  },
  {
   "cell_type": "code",
   "execution_count": 24,
   "metadata": {},
   "outputs": [],
   "source": [
    "def process_text(raw_text):\n",
    "    \n",
    "    lemmatizer = WordNetLemmatizer()\n",
    "    stop_words = stopwords.words('english')\n",
    "    \n",
    "    text = re.sub(r\"[^a-zA-Z0-9]\", \" \", raw_text.lower().strip())\n",
    "    tokens = word_tokenize(text)\n",
    "    lemmed = [lemmatizer.lemmatize(word) for word in tokens if word not in stop_words]\n",
    "    lemmed_tokens = [WordNetLemmatizer().lemmatize(w, pos='v') for w in lemmed]  # lemm to verbs, not nouns \n",
    "    return lemmed_tokens"
   ]
  },
  {
   "cell_type": "markdown",
   "metadata": {},
   "source": [
    "**Note:** The lemmatization has a certain effect on the results as for example the words \"torture\" (V: 0.115, D: 0.878) has not exactly the same values as the word \"tortured\" (V: 0.062, D: 0.890). But the differences are fairly small and so I will just go on. (I also have destroyed all word combinations, again the effect will probably be small ...)"
   ]
  },
  {
   "cell_type": "code",
   "execution_count": 25,
   "metadata": {},
   "outputs": [
    {
     "name": "stdout",
     "output_type": "stream",
     "text": [
      "['never', 'leave', 'nest', 'unguarded', 'next', 'kin', 'first', 'go', 'absolute', 'hatred', 'cast', 'upon', 'family', 'payback', 'hat', 'one', 'judge', 'jury', 'executioner', 'pallbearer', 'one', 'process', 'elimination', 'affirmative', 'action', 'begin', 'expectorate', 'upon', 'soul', 'malicious', 'devilry', 'unleash', 'ten', 'fold', 'hide', 'witness', 'stop', 'power', 'reaction', 'time', 'enough', 'psychological', 'torment', 'tear', 'sanity', 'must', 'do', 'hatred', 'flow', 'uncontained', 'feel', 'wrath', 'death', 'entire', 'tribe', 'hatred', 'flow', 'uncontained', 'must', 'achieve', 'revenge', 'hatred', 'regain', 'pride', 'victory', 'mine', 'hide', 'footstep', 'hear', 'gon', 'na', 'mine']\n"
     ]
    }
   ],
   "source": [
    "lyrics_dict_clean = {title: process_text(lyric) for title, lyric in lyrics_dict.items()}\n",
    "# print one sample\n",
    "print(lyrics_dict_clean['absolute hatred'])"
   ]
  },
  {
   "cell_type": "code",
   "execution_count": 26,
   "metadata": {},
   "outputs": [],
   "source": [
    "lyrics_dict_wbi = {}\n",
    "for title, text in lyrics_dict_clean.items():\n",
    "    lyrics_dict_wbi[title] = [wbi_lookup[word] for word in text if word in wbi_lookup.keys()]"
   ]
  },
  {
   "cell_type": "code",
   "execution_count": 27,
   "metadata": {},
   "outputs": [
    {
     "name": "stdout",
     "output_type": "stream",
     "text": [
      "[0.4291294642857142, 0.20256696428571425, 0.6981026785714285, 0.4056919642857142, 0.3928571428571428, 0.4241071428571428, 0.4536830357142857, 0.9146205357142857, 0.4972098214285713, 0.1361607142857143, 0.4854910714285713, 0.2276785714285714, 0.32310267857142855, 0.5150669642857142, 0.5340401785714286, 0.786830357142857, 0.32310267857142855, 0.4408482142857142, 0.8058035714285713, 0.31473214285714285, 0.5396205357142856, 0.4023437499999999, 0.15569196428571425, 0.7907366071428571, 0.6277901785714285, 0.2940848214285714, 0.4776785714285713, 0.5027901785714286, 0.466517857142857, 0.5909598214285714, 0.4352678571428571, 0.6529017857142857, 0.2862723214285714, 0.4866071428571428, 0.8493303571428571, 0.5831473214285714, 0.2762276785714285, 0.4481026785714286, 0.39453124999999994, 0.9146205357142857, 0.25055803571428575, 0.35100446428571425, 0.9475446428571427, 0.8470982142857142, 0.33593750000000006, 0.36328124999999994, 0.9146205357142857, 0.25055803571428575, 0.4481026785714286, 0.3113839285714286, 0.8588169642857142, 0.9146205357142857, 0.34598214285714285, 0.4095982142857143, 0.34933035714285715, 0.31194196428571425, 0.5027901785714286, 0.2779017857142857, 0.31194196428571425]\n"
     ]
    }
   ],
   "source": [
    "# print one sample\n",
    "print(lyrics_dict_wbi['absolute hatred'])"
   ]
  },
  {
   "cell_type": "markdown",
   "metadata": {},
   "source": [
    "## Define and calculate \"Lyrical Brutality Index\"\n",
    "\n",
    "\n",
    "\n",
    "$$Lyrical Brutality Index = \\sqrt{(\\frac{\\text{brutal words}} {\\text{number of words}}) * (\\frac{\\text{number of words}}{\\text{duration}})}  =  \\sqrt{\\frac{\\text{brutal words}} {\\text{duration}}}$$"
   ]
  },
  {
   "cell_type": "code",
   "execution_count": 28,
   "metadata": {},
   "outputs": [],
   "source": [
    "# Visualize distribution of wbi scores over the whole text corpus\n",
    "full_corpus = [score for text in lyrics_dict_wbi.values() for score in text]"
   ]
  },
  {
   "cell_type": "code",
   "execution_count": 29,
   "metadata": {},
   "outputs": [
    {
     "data": {
      "image/png": "[encoded data removed]",
      "text/plain": [
       "<Figure size 720x432 with 1 Axes>"
      ]
     },
     "metadata": {
      "needs_background": "light"
     },
     "output_type": "display_data"
    }
   ],
   "source": [
    "show_wbi_distribution(full_corpus, percentiles=[64])"
   ]
  },
  {
   "cell_type": "code",
   "execution_count": 30,
   "metadata": {},
   "outputs": [
    {
     "data": {
      "text/plain": [
       "0.6116071428571427"
      ]
     },
     "execution_count": 30,
     "metadata": {},
     "output_type": "execute_result"
    }
   ],
   "source": [
    "np.percentile(full_corpus, 64) "
   ]
  },
  {
   "cell_type": "code",
   "execution_count": 31,
   "metadata": {},
   "outputs": [
    {
     "data": {
      "text/plain": [
       "0.5652901785714285"
      ]
     },
     "execution_count": 31,
     "metadata": {},
     "output_type": "execute_result"
    }
   ],
   "source": [
    "np.percentile(lexicon['wbi'], 75)  "
   ]
  },
  {
   "cell_type": "code",
   "execution_count": 32,
   "metadata": {},
   "outputs": [
    {
     "data": {
      "text/plain": [
       "0.23728813559322035"
      ]
     },
     "execution_count": 32,
     "metadata": {},
     "output_type": "execute_result"
    }
   ],
   "source": [
    "np.sum(lyrics_dict_wbi['absolute hatred'] > wbi_threshold) / len(lyrics_dict_wbi['absolute hatred'])"
   ]
  },
  {
   "cell_type": "code",
   "execution_count": 39,
   "metadata": {},
   "outputs": [],
   "source": [
    "def calculate_lb_features(text, wbi_treshold=wbi_threshold):\n",
    "    total_words = len(text)\n",
    "    brutal_words = np.sum(text > wbi_threshold)\n",
    "    brutal_prop = brutal_words / total_words\n",
    "    \n",
    "    return total_words, brutal_words, brutal_prop"
   ]
  },
  {
   "cell_type": "code",
   "execution_count": 41,
   "metadata": {},
   "outputs": [
    {
     "name": "stdout",
     "output_type": "stream",
     "text": [
      "[('absolute hatred', (59, 14, 0.23728813559322035)), ('a cauldron of hate', (132, 59, 0.44696969696969696))]\n"
     ]
    }
   ],
   "source": [
    "# Create a Dataframe with the lb features\n",
    "lb_features_dict = {title: calculate_lb_features(text) for title, text in lyrics_dict_wbi.items()}\n",
    "print(list(lb_features_dict.items())[:2])"
   ]
  },
  {
   "cell_type": "code",
   "execution_count": 46,
   "metadata": {},
   "outputs": [
    {
     "data": {
      "text/html": [
       "<div>\n",
       "<style scoped>\n",
       "    .dataframe tbody tr th:only-of-type {\n",
       "        vertical-align: middle;\n",
       "    }\n",
       "\n",
       "    .dataframe tbody tr th {\n",
       "        vertical-align: top;\n",
       "    }\n",
       "\n",
       "    .dataframe thead th {\n",
       "        text-align: right;\n",
       "    }\n",
       "</style>\n",
       "<table border=\"1\" class=\"dataframe\">\n",
       "  <thead>\n",
       "    <tr style=\"text-align: right;\">\n",
       "      <th></th>\n",
       "      <th>title</th>\n",
       "      <th>total_words</th>\n",
       "      <th>brutal_words</th>\n",
       "      <th>brutal_prop</th>\n",
       "    </tr>\n",
       "  </thead>\n",
       "  <tbody>\n",
       "    <tr>\n",
       "      <th>60</th>\n",
       "      <td>firestorm vengeance</td>\n",
       "      <td>89</td>\n",
       "      <td>56</td>\n",
       "      <td>0.629213</td>\n",
       "    </tr>\n",
       "    <tr>\n",
       "      <th>48</th>\n",
       "      <td>dormant bodies bursting</td>\n",
       "      <td>83</td>\n",
       "      <td>52</td>\n",
       "      <td>0.626506</td>\n",
       "    </tr>\n",
       "    <tr>\n",
       "      <th>104</th>\n",
       "      <td>perverse suffering</td>\n",
       "      <td>134</td>\n",
       "      <td>82</td>\n",
       "      <td>0.611940</td>\n",
       "    </tr>\n",
       "    <tr>\n",
       "      <th>41</th>\n",
       "      <td>demented aggression</td>\n",
       "      <td>109</td>\n",
       "      <td>62</td>\n",
       "      <td>0.568807</td>\n",
       "    </tr>\n",
       "    <tr>\n",
       "      <th>102</th>\n",
       "      <td>only one will die</td>\n",
       "      <td>126</td>\n",
       "      <td>69</td>\n",
       "      <td>0.547619</td>\n",
       "    </tr>\n",
       "  </tbody>\n",
       "</table>\n",
       "</div>"
      ],
      "text/plain": [
       "                       title  total_words  brutal_words  brutal_prop\n",
       "60       firestorm vengeance           89            56     0.629213\n",
       "48   dormant bodies bursting           83            52     0.626506\n",
       "104       perverse suffering          134            82     0.611940\n",
       "41       demented aggression          109            62     0.568807\n",
       "102        only one will die          126            69     0.547619"
      ]
     },
     "execution_count": 46,
     "metadata": {},
     "output_type": "execute_result"
    }
   ],
   "source": [
    "lyric_data = pd.DataFrame(lb_features_dict.keys(), columns=['title'])\n",
    "lyric_data['total_words'] = lyric_data['title'].apply(lambda x: lb_features_dict[x][0])\n",
    "lyric_data['brutal_words'] = lyric_data['title'].apply(lambda x: lb_features_dict[x][1])\n",
    "lyric_data['brutal_prop'] = lyric_data['title'].apply(lambda x: lb_features_dict[x][2])\n",
    "display(lyric_data.sort_values(['brutal_prop'], ascending=False).head())"
   ]
  },
  {
   "cell_type": "code",
   "execution_count": 48,
   "metadata": {},
   "outputs": [
    {
     "data": {
      "image/png": "[encoded data removed]",
      "text/plain": [
       "<Figure size 720x432 with 1 Axes>"
      ]
     },
     "metadata": {
      "needs_background": "light"
     },
     "output_type": "display_data"
    }
   ],
   "source": [
    "show_wbi_distribution(lyric_data['brutal_prop'], percentiles=[0])"
   ]
  },
  {
   "cell_type": "code",
   "execution_count": 50,
   "metadata": {},
   "outputs": [
    {
     "data": {
      "text/plain": [
       "['venomous',\n",
       " 'blood',\n",
       " 'course',\n",
       " 'vein',\n",
       " 'poison',\n",
       " 'indignation',\n",
       " 'much',\n",
       " 'blood',\n",
       " 'callous',\n",
       " 'hand',\n",
       " 'cruelty',\n",
       " 'ruination',\n",
       " 'firestorm',\n",
       " 'vengeance',\n",
       " 'firestorm',\n",
       " 'vengeance',\n",
       " 'seek',\n",
       " 'oppress',\n",
       " 'duress',\n",
       " 'never',\n",
       " 'think',\n",
       " 'day',\n",
       " 'cheek',\n",
       " 'turn',\n",
       " 'body',\n",
       " 'burn',\n",
       " 'tyrant',\n",
       " 'writhe',\n",
       " 'pain',\n",
       " 'mercy',\n",
       " 'merciless',\n",
       " 'time',\n",
       " 'pass',\n",
       " 'flagellate',\n",
       " 'burn',\n",
       " 'scream',\n",
       " 'every',\n",
       " 'lash',\n",
       " 'ravage',\n",
       " 'hall',\n",
       " 'torture',\n",
       " 'death',\n",
       " 'crave',\n",
       " 'retribution',\n",
       " 'wind',\n",
       " 'hatred',\n",
       " 'fan',\n",
       " 'flame',\n",
       " 'reprisal',\n",
       " 'conflagration',\n",
       " 'firestorm',\n",
       " 'vengeance',\n",
       " 'firestorm',\n",
       " 'vengeance',\n",
       " 'firestorm',\n",
       " 'vengeance',\n",
       " 'sear',\n",
       " 'heat',\n",
       " 'char',\n",
       " 'flesh',\n",
       " 'burn',\n",
       " 'judgment',\n",
       " 'punish',\n",
       " 'furious',\n",
       " 'inferno',\n",
       " 'cry',\n",
       " 'pain',\n",
       " 'mercy',\n",
       " 'firestorm',\n",
       " 'payback',\n",
       " 'crime',\n",
       " 'escape',\n",
       " 'hell',\n",
       " 'burn',\n",
       " 'flame',\n",
       " 'consume',\n",
       " 'body',\n",
       " 'burn',\n",
       " 'bone',\n",
       " 'reduce',\n",
       " 'coal',\n",
       " 'oppressor',\n",
       " 'pay',\n",
       " 'firestorm',\n",
       " 'persecution',\n",
       " 'end',\n",
       " 'firestorm',\n",
       " 'despot',\n",
       " 'burn',\n",
       " 'hell',\n",
       " 'firestorm',\n",
       " 'vengeance',\n",
       " 'firestorm',\n",
       " 'vengeance',\n",
       " 'firestorm',\n",
       " 'vengeance']"
      ]
     },
     "execution_count": 50,
     "metadata": {},
     "output_type": "execute_result"
    }
   ],
   "source": [
    "lyrics_dict['firestorm vengeance']"
   ]
  },
  {
   "cell_type": "code",
   "execution_count": 58,
   "metadata": {},
   "outputs": [
    {
     "name": "stdout",
     "output_type": "stream",
     "text": [
      "<class 'pandas.core.frame.DataFrame'>\n",
      "RangeIndex: 144 entries, 0 to 143\n",
      "Data columns (total 7 columns):\n",
      "title           144 non-null object\n",
      "uri             144 non-null object\n",
      "energy          144 non-null float64\n",
      "valence         144 non-null float64\n",
      "danceability    144 non-null float64\n",
      "sbi             144 non-null float64\n",
      "duration_sec    144 non-null float64\n",
      "dtypes: float64(5), object(2)\n",
      "memory usage: 8.0+ KB\n"
     ]
    }
   ],
   "source": [
    "audio_data = pd.read_csv('data/processed/audio_data.csv')\n",
    "audio_data['title'] = audio_data['title'].str.lower() \n",
    "audio_data.info()"
   ]
  },
  {
   "cell_type": "code",
   "execution_count": 69,
   "metadata": {},
   "outputs": [
    {
     "name": "stdout",
     "output_type": "stream",
     "text": [
      "<class 'pandas.core.frame.DataFrame'>\n",
      "Int64Index: 134 entries, 0 to 133\n",
      "Data columns (total 10 columns):\n",
      "title           134 non-null object\n",
      "uri             134 non-null object\n",
      "energy          134 non-null float64\n",
      "valence         134 non-null float64\n",
      "danceability    134 non-null float64\n",
      "sbi             134 non-null float64\n",
      "duration_sec    134 non-null float64\n",
      "total_words     134 non-null int64\n",
      "brutal_words    134 non-null int64\n",
      "brutal_prop     134 non-null float64\n",
      "dtypes: float64(6), int64(2), object(2)\n",
      "memory usage: 11.5+ KB\n"
     ]
    }
   ],
   "source": [
    "song_data = pd.merge(audio_data, temp_df, on='title', how='inner')\n",
    "song_data.info()"
   ]
  },
  {
   "cell_type": "markdown",
   "metadata": {},
   "source": [
    "After merging the audio and lyrics data we have 134 songs remaining. None of the ones that could not be matched with the audio data had a particularly high sbi. And only a very few had reasonably high proportion of brutal words."
   ]
  },
  {
   "cell_type": "code",
   "execution_count": 71,
   "metadata": {},
   "outputs": [
    {
     "data": {
      "text/html": [
       "<div>\n",
       "<style scoped>\n",
       "    .dataframe tbody tr th:only-of-type {\n",
       "        vertical-align: middle;\n",
       "    }\n",
       "\n",
       "    .dataframe tbody tr th {\n",
       "        vertical-align: top;\n",
       "    }\n",
       "\n",
       "    .dataframe thead th {\n",
       "        text-align: right;\n",
       "    }\n",
       "</style>\n",
       "<table border=\"1\" class=\"dataframe\">\n",
       "  <thead>\n",
       "    <tr style=\"text-align: right;\">\n",
       "      <th></th>\n",
       "      <th>title</th>\n",
       "      <th>uri</th>\n",
       "      <th>energy</th>\n",
       "      <th>valence</th>\n",
       "      <th>danceability</th>\n",
       "      <th>sbi</th>\n",
       "      <th>duration_sec</th>\n",
       "      <th>total_words</th>\n",
       "      <th>brutal_words</th>\n",
       "      <th>brutal_prop</th>\n",
       "      <th>lbi</th>\n",
       "    </tr>\n",
       "  </thead>\n",
       "  <tbody>\n",
       "    <tr>\n",
       "      <th>116</th>\n",
       "      <td>puncture wound massacre</td>\n",
       "      <td>spotify:track:6tNy0SL7YeBrTJmDwTjnzA</td>\n",
       "      <td>0.993</td>\n",
       "      <td>0.0377</td>\n",
       "      <td>0.311</td>\n",
       "      <td>0.977529</td>\n",
       "      <td>101.200</td>\n",
       "      <td>142</td>\n",
       "      <td>71</td>\n",
       "      <td>0.500000</td>\n",
       "      <td>0.701581</td>\n",
       "    </tr>\n",
       "    <tr>\n",
       "      <th>106</th>\n",
       "      <td>unite the dead</td>\n",
       "      <td>spotify:track:1pG92XKUDXo3FQxzqNaSGH</td>\n",
       "      <td>0.982</td>\n",
       "      <td>0.0954</td>\n",
       "      <td>0.194</td>\n",
       "      <td>0.942506</td>\n",
       "      <td>185.333</td>\n",
       "      <td>164</td>\n",
       "      <td>85</td>\n",
       "      <td>0.518293</td>\n",
       "      <td>0.458634</td>\n",
       "    </tr>\n",
       "    <tr>\n",
       "      <th>47</th>\n",
       "      <td>pounded into dust</td>\n",
       "      <td>spotify:track:6jZQyjwjxG1neT2GapMsoz</td>\n",
       "      <td>0.989</td>\n",
       "      <td>0.1240</td>\n",
       "      <td>0.306</td>\n",
       "      <td>0.930787</td>\n",
       "      <td>136.626</td>\n",
       "      <td>112</td>\n",
       "      <td>60</td>\n",
       "      <td>0.535714</td>\n",
       "      <td>0.439155</td>\n",
       "    </tr>\n",
       "    <tr>\n",
       "      <th>84</th>\n",
       "      <td>dormant bodies bursting</td>\n",
       "      <td>spotify:track:0G074Tus7GLgG5Pr5IpsA0</td>\n",
       "      <td>0.997</td>\n",
       "      <td>0.0579</td>\n",
       "      <td>0.392</td>\n",
       "      <td>0.969161</td>\n",
       "      <td>120.333</td>\n",
       "      <td>83</td>\n",
       "      <td>52</td>\n",
       "      <td>0.626506</td>\n",
       "      <td>0.432134</td>\n",
       "    </tr>\n",
       "    <tr>\n",
       "      <th>82</th>\n",
       "      <td>savage butchery</td>\n",
       "      <td>spotify:track:2P1mkEgYZN0Y1r4p9hUYey</td>\n",
       "      <td>0.998</td>\n",
       "      <td>0.1390</td>\n",
       "      <td>0.239</td>\n",
       "      <td>0.926972</td>\n",
       "      <td>110.893</td>\n",
       "      <td>87</td>\n",
       "      <td>46</td>\n",
       "      <td>0.528736</td>\n",
       "      <td>0.414814</td>\n",
       "    </tr>\n",
       "  </tbody>\n",
       "</table>\n",
       "</div>"
      ],
      "text/plain": [
       "                       title                                   uri  energy  \\\n",
       "116  puncture wound massacre  spotify:track:6tNy0SL7YeBrTJmDwTjnzA   0.993   \n",
       "106           unite the dead  spotify:track:1pG92XKUDXo3FQxzqNaSGH   0.982   \n",
       "47         pounded into dust  spotify:track:6jZQyjwjxG1neT2GapMsoz   0.989   \n",
       "84   dormant bodies bursting  spotify:track:0G074Tus7GLgG5Pr5IpsA0   0.997   \n",
       "82           savage butchery  spotify:track:2P1mkEgYZN0Y1r4p9hUYey   0.998   \n",
       "\n",
       "     valence  danceability       sbi  duration_sec  total_words  brutal_words  \\\n",
       "116   0.0377         0.311  0.977529       101.200          142            71   \n",
       "106   0.0954         0.194  0.942506       185.333          164            85   \n",
       "47    0.1240         0.306  0.930787       136.626          112            60   \n",
       "84    0.0579         0.392  0.969161       120.333           83            52   \n",
       "82    0.1390         0.239  0.926972       110.893           87            46   \n",
       "\n",
       "     brutal_prop       lbi  \n",
       "116     0.500000  0.701581  \n",
       "106     0.518293  0.458634  \n",
       "47      0.535714  0.439155  \n",
       "84      0.626506  0.432134  \n",
       "82      0.528736  0.414814  "
      ]
     },
     "metadata": {},
     "output_type": "display_data"
    }
   ],
   "source": [
    "# Finally calculate the lbi\n",
    "song_data['lbi'] = song_data['brutal_words'] / song_data['duration_sec']\n",
    "display(song_data.nlargest(5, 'lbi'))"
   ]
  },
  {
   "cell_type": "code",
   "execution_count": null,
   "metadata": {},
   "outputs": [],
   "source": [
    "LBI HAS TO BE NORMALIZED???, SBI TOO???"
   ]
  }
 ],
 "metadata": {
  "hide_input": false,
  "kernelspec": {
   "display_name": "sounds",
   "language": "python",
   "name": "sounds"
  },
  "language_info": {
   "codemirror_mode": {
    "name": "ipython",
    "version": 3
   },
   "file_extension": ".py",
   "mimetype": "text/x-python",
   "name": "python",
   "nbconvert_exporter": "python",
   "pygments_lexer": "ipython3",
   "version": "3.7.6"
  },
  "toc": {
   "base_numbering": 1,
   "nav_menu": {},
   "number_sections": true,
   "sideBar": false,
   "skip_h1_title": true,
   "title_cell": "Table of Contents",
   "title_sidebar": "Contents",
   "toc_cell": true,
   "toc_position": {},
   "toc_section_display": true,
   "toc_window_display": false
  }
 },
 "nbformat": 4,
 "nbformat_minor": 2
}
