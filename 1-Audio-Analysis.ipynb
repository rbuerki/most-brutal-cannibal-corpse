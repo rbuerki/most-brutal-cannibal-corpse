{
 "cells": [
  {
   "cell_type": "markdown",
   "metadata": {},
   "source": [
    "# Analyzing The 'Sonic Brutality' of Songs, Using The Spotify API\n",
    "\n",
    "A walkthrough, exploring the Spotify API / spotipy wrapper. Calculating a 'Sonic Brutality Index' for all Cannibal Corpse songs.\n",
    "\n",
    "**Resources**\n",
    "\n",
    "- [Spotify Web API reference](https://developer.spotify.com/documentation/web-api/reference/)\n",
    "- [Spotipy docs (Python Wrapper)](https://spotipy.readthedocs.io/en/latest/)\n",
    "\n",
    "\n",
    "**Data Output:**\n",
    "\n",
    "- `data/interim/audio_data.csv`: DataFrame of all CC tracks with \"Sonic Brutality Index\"\n",
    "\n",
    "**Changes**\n",
    "\n",
    "- 2019-01-18: Start project\n",
    "- 2020-01-25: Complete audio analysis\n",
    "- 2020-02-08: Refactor some parts\n"
   ]
  },
  {
   "cell_type": "markdown",
   "metadata": {
    "toc": true
   },
   "source": [
    "<h1>Table of Contents<span class=\"tocSkip\"></span></h1>\n",
    "<div class=\"toc\"><ul class=\"toc-item\"><li><span><a href=\"#Import-libraries,-instantiate-Spotipy-client\" data-toc-modified-id=\"Import-libraries,-instantiate-Spotipy-client-1\"><span class=\"toc-item-num\">1&nbsp;&nbsp;</span>Import libraries, instantiate Spotipy client</a></span></li><li><span><a href=\"#Request-data-from-the-Spotify-API\" data-toc-modified-id=\"Request-data-from-the-Spotify-API-2\"><span class=\"toc-item-num\">2&nbsp;&nbsp;</span>Request data from the Spotify API</a></span><ul class=\"toc-item\"><li><span><a href=\"#Artist\" data-toc-modified-id=\"Artist-2.1\"><span class=\"toc-item-num\">2.1&nbsp;&nbsp;</span>Artist</a></span></li><li><span><a href=\"#Trackslist\" data-toc-modified-id=\"Trackslist-2.2\"><span class=\"toc-item-num\">2.2&nbsp;&nbsp;</span>Trackslist</a></span></li><li><span><a href=\"#Audio-Features\" data-toc-modified-id=\"Audio-Features-2.3\"><span class=\"toc-item-num\">2.3&nbsp;&nbsp;</span>Audio Features</a></span></li></ul></li><li><span><a href=\"#Analyse-Songs\" data-toc-modified-id=\"Analyse-Songs-3\"><span class=\"toc-item-num\">3&nbsp;&nbsp;</span>Analyse Songs</a></span><ul class=\"toc-item\"><li><span><a href=\"#Prepare-dataframe\" data-toc-modified-id=\"Prepare-dataframe-3.1\"><span class=\"toc-item-num\">3.1&nbsp;&nbsp;</span>Prepare dataframe</a></span></li><li><span><a href='#Calculate-\"Sonic-Brutality-Index\"' data-toc-modified-id='Calculate-\"Sonic-Brutality-Index\"-3.2'><span class=\"toc-item-num\">3.2&nbsp;&nbsp;</span>Calculate \"Sonic Brutality Index\"</a></span></li></ul></li><li><span><a href=\"#Appendix:-Compare-Sonic-Brutality-of-Cannibal-Corpse-and-Cannabis-Corpse\" data-toc-modified-id=\"Appendix:-Compare-Sonic-Brutality-of-Cannibal-Corpse-and-Cannabis-Corpse-4\"><span class=\"toc-item-num\">4&nbsp;&nbsp;</span>Appendix: Compare Sonic Brutality of Cannibal Corpse and Cannabis Corpse</a></span></li></ul></div>"
   ]
  },
  {
   "cell_type": "markdown",
   "metadata": {},
   "source": [
    "---"
   ]
  },
  {
   "cell_type": "markdown",
   "metadata": {},
   "source": [
    "## Import libraries, instantiate Spotipy client"
   ]
  },
  {
   "cell_type": "code",
   "execution_count": 1,
   "metadata": {
    "ExecuteTime": {
     "end_time": "2020-02-09T06:57:32.900639Z",
     "start_time": "2020-02-09T06:57:30.485658Z"
    }
   },
   "outputs": [],
   "source": [
    "# Import libraries\n",
    "\n",
    "from pprint import pprint\n",
    "import json\n",
    "import numpy as np\n",
    "import pandas as pd\n",
    "import spotipy\n",
    "from spotipy.oauth2 import SpotifyClientCredentials\n",
    "import credentials  # file where API credentials for spotify / genius are stored\n",
    "\n",
    "\n",
    "# Visualization\n",
    "%matplotlib inline\n",
    "import matplotlib.pyplot as plt\n",
    "plt.style.use('raph-base')\n",
    "import seaborn as sns "
   ]
  },
  {
   "cell_type": "code",
   "execution_count": 2,
   "metadata": {
    "ExecuteTime": {
     "end_time": "2020-02-09T06:57:32.916694Z",
     "start_time": "2020-02-09T06:57:32.900639Z"
    }
   },
   "outputs": [],
   "source": [
    "# Import credentials and instantiate client with authorization\n",
    "\n",
    "SPOTIPY_CLIENT_ID = credentials.client_id\n",
    "SPOTIPY_CLIENT_SECRET = credentials.client_secret\n",
    "\n",
    "client_credentials_manager = SpotifyClientCredentials(client_id=SPOTIPY_CLIENT_ID, \n",
    "                                                      client_secret=SPOTIPY_CLIENT_SECRET)\n",
    "sp = spotipy.Spotify(client_credentials_manager=client_credentials_manager)"
   ]
  },
  {
   "cell_type": "markdown",
   "metadata": {},
   "source": [
    "## Request data from the Spotify API\n",
    "\n",
    "### Artist"
   ]
  },
  {
   "cell_type": "code",
   "execution_count": 3,
   "metadata": {
    "ExecuteTime": {
     "end_time": "2020-02-09T06:57:32.937490Z",
     "start_time": "2020-02-09T06:57:32.920840Z"
    }
   },
   "outputs": [],
   "source": [
    "# Get Artist URI\n",
    "\n",
    "name = \"Cannibal Corpse\"\n",
    "\n",
    "def get_artist_uri(name):\n",
    "    results = sp.search(q='artist:' + name, type='artist')\n",
    "    items = results['artists']['items']\n",
    "    artist_uri = items[0]['uri'] \n",
    "    return artist_uri"
   ]
  },
  {
   "cell_type": "code",
   "execution_count": 4,
   "metadata": {
    "ExecuteTime": {
     "end_time": "2020-02-09T06:57:33.148498Z",
     "start_time": "2020-02-09T06:57:32.942255Z"
    }
   },
   "outputs": [
    {
     "name": "stdout",
     "output_type": "stream",
     "text": [
      "'spotify:artist:0yLwGBQiBqhXOvmTfH2A7n'\n"
     ]
    }
   ],
   "source": [
    "artist_uri = get_artist_uri(name)\n",
    "pprint(artist_uri)"
   ]
  },
  {
   "cell_type": "markdown",
   "metadata": {},
   "source": [
    "### Trackslist\n",
    "\n",
    "The easiest way to query for tracks is as follows:\n",
    "\n",
    "```python\n",
    "results = sp.search(q=artist, limit=50, type='track')\n",
    "for i, t in enumerate(results['tracks']['items']):\n",
    "    print(' ', i, t['name'])\n",
    "```\n",
    "\n",
    "But as the upper limit per request is 50 songs, and CC have released many more than that, so I work around by requesting a list of all their albums, clean it a bit, and then combine all the tracks in one big tracklist."
   ]
  },
  {
   "cell_type": "code",
   "execution_count": 5,
   "metadata": {
    "ExecuteTime": {
     "end_time": "2020-02-09T06:57:33.157602Z",
     "start_time": "2020-02-09T06:57:33.148498Z"
    }
   },
   "outputs": [],
   "source": [
    "# Get Artist albums (dict)\n",
    "# Note: setting title as key catches some duplicates\n",
    "\n",
    "def get_artist_albums(artist_uri):\n",
    "    albums = {}\n",
    "    results = sp.artist_albums(artist_uri, album_type='album', limit=25)\n",
    "    for i, item in enumerate(results['items']):\n",
    "        albums[item['name'].title()] = item['uri']\n",
    "    return albums"
   ]
  },
  {
   "cell_type": "code",
   "execution_count": 6,
   "metadata": {
    "ExecuteTime": {
     "end_time": "2020-02-09T06:57:33.221601Z",
     "start_time": "2020-02-09T06:57:33.161603Z"
    }
   },
   "outputs": [
    {
     "name": "stdout",
     "output_type": "stream",
     "text": [
      "{'A Skeletal Domain': 'spotify:album:3Am2ExqPJjrw51AU2HRJSF',\n",
      " 'Bloodthirst': 'spotify:album:4AObEzsEDC6WOAlJCRL9Pa',\n",
      " 'Butchered At Birth': 'spotify:album:0JuQm6O4YBzXb1M3Ln8eWz',\n",
      " 'Eaten Back To Life': 'spotify:album:7uB1DKYuNh0sGkvJ42K26f',\n",
      " 'Evisceration Plague': 'spotify:album:03jcqKD4ZthRxviJQIPCYf',\n",
      " 'Gallery Of Suicide': 'spotify:album:3fEMj3Nr6Dpu7rFvgi1rg9',\n",
      " 'Global Evisceration': 'spotify:album:4OZFh833qdZrK6DyelNAwS',\n",
      " 'Gore Obsessed': 'spotify:album:4QnPTzLdkNwnvXxjKZ3AgF',\n",
      " 'Kill': 'spotify:album:6ilBwRWtEedIQu4Q0YyIux',\n",
      " 'Live Cannibalism': 'spotify:album:4eqhYFJAudlSc42bj0JKa9',\n",
      " 'Red Before Black': 'spotify:album:2Ecgc9nNxJpXd3gboFPbvz',\n",
      " 'The Bleeding': 'spotify:album:1FOBUa0z9RhKPH0frnWMRa',\n",
      " 'The Bleeding - Reissue': 'spotify:album:18byNZK0g3PGvvebCYQpwm',\n",
      " 'The Wretched Spawn': 'spotify:album:46QEzkj6cg7FxmIHL7zTjR',\n",
      " 'Tomb Of The Mutilated': 'spotify:album:2yPAe2RJCfrfV97c8FKKjb',\n",
      " 'Torture': 'spotify:album:7AaZ6zhZXDKilXqsJ52g8b',\n",
      " 'Torturing And Eviscerating': 'spotify:album:2RInJ5yUQ4HWqQbvMi9QYw',\n",
      " 'Vile': 'spotify:album:6jgJTpnqytev0AHfkpFKFb',\n",
      " 'Vile (Expanded Edition)': 'spotify:album:1azJilCAEtYRe8diadhlr0',\n",
      " 'レッド・ビフォー・ブラック': 'spotify:album:5Hx8vHv9MKuO85gfKzoD1Y'}\n"
     ]
    }
   ],
   "source": [
    "artist_albums = get_artist_albums(artist_uri)\n",
    "pprint(artist_albums)"
   ]
  },
  {
   "cell_type": "code",
   "execution_count": 7,
   "metadata": {
    "ExecuteTime": {
     "end_time": "2020-02-09T06:57:33.237628Z",
     "start_time": "2020-02-09T06:57:33.221601Z"
    }
   },
   "outputs": [],
   "source": [
    "# Manually clean some entries, we want original albums only and no live performances\n",
    "albums_to_delete = ['レッド・ビフォー・ブラック', \n",
    "                     'Vile (Expanded Edition)', \n",
    "                     'The Bleeding - Reissue',\n",
    "                     'Live Cannibalism',\n",
    "                     'Torturing And Eviscerating',\n",
    "                     'Global Evisceration'\n",
    "                   ]\n",
    "def get_clean_album_uri_list(artist_albums, albums_to_delete=albums_to_delete):\n",
    "    if albums_to_delete is not None:\n",
    "        for key in albums_to_delete:\n",
    "            artist_albums.pop(key)  \n",
    "    artist_albums_uri = [uri for uri in artist_albums.values()]\n",
    "    return artist_albums_uri"
   ]
  },
  {
   "cell_type": "code",
   "execution_count": 8,
   "metadata": {
    "ExecuteTime": {
     "end_time": "2020-02-09T06:57:33.245626Z",
     "start_time": "2020-02-09T06:57:33.237628Z"
    }
   },
   "outputs": [
    {
     "name": "stdout",
     "output_type": "stream",
     "text": [
      "['spotify:album:2Ecgc9nNxJpXd3gboFPbvz', 'spotify:album:3Am2ExqPJjrw51AU2HRJSF', 'spotify:album:7AaZ6zhZXDKilXqsJ52g8b', 'spotify:album:03jcqKD4ZthRxviJQIPCYf', 'spotify:album:6ilBwRWtEedIQu4Q0YyIux', 'spotify:album:46QEzkj6cg7FxmIHL7zTjR', 'spotify:album:4QnPTzLdkNwnvXxjKZ3AgF', 'spotify:album:4AObEzsEDC6WOAlJCRL9Pa', 'spotify:album:3fEMj3Nr6Dpu7rFvgi1rg9', 'spotify:album:6jgJTpnqytev0AHfkpFKFb', 'spotify:album:1FOBUa0z9RhKPH0frnWMRa', 'spotify:album:2yPAe2RJCfrfV97c8FKKjb', 'spotify:album:0JuQm6O4YBzXb1M3Ln8eWz', 'spotify:album:7uB1DKYuNh0sGkvJ42K26f']\n"
     ]
    }
   ],
   "source": [
    "artist_albums_uri = get_clean_album_uri_list(artist_albums, albums_to_delete)\n",
    "print(artist_albums_uri)"
   ]
  },
  {
   "cell_type": "code",
   "execution_count": 9,
   "metadata": {
    "ExecuteTime": {
     "end_time": "2020-02-09T06:57:33.277598Z",
     "start_time": "2020-02-09T06:57:33.245626Z"
    }
   },
   "outputs": [],
   "source": [
    "# Get the full tracklist\n",
    "def get_full_tracklist_dict(artist_albums_uri):\n",
    "    tracklist = {}\n",
    "    for album_uri in artist_albums_uri:\n",
    "        album = sp.album(album_uri)\n",
    "        for track in album['tracks']['items']:\n",
    "            tracklist[track['name'].title()] = track['uri']\n",
    "    return tracklist"
   ]
  },
  {
   "cell_type": "code",
   "execution_count": 10,
   "metadata": {
    "ExecuteTime": {
     "end_time": "2020-02-09T06:57:33.781034Z",
     "start_time": "2020-02-09T06:57:33.277598Z"
    }
   },
   "outputs": [
    {
     "name": "stdout",
     "output_type": "stream",
     "text": [
      "('Only One Will Die', 'spotify:track:2VDXsHWJ9L0gFm3bL4Ic1Q')\n",
      "Total tracks: 164\n"
     ]
    }
   ],
   "source": [
    "full_tracklist = get_full_tracklist_dict(artist_albums_uri)\n",
    "print(list(full_tracklist.items())[0])\n",
    "print(\"Total tracks:\", len(full_tracklist))"
   ]
  },
  {
   "cell_type": "markdown",
   "metadata": {},
   "source": [
    "### Audio Features\n",
    "\n",
    "We use the audio features provided by spotify ([see here](https://developer.spotify.com/documentation/web-api/reference/tracks/get-audio-features/)) to determine the sonic brutality of a track. We actually only need `Energy`and `Valence` for that, but in addition let's also have a look at the `Dancability`of Cannibal Corpse. Just for fun.\n",
    "\n",
    "> Energy is a measure from 0.0 to 1.0 and represents a perceptual measure of intensity and activity. Typically, energetic tracks feel fast, loud, and noisy. For example, death metal has high energy, while a Bach prelude scores low on the scale. Perceptual features contributing to this attribute include dynamic range, perceived loudness, timbre, onset rate, and general entropy.\n",
    "    \n",
    "> Valence is a measure from 0.0 to 1.0 describing the musical positiveness conveyed by a track. Tracks with high valence sound more positive (e.g. happy, cheerful, euphoric), while tracks with low valence sound more negative (e.g. sad, depressed, angry). \n",
    "    \n",
    "> Danceability describes how suitable a track is for dancing based on a combination of musical elements including tempo, rhythm stability, beat strength, and overall regularity."
   ]
  },
  {
   "cell_type": "code",
   "execution_count": 11,
   "metadata": {
    "ExecuteTime": {
     "end_time": "2020-02-09T06:57:33.804799Z",
     "start_time": "2020-02-09T06:57:33.784796Z"
    }
   },
   "outputs": [],
   "source": [
    "def get_audio_features_dict(full_tracklist):\n",
    "    audio_features_dict = {}\n",
    "    for uri in list(full_tracklist.values()):\n",
    "        features = sp.audio_features(uri)\n",
    "        audio_features_dict[uri] = {'energy': features[0]['energy'],\n",
    "                                    'valence': features[0]['valence'],\n",
    "                                    'danceability': features[0]['danceability'],\n",
    "                                   }\n",
    "    return audio_features_dict"
   ]
  },
  {
   "cell_type": "code",
   "execution_count": 12,
   "metadata": {
    "ExecuteTime": {
     "end_time": "2020-02-09T06:57:44.158556Z",
     "start_time": "2020-02-09T06:57:33.808795Z"
    }
   },
   "outputs": [
    {
     "name": "stdout",
     "output_type": "stream",
     "text": [
      "retrying ...5secs\n",
      "[('spotify:track:2VDXsHWJ9L0gFm3bL4Ic1Q',\n",
      "  {'danceability': 0.24, 'energy': 0.981, 'valence': 0.217}),\n",
      " ('spotify:track:1M3QUZOIhq8LNkMJ8axsLM',\n",
      "  {'danceability': 0.368, 'energy': 0.994, 'valence': 0.129})]\n"
     ]
    }
   ],
   "source": [
    "audio_features_dict = get_audio_features_dict(full_tracklist)\n",
    "pprint(list(audio_features_dict.items())[:2])"
   ]
  },
  {
   "cell_type": "markdown",
   "metadata": {},
   "source": [
    "## Analyse Songs\n",
    "\n",
    "### Prepare dataframe\n",
    "\n",
    "Getting the songs and features in separate dicts was ok for exploring the Spotify API and Spotipy wrapper, but for our the actual Analyis I prefer to combine everything in a dataframe."
   ]
  },
  {
   "cell_type": "code",
   "execution_count": 13,
   "metadata": {
    "ExecuteTime": {
     "end_time": "2020-02-09T06:57:44.210637Z",
     "start_time": "2020-02-09T06:57:44.158556Z"
    },
    "scrolled": true
   },
   "outputs": [
    {
     "data": {
      "text/html": [
       "<div>\n",
       "<style scoped>\n",
       "    .dataframe tbody tr th:only-of-type {\n",
       "        vertical-align: middle;\n",
       "    }\n",
       "\n",
       "    .dataframe tbody tr th {\n",
       "        vertical-align: top;\n",
       "    }\n",
       "\n",
       "    .dataframe thead th {\n",
       "        text-align: right;\n",
       "    }\n",
       "</style>\n",
       "<table border=\"1\" class=\"dataframe\">\n",
       "  <thead>\n",
       "    <tr style=\"text-align: right;\">\n",
       "      <th></th>\n",
       "      <th>title</th>\n",
       "      <th>uri</th>\n",
       "      <th>features</th>\n",
       "    </tr>\n",
       "  </thead>\n",
       "  <tbody>\n",
       "    <tr>\n",
       "      <th>0</th>\n",
       "      <td>Only One Will Die</td>\n",
       "      <td>spotify:track:2VDXsHWJ9L0gFm3bL4Ic1Q</td>\n",
       "      <td>{'energy': 0.981, 'valence': 0.217, 'danceabil...</td>\n",
       "    </tr>\n",
       "    <tr>\n",
       "      <th>1</th>\n",
       "      <td>Red Before Black</td>\n",
       "      <td>spotify:track:1M3QUZOIhq8LNkMJ8axsLM</td>\n",
       "      <td>{'energy': 0.994, 'valence': 0.129, 'danceabil...</td>\n",
       "    </tr>\n",
       "  </tbody>\n",
       "</table>\n",
       "</div>"
      ],
      "text/plain": [
       "               title                                   uri  \\\n",
       "0  Only One Will Die  spotify:track:2VDXsHWJ9L0gFm3bL4Ic1Q   \n",
       "1   Red Before Black  spotify:track:1M3QUZOIhq8LNkMJ8axsLM   \n",
       "\n",
       "                                            features  \n",
       "0  {'energy': 0.981, 'valence': 0.217, 'danceabil...  \n",
       "1  {'energy': 0.994, 'valence': 0.129, 'danceabil...  "
      ]
     },
     "metadata": {},
     "output_type": "display_data"
    }
   ],
   "source": [
    "temp_df1 = pd.DataFrame(full_tracklist.items(), columns = ['title', 'uri'])\n",
    "temp_df2 = pd.DataFrame(audio_features_dict.items(), columns = ['uri', 'features'])\n",
    "assert len(temp_df1) == len(temp_df2)\n",
    "song_data = pd.merge(temp_df1, temp_df2, on=['uri'])\n",
    "display(song_data.head(2))"
   ]
  },
  {
   "cell_type": "code",
   "execution_count": 14,
   "metadata": {
    "ExecuteTime": {
     "end_time": "2020-02-09T06:57:44.234637Z",
     "start_time": "2020-02-09T06:57:44.214641Z"
    }
   },
   "outputs": [],
   "source": [
    "song_data['energy'] = song_data['uri'].apply(lambda x: audio_features_dict[x]['energy'])\n",
    "song_data['valence'] = song_data['uri'].apply(lambda x: audio_features_dict[x]['valence'])\n",
    "song_data['danceability'] = song_data['uri'].apply(lambda x: audio_features_dict[x]['danceability'])\n",
    "song_data.drop('features', axis=1, inplace=True)"
   ]
  },
  {
   "cell_type": "code",
   "execution_count": 15,
   "metadata": {
    "ExecuteTime": {
     "end_time": "2020-02-09T06:57:44.282638Z",
     "start_time": "2020-02-09T06:57:44.242638Z"
    }
   },
   "outputs": [
    {
     "data": {
      "text/html": [
       "<div>\n",
       "<style scoped>\n",
       "    .dataframe tbody tr th:only-of-type {\n",
       "        vertical-align: middle;\n",
       "    }\n",
       "\n",
       "    .dataframe tbody tr th {\n",
       "        vertical-align: top;\n",
       "    }\n",
       "\n",
       "    .dataframe thead th {\n",
       "        text-align: right;\n",
       "    }\n",
       "</style>\n",
       "<table border=\"1\" class=\"dataframe\">\n",
       "  <thead>\n",
       "    <tr style=\"text-align: right;\">\n",
       "      <th></th>\n",
       "      <th>title</th>\n",
       "      <th>uri</th>\n",
       "      <th>energy</th>\n",
       "      <th>valence</th>\n",
       "      <th>danceability</th>\n",
       "    </tr>\n",
       "  </thead>\n",
       "  <tbody>\n",
       "    <tr>\n",
       "      <th>0</th>\n",
       "      <td>Only One Will Die</td>\n",
       "      <td>spotify:track:2VDXsHWJ9L0gFm3bL4Ic1Q</td>\n",
       "      <td>0.981</td>\n",
       "      <td>0.217</td>\n",
       "      <td>0.240</td>\n",
       "    </tr>\n",
       "    <tr>\n",
       "      <th>1</th>\n",
       "      <td>Red Before Black</td>\n",
       "      <td>spotify:track:1M3QUZOIhq8LNkMJ8axsLM</td>\n",
       "      <td>0.994</td>\n",
       "      <td>0.129</td>\n",
       "      <td>0.368</td>\n",
       "    </tr>\n",
       "  </tbody>\n",
       "</table>\n",
       "</div>"
      ],
      "text/plain": [
       "               title                                   uri  energy  valence  \\\n",
       "0  Only One Will Die  spotify:track:2VDXsHWJ9L0gFm3bL4Ic1Q   0.981    0.217   \n",
       "1   Red Before Black  spotify:track:1M3QUZOIhq8LNkMJ8axsLM   0.994    0.129   \n",
       "\n",
       "   danceability  \n",
       "0         0.240  \n",
       "1         0.368  "
      ]
     },
     "metadata": {},
     "output_type": "display_data"
    }
   ],
   "source": [
    "display(song_data.head(2))"
   ]
  },
  {
   "cell_type": "code",
   "execution_count": 16,
   "metadata": {
    "ExecuteTime": {
     "end_time": "2020-02-09T06:57:45.092946Z",
     "start_time": "2020-02-09T06:57:44.290640Z"
    }
   },
   "outputs": [
    {
     "data": {
      "image/png": "[encoded data removed]",
      "text/plain": [
       "<Figure size 1152x288 with 3 Axes>"
      ]
     },
     "metadata": {
      "needs_background": "light"
     },
     "output_type": "display_data"
    }
   ],
   "source": [
    "fig, axes = plt.subplots(nrows=1, ncols=3, sharex=True, figsize=(16,4))\n",
    "sns.distplot(song_data['valence'], hist_kws={'edgecolor': 'grey'},ax=axes[0])\n",
    "sns.distplot(song_data['energy'], hist_kws={'edgecolor': 'grey'}, ax=axes[1])\n",
    "sns.distplot(song_data['danceability'],hist_kws={'edgecolor': 'grey'},\n",
    "             color=\"grey\", ax=axes[2])\n",
    "\n",
    "axes[0].set_xlabel('Valence', fontsize='large')\n",
    "axes[1].set_xlabel('Energy', fontsize='large')\n",
    "axes[2].set_xlabel('Danceability', fontsize='large')\n",
    "axes[0].set_ylabel('Frequency', fontsize='large');"
   ]
  },
  {
   "cell_type": "code",
   "execution_count": 17,
   "metadata": {
    "ExecuteTime": {
     "end_time": "2020-02-09T06:57:45.131676Z",
     "start_time": "2020-02-09T06:57:45.095006Z"
    }
   },
   "outputs": [
    {
     "name": "stdout",
     "output_type": "stream",
     "text": [
      "track       : From Skin to Liquid\n",
      "from ablbum : Gallery of Suicide\n",
      "audio       : https://p.scdn.co/mp3-preview/b365c4e05003bd21bc5387aa0cc123a319a9a061?cid=4a73009f43b84a8f88e6a857c198ad8f\n",
      "cover art   : https://i.scdn.co/image/ab67616d0000b27330ad46095a88e6fad36ecded\n"
     ]
    }
   ],
   "source": [
    "# Check for outlier with energy value of approx. 0.8 only\n",
    "# And get link to a 30 sek sample\n",
    "\n",
    "low_energy_uri = song_data['uri'].loc[song_data['energy'] == song_data['energy'].min()].values[0]\n",
    "results = sp.track(low_energy_uri)\n",
    "print('track       : ' + results['name'])\n",
    "print('from ablbum : ' + results['album']['name'])\n",
    "print('audio       : ' + results['preview_url'])\n",
    "print('cover art   : ' + results['album']['images'][0]['url'])\n"
   ]
  },
  {
   "cell_type": "markdown",
   "metadata": {},
   "source": [
    "### Calculate \"Sonic Brutality Index\"\n",
    "\n",
    "Using both `energy` and `valence`, we can create an equation for the “Sonic Brutality Index” by calculating the arithmetic mean of `energy` and `1 - valence` (subtracting valence from 1 so that a higher value means it’s more “negative”). This way, the most brutal songs will be those that are both high in energy and low in valence, while equally weighting both.\n",
    "\n",
    "$$\\\\Sonic Brutality Index = \\frac{(1 - valence) + energy}{2}$$"
   ]
  },
  {
   "cell_type": "code",
   "execution_count": 18,
   "metadata": {
    "ExecuteTime": {
     "end_time": "2020-02-09T06:57:45.179677Z",
     "start_time": "2020-02-09T06:57:45.135676Z"
    }
   },
   "outputs": [
    {
     "data": {
      "text/html": [
       "<div>\n",
       "<style scoped>\n",
       "    .dataframe tbody tr th:only-of-type {\n",
       "        vertical-align: middle;\n",
       "    }\n",
       "\n",
       "    .dataframe tbody tr th {\n",
       "        vertical-align: top;\n",
       "    }\n",
       "\n",
       "    .dataframe thead th {\n",
       "        text-align: right;\n",
       "    }\n",
       "</style>\n",
       "<table border=\"1\" class=\"dataframe\">\n",
       "  <thead>\n",
       "    <tr style=\"text-align: right;\">\n",
       "      <th></th>\n",
       "      <th>title</th>\n",
       "      <th>uri</th>\n",
       "      <th>energy</th>\n",
       "      <th>valence</th>\n",
       "      <th>danceability</th>\n",
       "      <th>sbi</th>\n",
       "    </tr>\n",
       "  </thead>\n",
       "  <tbody>\n",
       "    <tr>\n",
       "      <th>0</th>\n",
       "      <td>Only One Will Die</td>\n",
       "      <td>spotify:track:2VDXsHWJ9L0gFm3bL4Ic1Q</td>\n",
       "      <td>0.981</td>\n",
       "      <td>0.217</td>\n",
       "      <td>0.240</td>\n",
       "      <td>0.8820</td>\n",
       "    </tr>\n",
       "    <tr>\n",
       "      <th>1</th>\n",
       "      <td>Red Before Black</td>\n",
       "      <td>spotify:track:1M3QUZOIhq8LNkMJ8axsLM</td>\n",
       "      <td>0.994</td>\n",
       "      <td>0.129</td>\n",
       "      <td>0.368</td>\n",
       "      <td>0.9325</td>\n",
       "    </tr>\n",
       "  </tbody>\n",
       "</table>\n",
       "</div>"
      ],
      "text/plain": [
       "               title                                   uri  energy  valence  \\\n",
       "0  Only One Will Die  spotify:track:2VDXsHWJ9L0gFm3bL4Ic1Q   0.981    0.217   \n",
       "1   Red Before Black  spotify:track:1M3QUZOIhq8LNkMJ8axsLM   0.994    0.129   \n",
       "\n",
       "   danceability     sbi  \n",
       "0         0.240  0.8820  \n",
       "1         0.368  0.9325  "
      ]
     },
     "metadata": {},
     "output_type": "display_data"
    }
   ],
   "source": [
    "def calc_sbi(valence, energy):\n",
    "    sbi = ((1 - valence) + energy) / 2\n",
    "    return sbi\n",
    "    \n",
    "song_data['sbi'] = song_data.apply(lambda x: calc_sbi(x['valence'], x['energy']), axis=1)\n",
    "display(song_data.head(2))"
   ]
  },
  {
   "cell_type": "code",
   "execution_count": 19,
   "metadata": {
    "ExecuteTime": {
     "end_time": "2020-02-09T06:57:45.535677Z",
     "start_time": "2020-02-09T06:57:45.183681Z"
    }
   },
   "outputs": [
    {
     "data": {
      "image/png": "[encoded data removed]",
      "text/plain": [
       "<Figure size 576x288 with 1 Axes>"
      ]
     },
     "metadata": {
      "needs_background": "light"
     },
     "output_type": "display_data"
    }
   ],
   "source": [
    "fig, ax = plt.subplots(figsize=(8,4))\n",
    "sns.distplot(song_data['sbi'], bins=20, hist_kws={'edgecolor': 'grey'})\n",
    "\n",
    "ax.set_title('Distribution of sbi for 164 songs', fontsize=14)\n",
    "ax.set_xlabel('Sonic Brutality Index', fontsize='large')\n",
    "ax.set_ylabel('Frequency', fontsize='large');"
   ]
  },
  {
   "cell_type": "code",
   "execution_count": 20,
   "metadata": {
    "ExecuteTime": {
     "end_time": "2020-02-09T06:57:45.567681Z",
     "start_time": "2020-02-09T06:57:45.539682Z"
    }
   },
   "outputs": [
    {
     "data": {
      "text/html": [
       "<div>\n",
       "<style scoped>\n",
       "    .dataframe tbody tr th:only-of-type {\n",
       "        vertical-align: middle;\n",
       "    }\n",
       "\n",
       "    .dataframe tbody tr th {\n",
       "        vertical-align: top;\n",
       "    }\n",
       "\n",
       "    .dataframe thead th {\n",
       "        text-align: right;\n",
       "    }\n",
       "</style>\n",
       "<table border=\"1\" class=\"dataframe\">\n",
       "  <thead>\n",
       "    <tr style=\"text-align: right;\">\n",
       "      <th></th>\n",
       "      <th>title</th>\n",
       "      <th>sbi</th>\n",
       "    </tr>\n",
       "  </thead>\n",
       "  <tbody>\n",
       "    <tr>\n",
       "      <th>12</th>\n",
       "      <td>High Velocity Impact Spatter</td>\n",
       "      <td>0.97995</td>\n",
       "    </tr>\n",
       "    <tr>\n",
       "      <th>4</th>\n",
       "      <td>Remaimed</td>\n",
       "      <td>0.97915</td>\n",
       "    </tr>\n",
       "    <tr>\n",
       "      <th>98</th>\n",
       "      <td>Sentenced To Burn</td>\n",
       "      <td>0.97910</td>\n",
       "    </tr>\n",
       "    <tr>\n",
       "      <th>81</th>\n",
       "      <td>Sanded Faceless</td>\n",
       "      <td>0.97900</td>\n",
       "    </tr>\n",
       "    <tr>\n",
       "      <th>157</th>\n",
       "      <td>Born In A Casket</td>\n",
       "      <td>0.97835</td>\n",
       "    </tr>\n",
       "  </tbody>\n",
       "</table>\n",
       "</div>"
      ],
      "text/plain": [
       "                            title      sbi\n",
       "12   High Velocity Impact Spatter  0.97995\n",
       "4                        Remaimed  0.97915\n",
       "98              Sentenced To Burn  0.97910\n",
       "81                Sanded Faceless  0.97900\n",
       "157              Born In A Casket  0.97835"
      ]
     },
     "execution_count": 20,
     "metadata": {},
     "output_type": "execute_result"
    }
   ],
   "source": [
    "song_data[['title', 'sbi']].nlargest(5, 'sbi')"
   ]
  },
  {
   "cell_type": "code",
   "execution_count": 21,
   "metadata": {
    "ExecuteTime": {
     "end_time": "2020-02-09T06:57:45.611680Z",
     "start_time": "2020-02-09T06:57:45.567681Z"
    }
   },
   "outputs": [
    {
     "name": "stdout",
     "output_type": "stream",
     "text": [
      "track       : High Velocity Impact Spatter\n",
      "from ablbum : A Skeletal Domain\n",
      "audio       : https://p.scdn.co/mp3-preview/5c8d9c416d2f43696ce70afa3dde9cb8fecf1868?cid=4a73009f43b84a8f88e6a857c198ad8f\n",
      "cover art   : https://i.scdn.co/image/ab67616d0000b273898682ca3585a746e501fce3\n"
     ]
    }
   ],
   "source": [
    "# Check for (musically) most brutal song \n",
    "\n",
    "most_brutal_uri = song_data['uri'].loc[song_data['sbi'] == song_data['sbi'].max()].values[0]\n",
    "results = sp.track(most_brutal_uri)\n",
    "print('track       : ' + results['name'])\n",
    "print('from ablbum : ' + results['album']['name'])\n",
    "print('audio       : ' + results['preview_url'])\n",
    "print('cover art   : ' + results['album']['images'][0]['url'])"
   ]
  },
  {
   "cell_type": "markdown",
   "metadata": {},
   "source": [
    "Youtube-Clip: \n",
    "\n",
    "<a href=\"http://www.youtube.com/watch?feature=player_embedded&v=57WwWg9PD74\n",
    "\" target=\"_blank\"><img src=\"http://img.youtube.com/vi/57WwWg9PD74/0.jpg\" \n",
    "alt=\"Link to Youtube clip\" width=\"240\" height=\"180\" border=\"10\" /></a>"
   ]
  },
  {
   "cell_type": "code",
   "execution_count": 22,
   "metadata": {
    "ExecuteTime": {
     "end_time": "2020-02-09T06:57:45.663676Z",
     "start_time": "2020-02-09T06:57:45.611680Z"
    }
   },
   "outputs": [
    {
     "name": "stdout",
     "output_type": "stream",
     "text": [
      "track       : Rabid\n",
      "from ablbum : Torture\n",
      "audio       : https://p.scdn.co/mp3-preview/bb6155d3c987905c085cf31ed95d532f4ba16795?cid=4a73009f43b84a8f88e6a857c198ad8f\n",
      "cover art   : https://i.scdn.co/image/ab67616d0000b2732d3c8436b5316b6074f407f9\n"
     ]
    }
   ],
   "source": [
    "# For comparision: Lets listen to a not so brutal but danceable track now\n",
    "# (don't expect too much though ...)\n",
    "\n",
    "rabid_uri = song_data['uri'].loc[song_data['title'] == 'Rabid'].values[0]\n",
    "results = sp.track(rabid_uri)\n",
    "print('track       : ' + results['name'])\n",
    "print('from ablbum : ' + results['album']['name'])\n",
    "print('audio       : ' + results['preview_url'])\n",
    "print('cover art   : ' + results['album']['images'][0]['url'])"
   ]
  },
  {
   "cell_type": "markdown",
   "metadata": {},
   "source": [
    "Before we save the data and go on, we will first append the duration of each song to the dataframe. This is something we'll need for the calculation of the \"Lyrical Brutality Index\" in the next notebook."
   ]
  },
  {
   "cell_type": "code",
   "execution_count": 23,
   "metadata": {
    "ExecuteTime": {
     "end_time": "2020-02-09T06:57:45.671675Z",
     "start_time": "2020-02-09T06:57:45.663676Z"
    }
   },
   "outputs": [],
   "source": [
    "def get_duration(list_of_song_uri):\n",
    "    duration_dict = {}\n",
    "    for song_uri in list_of_song_uri:\n",
    "        results = sp.track(song_uri)\n",
    "        duration_dict[song_uri] = results['duration_ms']\n",
    "        \n",
    "    return duration_dict"
   ]
  },
  {
   "cell_type": "code",
   "execution_count": 24,
   "metadata": {
    "ExecuteTime": {
     "end_time": "2020-02-09T06:57:53.339834Z",
     "start_time": "2020-02-09T06:57:45.671675Z"
    }
   },
   "outputs": [
    {
     "name": "stdout",
     "output_type": "stream",
     "text": [
      "retrying ...2secs\n"
     ]
    },
    {
     "data": {
      "text/html": [
       "<div>\n",
       "<style scoped>\n",
       "    .dataframe tbody tr th:only-of-type {\n",
       "        vertical-align: middle;\n",
       "    }\n",
       "\n",
       "    .dataframe tbody tr th {\n",
       "        vertical-align: top;\n",
       "    }\n",
       "\n",
       "    .dataframe thead th {\n",
       "        text-align: right;\n",
       "    }\n",
       "</style>\n",
       "<table border=\"1\" class=\"dataframe\">\n",
       "  <thead>\n",
       "    <tr style=\"text-align: right;\">\n",
       "      <th></th>\n",
       "      <th>title</th>\n",
       "      <th>uri</th>\n",
       "      <th>energy</th>\n",
       "      <th>valence</th>\n",
       "      <th>danceability</th>\n",
       "      <th>sbi</th>\n",
       "      <th>duration_sec</th>\n",
       "    </tr>\n",
       "  </thead>\n",
       "  <tbody>\n",
       "    <tr>\n",
       "      <th>0</th>\n",
       "      <td>Only One Will Die</td>\n",
       "      <td>spotify:track:2VDXsHWJ9L0gFm3bL4Ic1Q</td>\n",
       "      <td>0.981</td>\n",
       "      <td>0.217</td>\n",
       "      <td>0.240</td>\n",
       "      <td>0.8820</td>\n",
       "      <td>204.320</td>\n",
       "    </tr>\n",
       "    <tr>\n",
       "      <th>1</th>\n",
       "      <td>Red Before Black</td>\n",
       "      <td>spotify:track:1M3QUZOIhq8LNkMJ8axsLM</td>\n",
       "      <td>0.994</td>\n",
       "      <td>0.129</td>\n",
       "      <td>0.368</td>\n",
       "      <td>0.9325</td>\n",
       "      <td>192.226</td>\n",
       "    </tr>\n",
       "  </tbody>\n",
       "</table>\n",
       "</div>"
      ],
      "text/plain": [
       "               title                                   uri  energy  valence  \\\n",
       "0  Only One Will Die  spotify:track:2VDXsHWJ9L0gFm3bL4Ic1Q   0.981    0.217   \n",
       "1   Red Before Black  spotify:track:1M3QUZOIhq8LNkMJ8axsLM   0.994    0.129   \n",
       "\n",
       "   danceability     sbi  duration_sec  \n",
       "0         0.240  0.8820       204.320  \n",
       "1         0.368  0.9325       192.226  "
      ]
     },
     "metadata": {},
     "output_type": "display_data"
    }
   ],
   "source": [
    "duration_dict = get_duration(full_tracklist.values())\n",
    "song_data['duration_sec'] = song_data['uri'].apply(lambda x: duration_dict[x] / 1000)  # values are in ms\n",
    "display(song_data.head(2))"
   ]
  },
  {
   "cell_type": "markdown",
   "metadata": {},
   "source": [
    "---"
   ]
  },
  {
   "cell_type": "markdown",
   "metadata": {},
   "source": [
    "## Appendix: Compare Sonic Brutality of Cannibal Corpse and Cannabis Corpse\n",
    "\n",
    "[Cannabis Corpse](https://en.wikipedia.org/wiki/Cannabis_Corpse) started out as some kind of parody of bands like Cannibal Corpse (obviously), Obituary, Death ... But meanwhile they have been around for about 13 years  and six albums. Besides of deserving credit for still finding death metal songs to make pot jokes about, I think they have developed into one of the most consistent death metal bands in general, writing really good music.(And they are a super funny live band!)"
   ]
  },
  {
   "cell_type": "code",
   "execution_count": 25,
   "metadata": {
    "ExecuteTime": {
     "end_time": "2020-02-09T06:57:55.131749Z",
     "start_time": "2020-02-09T06:57:53.340845Z"
    }
   },
   "outputs": [
    {
     "name": "stdout",
     "output_type": "stream",
     "text": [
      "[('spotify:track:3YFR8VPZDxR1euZwXOaYke',\n",
      "  {'danceability': 0.227, 'energy': 0.951, 'valence': 0.184}),\n",
      " ('spotify:track:3FawebmSoA8lo0Qq4sRtlU',\n",
      "  {'danceability': 0.29, 'energy': 0.926, 'valence': 0.213})]\n",
      "\n",
      "Total Number of songs: 60\n"
     ]
    }
   ],
   "source": [
    "# Retrieve data from API\n",
    "\n",
    "name2 = \"Cannabis Corpse\"\n",
    "\n",
    "artist_uri2 = get_artist_uri(name2)\n",
    "artist_albums2 = get_artist_albums(artist_uri2)\n",
    "artist_albums_uri2 = get_clean_album_uri_list(artist_albums2, albums_to_delete=None)\n",
    "full_tracklist2 = get_full_tracklist_dict(artist_albums_uri2)\n",
    "audio_features_dict2 = get_audio_features_dict(full_tracklist2)\n",
    "pprint(list(audio_features_dict2.items())[:2])\n",
    "print(\"\\nTotal Number of songs:\", len(audio_features_dict2))"
   ]
  },
  {
   "cell_type": "code",
   "execution_count": 26,
   "metadata": {
    "ExecuteTime": {
     "end_time": "2020-02-09T06:57:55.169941Z",
     "start_time": "2020-02-09T06:57:55.131749Z"
    }
   },
   "outputs": [],
   "source": [
    "# Construct DataFrame\n",
    "temp_df1 = pd.DataFrame(full_tracklist2.items(), columns = ['title', 'uri'])\n",
    "temp_df2 = pd.DataFrame(audio_features_dict2.items(), columns = ['uri', 'features'])\n",
    "assert len(temp_df1) == len(temp_df2)\n",
    "song_data2 = pd.merge(temp_df1, temp_df2, on=['uri'])\n",
    "\n",
    "song_data2['energy'] = song_data2['uri'].apply(lambda x: audio_features_dict2[x]['energy'])\n",
    "song_data2['valence'] = song_data2['uri'].apply(lambda x: audio_features_dict2[x]['valence'])\n",
    "song_data2['danceability'] = song_data2['uri'].apply(lambda x: audio_features_dict2[x]['danceability'])\n",
    "song_data2.drop('features', axis=1, inplace=True)"
   ]
  },
  {
   "cell_type": "code",
   "execution_count": 27,
   "metadata": {
    "ExecuteTime": {
     "end_time": "2020-02-09T06:57:55.217942Z",
     "start_time": "2020-02-09T06:57:55.185941Z"
    }
   },
   "outputs": [
    {
     "data": {
      "text/html": [
       "<div>\n",
       "<style scoped>\n",
       "    .dataframe tbody tr th:only-of-type {\n",
       "        vertical-align: middle;\n",
       "    }\n",
       "\n",
       "    .dataframe tbody tr th {\n",
       "        vertical-align: top;\n",
       "    }\n",
       "\n",
       "    .dataframe thead th {\n",
       "        text-align: right;\n",
       "    }\n",
       "</style>\n",
       "<table border=\"1\" class=\"dataframe\">\n",
       "  <thead>\n",
       "    <tr style=\"text-align: right;\">\n",
       "      <th></th>\n",
       "      <th>title</th>\n",
       "      <th>uri</th>\n",
       "      <th>energy</th>\n",
       "      <th>valence</th>\n",
       "      <th>danceability</th>\n",
       "      <th>sbi</th>\n",
       "    </tr>\n",
       "  </thead>\n",
       "  <tbody>\n",
       "    <tr>\n",
       "      <th>0</th>\n",
       "      <td>Conquerors Of Chronageddon</td>\n",
       "      <td>spotify:track:3YFR8VPZDxR1euZwXOaYke</td>\n",
       "      <td>0.951</td>\n",
       "      <td>0.184</td>\n",
       "      <td>0.227</td>\n",
       "      <td>0.8835</td>\n",
       "    </tr>\n",
       "    <tr>\n",
       "      <th>1</th>\n",
       "      <td>Nug So Vile</td>\n",
       "      <td>spotify:track:3FawebmSoA8lo0Qq4sRtlU</td>\n",
       "      <td>0.926</td>\n",
       "      <td>0.213</td>\n",
       "      <td>0.290</td>\n",
       "      <td>0.8565</td>\n",
       "    </tr>\n",
       "  </tbody>\n",
       "</table>\n",
       "</div>"
      ],
      "text/plain": [
       "                        title                                   uri  energy  \\\n",
       "0  Conquerors Of Chronageddon  spotify:track:3YFR8VPZDxR1euZwXOaYke   0.951   \n",
       "1                 Nug So Vile  spotify:track:3FawebmSoA8lo0Qq4sRtlU   0.926   \n",
       "\n",
       "   valence  danceability     sbi  \n",
       "0    0.184         0.227  0.8835  \n",
       "1    0.213         0.290  0.8565  "
      ]
     },
     "metadata": {},
     "output_type": "display_data"
    }
   ],
   "source": [
    "# Calculae SBI\n",
    "song_data2['sbi'] = song_data2.apply(lambda x: calc_sbi(x['valence'], x['energy']), axis=1)\n",
    "display(song_data2.head(2))"
   ]
  },
  {
   "cell_type": "code",
   "execution_count": 28,
   "metadata": {
    "ExecuteTime": {
     "end_time": "2020-02-09T06:57:55.257942Z",
     "start_time": "2020-02-09T06:57:55.217942Z"
    }
   },
   "outputs": [
    {
     "name": "stdout",
     "output_type": "stream",
     "text": [
      "Mean Brutality Score for Cannibal Corpse: 0.89\n",
      "Mean Brutality Score for Cannabis Corpse: 0.85\n"
     ]
    }
   ],
   "source": [
    "# Compare Brutality of Cannibal Corpse and Cannabis Corpse\n",
    "print(f\"Mean Brutality Score for {name}: {song_data['sbi'].mean():.2f}\")\n",
    "print(f\"Mean Brutality Score for {name2}: {song_data2['sbi'].mean():.2f}\")"
   ]
  },
  {
   "cell_type": "code",
   "execution_count": 29,
   "metadata": {
    "ExecuteTime": {
     "end_time": "2020-02-09T06:57:55.772360Z",
     "start_time": "2020-02-09T06:57:55.277942Z"
    }
   },
   "outputs": [
    {
     "data": {
      "image/png": "[encoded data removed]",
      "text/plain": [
       "<Figure size 576x288 with 1 Axes>"
      ]
     },
     "metadata": {
      "needs_background": "light"
     },
     "output_type": "display_data"
    }
   ],
   "source": [
    "plt.figure(figsize=(8,4))\n",
    "sns.distplot(song_data['sbi'], bins=20, label=name);\n",
    "sns.distplot(song_data2['sbi'], color='yellow', bins=20, label=name2);\n",
    "plt.legend(loc='upper left');"
   ]
  },
  {
   "cell_type": "markdown",
   "metadata": {},
   "source": [
    "The original is just about a bit more brutal than the 'tribute band'. But not by much ... Cannabis Corpse definitely come very close."
   ]
  },
  {
   "cell_type": "code",
   "execution_count": 30,
   "metadata": {
    "ExecuteTime": {
     "end_time": "2020-02-09T06:57:55.819858Z",
     "start_time": "2020-02-09T06:57:55.772360Z"
    }
   },
   "outputs": [
    {
     "name": "stdout",
     "output_type": "stream",
     "text": [
      "track       : I Cum Bud\n",
      "from ablbum : Blunted at Birth\n",
      "audio       : https://p.scdn.co/mp3-preview/12fb2294c21479731e01a25bf814e1ff5bc9d246?cid=4a73009f43b84a8f88e6a857c198ad8f\n",
      "cover art   : https://i.scdn.co/image/ab67616d0000b273e401d75c45b023c7194242f3\n"
     ]
    }
   ],
   "source": [
    "# Check-out most brutal Cannabis Corpse song\n",
    "most_brutal_uri2 = song_data2['uri'].loc[song_data2['sbi'] == song_data2['sbi'].max()].values[0]\n",
    "results = sp.track(most_brutal_uri2)\n",
    "print('track       : ' + results['name'])\n",
    "print('from ablbum : ' + results['album']['name'])\n",
    "print('audio       : ' + results['preview_url'])\n",
    "print('cover art   : ' + results['album']['images'][0]['url'])"
   ]
  },
  {
   "cell_type": "code",
   "execution_count": 31,
   "metadata": {
    "ExecuteTime": {
     "end_time": "2020-02-09T06:57:55.861796Z",
     "start_time": "2020-02-09T06:57:55.825727Z"
    }
   },
   "outputs": [
    {
     "data": {
      "text/html": [
       "<div>\n",
       "<style scoped>\n",
       "    .dataframe tbody tr th:only-of-type {\n",
       "        vertical-align: middle;\n",
       "    }\n",
       "\n",
       "    .dataframe tbody tr th {\n",
       "        vertical-align: top;\n",
       "    }\n",
       "\n",
       "    .dataframe thead th {\n",
       "        text-align: right;\n",
       "    }\n",
       "</style>\n",
       "<table border=\"1\" class=\"dataframe\">\n",
       "  <thead>\n",
       "    <tr style=\"text-align: right;\">\n",
       "      <th></th>\n",
       "      <th>title</th>\n",
       "      <th>uri</th>\n",
       "      <th>energy</th>\n",
       "      <th>valence</th>\n",
       "      <th>danceability</th>\n",
       "      <th>sbi</th>\n",
       "    </tr>\n",
       "  </thead>\n",
       "  <tbody>\n",
       "    <tr>\n",
       "      <th>36</th>\n",
       "      <td>I Cum Bud</td>\n",
       "      <td>spotify:track:4FmDKCCpfbQoAy8svpRAYO</td>\n",
       "      <td>0.996</td>\n",
       "      <td>0.0367</td>\n",
       "      <td>0.307</td>\n",
       "      <td>0.97965</td>\n",
       "    </tr>\n",
       "  </tbody>\n",
       "</table>\n",
       "</div>"
      ],
      "text/plain": [
       "        title                                   uri  energy  valence  \\\n",
       "36  I Cum Bud  spotify:track:4FmDKCCpfbQoAy8svpRAYO   0.996   0.0367   \n",
       "\n",
       "    danceability      sbi  \n",
       "36         0.307  0.97965  "
      ]
     },
     "execution_count": 31,
     "metadata": {},
     "output_type": "execute_result"
    }
   ],
   "source": [
    "song_data2.nlargest(1, 'sbi')"
   ]
  },
  {
   "cell_type": "markdown",
   "metadata": {},
   "source": [
    "---"
   ]
  },
  {
   "cell_type": "markdown",
   "metadata": {
    "ExecuteTime": {
     "end_time": "2020-02-08T21:50:31.889668Z",
     "start_time": "2020-02-08T21:50:31.874029Z"
    }
   },
   "source": [
    "... one more thing, somewhat belated: Create a mapping of songtitles with respective albums and merge it into the Cannibal Corpse `song_data` DataFrame. I will use this for some extra-analysis in the appendix of the 2nd notebook only ..."
   ]
  },
  {
   "cell_type": "code",
   "execution_count": 32,
   "metadata": {
    "ExecuteTime": {
     "end_time": "2020-02-09T06:57:55.885795Z",
     "start_time": "2020-02-09T06:57:55.869801Z"
    }
   },
   "outputs": [],
   "source": [
    "def match_tracks_to_albums(artist_albums_uri):\n",
    "    track_to_albums = []\n",
    "    for album_uri in artist_albums_uri:\n",
    "        album = sp.album(album_uri)\n",
    "        for track in album['tracks']['items']:\n",
    "            track_to_albums.append((track['name'].title(), album['name'], album['release_date']))\n",
    "    return track_to_albums"
   ]
  },
  {
   "cell_type": "code",
   "execution_count": 33,
   "metadata": {
    "ExecuteTime": {
     "end_time": "2020-02-09T06:57:56.342474Z",
     "start_time": "2020-02-09T06:57:55.885795Z"
    }
   },
   "outputs": [],
   "source": [
    "track_to_albums = match_tracks_to_albums(artist_albums_uri)"
   ]
  },
  {
   "cell_type": "code",
   "execution_count": 34,
   "metadata": {
    "ExecuteTime": {
     "end_time": "2020-02-09T06:57:56.365516Z",
     "start_time": "2020-02-09T06:57:56.342474Z"
    }
   },
   "outputs": [
    {
     "data": {
      "text/html": [
       "<div>\n",
       "<style scoped>\n",
       "    .dataframe tbody tr th:only-of-type {\n",
       "        vertical-align: middle;\n",
       "    }\n",
       "\n",
       "    .dataframe tbody tr th {\n",
       "        vertical-align: top;\n",
       "    }\n",
       "\n",
       "    .dataframe thead th {\n",
       "        text-align: right;\n",
       "    }\n",
       "</style>\n",
       "<table border=\"1\" class=\"dataframe\">\n",
       "  <thead>\n",
       "    <tr style=\"text-align: right;\">\n",
       "      <th></th>\n",
       "      <th>title</th>\n",
       "      <th>album</th>\n",
       "      <th>year</th>\n",
       "    </tr>\n",
       "  </thead>\n",
       "  <tbody>\n",
       "    <tr>\n",
       "      <th>0</th>\n",
       "      <td>Only One Will Die</td>\n",
       "      <td>Red Before Black</td>\n",
       "      <td>2017</td>\n",
       "    </tr>\n",
       "    <tr>\n",
       "      <th>1</th>\n",
       "      <td>Red Before Black</td>\n",
       "      <td>Red Before Black</td>\n",
       "      <td>2017</td>\n",
       "    </tr>\n",
       "  </tbody>\n",
       "</table>\n",
       "</div>"
      ],
      "text/plain": [
       "               title             album  year\n",
       "0  Only One Will Die  Red Before Black  2017\n",
       "1   Red Before Black  Red Before Black  2017"
      ]
     },
     "execution_count": 34,
     "metadata": {},
     "output_type": "execute_result"
    }
   ],
   "source": [
    "temp_df = pd.DataFrame(track_to_albums, columns=['title', 'album', 'year'])\n",
    "temp_df['year'] = pd.to_datetime(temp_df['year']).dt.year\n",
    "# Check result\n",
    "temp_df.head(2)"
   ]
  },
  {
   "cell_type": "code",
   "execution_count": 35,
   "metadata": {
    "ExecuteTime": {
     "end_time": "2020-02-09T06:57:56.381519Z",
     "start_time": "2020-02-09T06:57:56.365516Z"
    }
   },
   "outputs": [],
   "source": [
    "song_data = pd.merge(temp_df, song_data, on='title', sort='sbi')"
   ]
  },
  {
   "cell_type": "code",
   "execution_count": 36,
   "metadata": {
    "ExecuteTime": {
     "end_time": "2020-02-09T06:57:56.401916Z",
     "start_time": "2020-02-09T06:57:56.381519Z"
    }
   },
   "outputs": [],
   "source": [
    "## Save data\n",
    "song_data.to_csv('data/interim/audio_data.csv', index=False)"
   ]
  }
 ],
 "metadata": {
  "hide_input": false,
  "kernelspec": {
   "display_name": "sounds",
   "language": "python",
   "name": "sounds"
  },
  "language_info": {
   "codemirror_mode": {
    "name": "ipython",
    "version": 3
   },
   "file_extension": ".py",
   "mimetype": "text/x-python",
   "name": "python",
   "nbconvert_exporter": "python",
   "pygments_lexer": "ipython3",
   "version": "3.7.6"
  },
  "toc": {
   "base_numbering": 1,
   "nav_menu": {},
   "number_sections": true,
   "sideBar": false,
   "skip_h1_title": true,
   "title_cell": "Table of Contents",
   "title_sidebar": "Contents",
   "toc_cell": true,
   "toc_position": {},
   "toc_section_display": true,
   "toc_window_display": false
  }
 },
 "nbformat": 4,
 "nbformat_minor": 2
}
